{
 "cells": [
  {
   "cell_type": "code",
   "execution_count": 1,
   "id": "4136fc57",
   "metadata": {},
   "outputs": [],
   "source": [
    "import numpy as np\n",
    "import pandas as pd\n",
    "import matplotlib.pyplot as plt\n",
    "import seaborn as sns"
   ]
  },
  {
   "cell_type": "code",
   "execution_count": 2,
   "id": "b6fdf9b6",
   "metadata": {},
   "outputs": [],
   "source": [
    "df = pd.read_csv('AirBNBReviews.csv') #import in the file\n",
    "pd.set_option('display.max_colwidth', None)"
   ]
  },
  {
   "cell_type": "code",
   "execution_count": 3,
   "id": "31409b46",
   "metadata": {},
   "outputs": [
    {
     "data": {
      "text/html": [
       "<div>\n",
       "<style scoped>\n",
       "    .dataframe tbody tr th:only-of-type {\n",
       "        vertical-align: middle;\n",
       "    }\n",
       "\n",
       "    .dataframe tbody tr th {\n",
       "        vertical-align: top;\n",
       "    }\n",
       "\n",
       "    .dataframe thead th {\n",
       "        text-align: right;\n",
       "    }\n",
       "</style>\n",
       "<table border=\"1\" class=\"dataframe\">\n",
       "  <thead>\n",
       "    <tr style=\"text-align: right;\">\n",
       "      <th></th>\n",
       "      <th>Genre</th>\n",
       "      <th>Review</th>\n",
       "      <th>Positive or Negative</th>\n",
       "    </tr>\n",
       "  </thead>\n",
       "  <tbody>\n",
       "    <tr>\n",
       "      <th>0</th>\n",
       "      <td>Location</td>\n",
       "      <td>The location of this Airbnb was perfect, close to all the popular attractions.</td>\n",
       "      <td>1.0</td>\n",
       "    </tr>\n",
       "    <tr>\n",
       "      <th>1</th>\n",
       "      <td>Cleanliness</td>\n",
       "      <td>The cleanliness of the Airbnb was outstanding, everything was spotless.</td>\n",
       "      <td>1.0</td>\n",
       "    </tr>\n",
       "    <tr>\n",
       "      <th>2</th>\n",
       "      <td>Neighborhood</td>\n",
       "      <td>The neighborhood where this Airbnb is situated was vibrant and full of life.</td>\n",
       "      <td>1.0</td>\n",
       "    </tr>\n",
       "    <tr>\n",
       "      <th>3</th>\n",
       "      <td>Security</td>\n",
       "      <td>I felt completely safe and secure during my stay at this Airbnb.</td>\n",
       "      <td>1.0</td>\n",
       "    </tr>\n",
       "    <tr>\n",
       "      <th>4</th>\n",
       "      <td>Pet Friendliness</td>\n",
       "      <td>They were so welcoming to my pet, it felt like a home away from home.</td>\n",
       "      <td>1.0</td>\n",
       "    </tr>\n",
       "  </tbody>\n",
       "</table>\n",
       "</div>"
      ],
      "text/plain": [
       "               Genre   \n",
       "0           Location  \\\n",
       "1        Cleanliness   \n",
       "2       Neighborhood   \n",
       "3           Security   \n",
       "4   Pet Friendliness   \n",
       "\n",
       "                                                                            Review   \n",
       "0  The location of this Airbnb was perfect, close to all the popular attractions.   \\\n",
       "1         The cleanliness of the Airbnb was outstanding, everything was spotless.    \n",
       "2    The neighborhood where this Airbnb is situated was vibrant and full of life.    \n",
       "3                I felt completely safe and secure during my stay at this Airbnb.    \n",
       "4           They were so welcoming to my pet, it felt like a home away from home.    \n",
       "\n",
       "   Positive or Negative  \n",
       "0                   1.0  \n",
       "1                   1.0  \n",
       "2                   1.0  \n",
       "3                   1.0  \n",
       "4                   1.0  "
      ]
     },
     "execution_count": 3,
     "metadata": {},
     "output_type": "execute_result"
    }
   ],
   "source": [
    "df.head()"
   ]
  },
  {
   "cell_type": "code",
   "execution_count": 4,
   "id": "958000ba",
   "metadata": {
    "scrolled": true
   },
   "outputs": [
    {
     "data": {
      "text/html": [
       "<div>\n",
       "<style scoped>\n",
       "    .dataframe tbody tr th:only-of-type {\n",
       "        vertical-align: middle;\n",
       "    }\n",
       "\n",
       "    .dataframe tbody tr th {\n",
       "        vertical-align: top;\n",
       "    }\n",
       "\n",
       "    .dataframe thead th {\n",
       "        text-align: right;\n",
       "    }\n",
       "</style>\n",
       "<table border=\"1\" class=\"dataframe\">\n",
       "  <thead>\n",
       "    <tr style=\"text-align: right;\">\n",
       "      <th></th>\n",
       "      <th>Positive or Negative</th>\n",
       "    </tr>\n",
       "  </thead>\n",
       "  <tbody>\n",
       "    <tr>\n",
       "      <th>count</th>\n",
       "      <td>341.000000</td>\n",
       "    </tr>\n",
       "    <tr>\n",
       "      <th>mean</th>\n",
       "      <td>0.328446</td>\n",
       "    </tr>\n",
       "    <tr>\n",
       "      <th>std</th>\n",
       "      <td>0.470338</td>\n",
       "    </tr>\n",
       "    <tr>\n",
       "      <th>min</th>\n",
       "      <td>0.000000</td>\n",
       "    </tr>\n",
       "    <tr>\n",
       "      <th>25%</th>\n",
       "      <td>0.000000</td>\n",
       "    </tr>\n",
       "    <tr>\n",
       "      <th>50%</th>\n",
       "      <td>0.000000</td>\n",
       "    </tr>\n",
       "    <tr>\n",
       "      <th>75%</th>\n",
       "      <td>1.000000</td>\n",
       "    </tr>\n",
       "    <tr>\n",
       "      <th>max</th>\n",
       "      <td>1.000000</td>\n",
       "    </tr>\n",
       "  </tbody>\n",
       "</table>\n",
       "</div>"
      ],
      "text/plain": [
       "       Positive or Negative\n",
       "count            341.000000\n",
       "mean               0.328446\n",
       "std                0.470338\n",
       "min                0.000000\n",
       "25%                0.000000\n",
       "50%                0.000000\n",
       "75%                1.000000\n",
       "max                1.000000"
      ]
     },
     "execution_count": 4,
     "metadata": {},
     "output_type": "execute_result"
    }
   ],
   "source": [
    "df.describe()"
   ]
  },
  {
   "cell_type": "code",
   "execution_count": 5,
   "id": "dcccde8c",
   "metadata": {},
   "outputs": [
    {
     "data": {
      "text/plain": [
       "(354, 3)"
      ]
     },
     "execution_count": 5,
     "metadata": {},
     "output_type": "execute_result"
    }
   ],
   "source": [
    "df.shape #shape of the dataset, rows and columns"
   ]
  },
  {
   "cell_type": "code",
   "execution_count": 6,
   "id": "fd040978",
   "metadata": {},
   "outputs": [
    {
     "data": {
      "text/plain": [
       "array([' Location', ' Cleanliness', ' Neighborhood', ' Security',\n",
       "       ' Pet Friendliness', ' Host', nan], dtype=object)"
      ]
     },
     "execution_count": 6,
     "metadata": {},
     "output_type": "execute_result"
    }
   ],
   "source": [
    "df.Genre.unique() #how many unique values for the Genre column"
   ]
  },
  {
   "cell_type": "code",
   "execution_count": 7,
   "id": "f0fe5db2",
   "metadata": {},
   "outputs": [
    {
     "data": {
      "text/plain": [
       "array([ 1.,  0., nan])"
      ]
     },
     "execution_count": 7,
     "metadata": {},
     "output_type": "execute_result"
    }
   ],
   "source": [
    "df['Positive or Negative'].unique() #unique values for the positive or nagetives"
   ]
  },
  {
   "cell_type": "code",
   "execution_count": 8,
   "id": "36211eac",
   "metadata": {},
   "outputs": [],
   "source": [
    "df.rename(columns={'Positive or Negative':'PN'}, inplace=True) #rename the column"
   ]
  },
  {
   "cell_type": "code",
   "execution_count": 9,
   "id": "901c0ee6",
   "metadata": {},
   "outputs": [
    {
     "data": {
      "text/plain": [
       "False    305\n",
       "True      49\n",
       "Name: count, dtype: int64"
      ]
     },
     "execution_count": 9,
     "metadata": {},
     "output_type": "execute_result"
    }
   ],
   "source": [
    "df.duplicated().value_counts() #count of duplicates"
   ]
  },
  {
   "cell_type": "code",
   "execution_count": 10,
   "id": "15a1fff0",
   "metadata": {},
   "outputs": [],
   "source": [
    "df = df.drop_duplicates() #drop rows that are duplicated"
   ]
  },
  {
   "cell_type": "code",
   "execution_count": 11,
   "id": "a340ec4e",
   "metadata": {},
   "outputs": [
    {
     "data": {
      "text/plain": [
       "(305, 3)"
      ]
     },
     "execution_count": 11,
     "metadata": {},
     "output_type": "execute_result"
    }
   ],
   "source": [
    "df.shape #recheck the rows and columns"
   ]
  },
  {
   "cell_type": "code",
   "execution_count": 12,
   "id": "8fa76b47",
   "metadata": {},
   "outputs": [
    {
     "data": {
      "text/plain": [
       "Genre     1\n",
       "Review    1\n",
       "PN        1\n",
       "dtype: int64"
      ]
     },
     "execution_count": 12,
     "metadata": {},
     "output_type": "execute_result"
    }
   ],
   "source": [
    "df.isna().sum() #check for the number of nulls"
   ]
  },
  {
   "cell_type": "code",
   "execution_count": 13,
   "id": "75d38dd0",
   "metadata": {},
   "outputs": [
    {
     "data": {
      "text/html": [
       "<div>\n",
       "<style scoped>\n",
       "    .dataframe tbody tr th:only-of-type {\n",
       "        vertical-align: middle;\n",
       "    }\n",
       "\n",
       "    .dataframe tbody tr th {\n",
       "        vertical-align: top;\n",
       "    }\n",
       "\n",
       "    .dataframe thead th {\n",
       "        text-align: right;\n",
       "    }\n",
       "</style>\n",
       "<table border=\"1\" class=\"dataframe\">\n",
       "  <thead>\n",
       "    <tr style=\"text-align: right;\">\n",
       "      <th></th>\n",
       "      <th>Genre</th>\n",
       "      <th>Review</th>\n",
       "      <th>PN</th>\n",
       "    </tr>\n",
       "  </thead>\n",
       "  <tbody>\n",
       "    <tr>\n",
       "      <th>36</th>\n",
       "      <td>NaN</td>\n",
       "      <td>NaN</td>\n",
       "      <td>NaN</td>\n",
       "    </tr>\n",
       "  </tbody>\n",
       "</table>\n",
       "</div>"
      ],
      "text/plain": [
       "   Genre Review  PN\n",
       "36   NaN    NaN NaN"
      ]
     },
     "execution_count": 13,
     "metadata": {},
     "output_type": "execute_result"
    }
   ],
   "source": [
    "df[df['Genre'].isna()] #check for the rows with null"
   ]
  },
  {
   "cell_type": "code",
   "execution_count": 14,
   "id": "2ea9e870",
   "metadata": {},
   "outputs": [],
   "source": [
    "df = df.dropna() #remove null values/rows"
   ]
  },
  {
   "cell_type": "code",
   "execution_count": 15,
   "id": "2cd1ebf3",
   "metadata": {},
   "outputs": [
    {
     "data": {
      "text/html": [
       "<div>\n",
       "<style scoped>\n",
       "    .dataframe tbody tr th:only-of-type {\n",
       "        vertical-align: middle;\n",
       "    }\n",
       "\n",
       "    .dataframe tbody tr th {\n",
       "        vertical-align: top;\n",
       "    }\n",
       "\n",
       "    .dataframe thead th {\n",
       "        text-align: right;\n",
       "    }\n",
       "</style>\n",
       "<table border=\"1\" class=\"dataframe\">\n",
       "  <thead>\n",
       "    <tr style=\"text-align: right;\">\n",
       "      <th></th>\n",
       "      <th>Genre</th>\n",
       "      <th>Review</th>\n",
       "      <th>PN</th>\n",
       "    </tr>\n",
       "  </thead>\n",
       "  <tbody>\n",
       "  </tbody>\n",
       "</table>\n",
       "</div>"
      ],
      "text/plain": [
       "Empty DataFrame\n",
       "Columns: [Genre, Review, PN]\n",
       "Index: []"
      ]
     },
     "execution_count": 15,
     "metadata": {},
     "output_type": "execute_result"
    }
   ],
   "source": [
    "df[df['Genre'].isna()] #recheck the null values/rows"
   ]
  },
  {
   "cell_type": "code",
   "execution_count": 16,
   "id": "6527ba37",
   "metadata": {},
   "outputs": [
    {
     "data": {
      "text/html": [
       "<div>\n",
       "<style scoped>\n",
       "    .dataframe tbody tr th:only-of-type {\n",
       "        vertical-align: middle;\n",
       "    }\n",
       "\n",
       "    .dataframe tbody tr th {\n",
       "        vertical-align: top;\n",
       "    }\n",
       "\n",
       "    .dataframe thead th {\n",
       "        text-align: right;\n",
       "    }\n",
       "</style>\n",
       "<table border=\"1\" class=\"dataframe\">\n",
       "  <thead>\n",
       "    <tr style=\"text-align: right;\">\n",
       "      <th></th>\n",
       "      <th>Genre</th>\n",
       "      <th>Review</th>\n",
       "      <th>PN</th>\n",
       "    </tr>\n",
       "  </thead>\n",
       "  <tbody>\n",
       "    <tr>\n",
       "      <th>0</th>\n",
       "      <td>Location</td>\n",
       "      <td>The location of this Airbnb was perfect, close to all the popular attractions.</td>\n",
       "      <td>1.0</td>\n",
       "    </tr>\n",
       "    <tr>\n",
       "      <th>1</th>\n",
       "      <td>Cleanliness</td>\n",
       "      <td>The cleanliness of the Airbnb was outstanding, everything was spotless.</td>\n",
       "      <td>1.0</td>\n",
       "    </tr>\n",
       "    <tr>\n",
       "      <th>2</th>\n",
       "      <td>Neighborhood</td>\n",
       "      <td>The neighborhood where this Airbnb is situated was vibrant and full of life.</td>\n",
       "      <td>1.0</td>\n",
       "    </tr>\n",
       "    <tr>\n",
       "      <th>3</th>\n",
       "      <td>Security</td>\n",
       "      <td>I felt completely safe and secure during my stay at this Airbnb.</td>\n",
       "      <td>1.0</td>\n",
       "    </tr>\n",
       "    <tr>\n",
       "      <th>4</th>\n",
       "      <td>Pet Friendliness</td>\n",
       "      <td>They were so welcoming to my pet, it felt like a home away from home.</td>\n",
       "      <td>1.0</td>\n",
       "    </tr>\n",
       "  </tbody>\n",
       "</table>\n",
       "</div>"
      ],
      "text/plain": [
       "               Genre   \n",
       "0           Location  \\\n",
       "1        Cleanliness   \n",
       "2       Neighborhood   \n",
       "3           Security   \n",
       "4   Pet Friendliness   \n",
       "\n",
       "                                                                            Review   \n",
       "0  The location of this Airbnb was perfect, close to all the popular attractions.   \\\n",
       "1         The cleanliness of the Airbnb was outstanding, everything was spotless.    \n",
       "2    The neighborhood where this Airbnb is situated was vibrant and full of life.    \n",
       "3                I felt completely safe and secure during my stay at this Airbnb.    \n",
       "4           They were so welcoming to my pet, it felt like a home away from home.    \n",
       "\n",
       "    PN  \n",
       "0  1.0  \n",
       "1  1.0  \n",
       "2  1.0  \n",
       "3  1.0  \n",
       "4  1.0  "
      ]
     },
     "execution_count": 16,
     "metadata": {},
     "output_type": "execute_result"
    }
   ],
   "source": [
    "df.head()"
   ]
  },
  {
   "cell_type": "code",
   "execution_count": 17,
   "id": "f4ed3708",
   "metadata": {},
   "outputs": [
    {
     "data": {
      "text/plain": [
       "[Text(0, 0, ' Location'),\n",
       " Text(1, 0, ' Cleanliness'),\n",
       " Text(2, 0, ' Neighborhood'),\n",
       " Text(3, 0, ' Security'),\n",
       " Text(4, 0, ' Pet Friendliness'),\n",
       " Text(5, 0, ' Host')]"
      ]
     },
     "execution_count": 17,
     "metadata": {},
     "output_type": "execute_result"
    },
    {
     "data": {
      "image/png": "[encoded data removed]",
      "text/plain": [
       "<Figure size 640x480 with 1 Axes>"
      ]
     },
     "metadata": {},
     "output_type": "display_data"
    }
   ],
   "source": [
    "ax = sns.barplot(data=df, x= 'Genre', y='PN')\n",
    "ax.set_xticklabels(ax.get_xticklabels(),rotation = 40, size = 10)"
   ]
  },
  {
   "cell_type": "code",
   "execution_count": 18,
   "id": "7b7f3757",
   "metadata": {},
   "outputs": [],
   "source": [
    "import nltk"
   ]
  },
  {
   "cell_type": "code",
   "execution_count": 19,
   "id": "416f250b",
   "metadata": {},
   "outputs": [
    {
     "data": {
      "text/plain": [
       "(304, 3)"
      ]
     },
     "execution_count": 19,
     "metadata": {},
     "output_type": "execute_result"
    }
   ],
   "source": [
    "df.shape"
   ]
  },
  {
   "cell_type": "code",
   "execution_count": 20,
   "id": "eb093e34",
   "metadata": {},
   "outputs": [
    {
     "data": {
      "text/plain": [
       "<Axes: title={'center': 'Count of Genres'}, xlabel='Genre'>"
      ]
     },
     "execution_count": 20,
     "metadata": {},
     "output_type": "execute_result"
    },
    {
     "data": {
      "image/png": "[encoded data removed]",
      "text/plain": [
       "<Figure size 640x480 with 1 Axes>"
      ]
     },
     "metadata": {},
     "output_type": "display_data"
    }
   ],
   "source": [
    "df.Genre.value_counts().sort_index().plot(kind='bar', title = 'Count of Genres')"
   ]
  },
  {
   "cell_type": "code",
   "execution_count": 21,
   "id": "2d128e4f",
   "metadata": {},
   "outputs": [
    {
     "data": {
      "text/plain": [
       "<Axes: title={'center': 'Count of Types Of Review'}, xlabel='Positve or Negative', ylabel='Count'>"
      ]
     },
     "execution_count": 21,
     "metadata": {},
     "output_type": "execute_result"
    },
    {
     "data": {
      "image/png": "[encoded data removed]",
      "text/plain": [
       "<Figure size 640x480 with 1 Axes>"
      ]
     },
     "metadata": {},
     "output_type": "display_data"
    }
   ],
   "source": [
    "df.PN.value_counts().plot(kind='bar', title='Count of Types Of Review', xlabel='Positve or Negative', ylabel='Count')"
   ]
  },
  {
   "cell_type": "code",
   "execution_count": 22,
   "id": "8b9d0f0b",
   "metadata": {},
   "outputs": [
    {
     "data": {
      "text/plain": [
       "'The Airbnb was well-maintained and cleaned regularly, ensuring a comfortable stay. '"
      ]
     },
     "execution_count": 22,
     "metadata": {},
     "output_type": "execute_result"
    }
   ],
   "source": [
    "example = df.Review[50]\n",
    "example"
   ]
  },
  {
   "cell_type": "code",
   "execution_count": 23,
   "id": "08ea217b",
   "metadata": {},
   "outputs": [
    {
     "data": {
      "text/plain": [
       "['The',\n",
       " 'Airbnb',\n",
       " 'was',\n",
       " 'well-maintained',\n",
       " 'and',\n",
       " 'cleaned',\n",
       " 'regularly',\n",
       " ',',\n",
       " 'ensuring',\n",
       " 'a',\n",
       " 'comfortable',\n",
       " 'stay',\n",
       " '.']"
      ]
     },
     "execution_count": 23,
     "metadata": {},
     "output_type": "execute_result"
    }
   ],
   "source": [
    "nltk.word_tokenize(example) #tokenize or break down the sentence"
   ]
  },
  {
   "cell_type": "code",
   "execution_count": 24,
   "id": "beba5e1e",
   "metadata": {},
   "outputs": [
    {
     "data": {
      "text/plain": [
       "['The',\n",
       " 'Airbnb',\n",
       " 'was',\n",
       " 'well-maintained',\n",
       " 'and',\n",
       " 'cleaned',\n",
       " 'regularly',\n",
       " ',',\n",
       " 'ensuring',\n",
       " 'a']"
      ]
     },
     "execution_count": 24,
     "metadata": {},
     "output_type": "execute_result"
    }
   ],
   "source": [
    "tokens = nltk.word_tokenize(example)\n",
    "tokens[:10]"
   ]
  },
  {
   "cell_type": "code",
   "execution_count": 25,
   "id": "1484d4be",
   "metadata": {},
   "outputs": [
    {
     "data": {
      "text/plain": [
       "[('The', 'DT'),\n",
       " ('Airbnb', 'NNP'),\n",
       " ('was', 'VBD'),\n",
       " ('well-maintained', 'JJ'),\n",
       " ('and', 'CC'),\n",
       " ('cleaned', 'VBD'),\n",
       " ('regularly', 'RB'),\n",
       " (',', ','),\n",
       " ('ensuring', 'VBG'),\n",
       " ('a', 'DT')]"
      ]
     },
     "execution_count": 25,
     "metadata": {},
     "output_type": "execute_result"
    }
   ],
   "source": [
    "tagged = nltk.pos_tag(tokens)\n",
    "tagged[:10]"
   ]
  },
  {
   "cell_type": "code",
   "execution_count": 26,
   "id": "9364a3e2",
   "metadata": {},
   "outputs": [
    {
     "name": "stdout",
     "output_type": "stream",
     "text": [
      "(S\n",
      "  The/DT\n",
      "  (ORGANIZATION Airbnb/NNP)\n",
      "  was/VBD\n",
      "  well-maintained/JJ\n",
      "  and/CC\n",
      "  cleaned/VBD\n",
      "  regularly/RB\n",
      "  ,/,\n",
      "  ensuring/VBG\n",
      "  a/DT\n",
      "  comfortable/JJ\n",
      "  stay/NN\n",
      "  ./.)\n"
     ]
    }
   ],
   "source": [
    "entities = nltk.chunk.ne_chunk(tagged)\n",
    "entities.pprint()"
   ]
  },
  {
   "cell_type": "markdown",
   "id": "03c001e5",
   "metadata": {},
   "source": [
    "# Step 1: Vader Sentiment Scoring"
   ]
  },
  {
   "cell_type": "code",
   "execution_count": 27,
   "id": "f92dbcf3",
   "metadata": {},
   "outputs": [],
   "source": [
    "from nltk.sentiment import SentimentIntensityAnalyzer\n",
    "from tqdm import tqdm, trange\n",
    "from tqdm.notebook import tqdm\n",
    "\n",
    "sia = SentimentIntensityAnalyzer()"
   ]
  },
  {
   "cell_type": "code",
   "execution_count": 28,
   "id": "81c20ce2",
   "metadata": {},
   "outputs": [
    {
     "data": {
      "text/plain": [
       "{'neg': 0.0, 'neu': 0.334, 'pos': 0.666, 'compound': 0.6115}"
      ]
     },
     "execution_count": 28,
     "metadata": {},
     "output_type": "execute_result"
    }
   ],
   "source": [
    "sia.polarity_scores('I am so happy') #check sentiment from the words. compound value is from -1 to 0 (negative to positive)"
   ]
  },
  {
   "cell_type": "code",
   "execution_count": 29,
   "id": "d05bf42c",
   "metadata": {},
   "outputs": [
    {
     "data": {
      "text/plain": [
       "{'neg': 0.451, 'neu': 0.549, 'pos': 0.0, 'compound': -0.6249}"
      ]
     },
     "execution_count": 29,
     "metadata": {},
     "output_type": "execute_result"
    }
   ],
   "source": [
    "sia.polarity_scores('this is the worst thing ever')"
   ]
  },
  {
   "cell_type": "code",
   "execution_count": 30,
   "id": "5b718713",
   "metadata": {},
   "outputs": [
    {
     "data": {
      "text/plain": [
       "'The Airbnb was well-maintained and cleaned regularly, ensuring a comfortable stay. '"
      ]
     },
     "execution_count": 30,
     "metadata": {},
     "output_type": "execute_result"
    }
   ],
   "source": [
    "example"
   ]
  },
  {
   "cell_type": "code",
   "execution_count": 31,
   "id": "5ee2f299",
   "metadata": {},
   "outputs": [
    {
     "data": {
      "text/plain": [
       "{'neg': 0.0, 'neu': 0.597, 'pos': 0.403, 'compound': 0.6597}"
      ]
     },
     "execution_count": 31,
     "metadata": {},
     "output_type": "execute_result"
    }
   ],
   "source": [
    "sia.polarity_scores(example) #shows 'example' as a more positive sentiment"
   ]
  },
  {
   "cell_type": "code",
   "execution_count": 32,
   "id": "9b12579d",
   "metadata": {},
   "outputs": [
    {
     "data": {
      "text/plain": [
       "Index(['Genre', 'Review', 'PN'], dtype='object')"
      ]
     },
     "execution_count": 32,
     "metadata": {},
     "output_type": "execute_result"
    }
   ],
   "source": [
    "df.columns"
   ]
  },
  {
   "cell_type": "code",
   "execution_count": 33,
   "id": "6d7dbb97",
   "metadata": {},
   "outputs": [],
   "source": [
    "df[\"Id\"] = df.index + 1"
   ]
  },
  {
   "cell_type": "code",
   "execution_count": 34,
   "id": "f303d5e6",
   "metadata": {},
   "outputs": [
    {
     "data": {
      "text/html": [
       "<div>\n",
       "<style scoped>\n",
       "    .dataframe tbody tr th:only-of-type {\n",
       "        vertical-align: middle;\n",
       "    }\n",
       "\n",
       "    .dataframe tbody tr th {\n",
       "        vertical-align: top;\n",
       "    }\n",
       "\n",
       "    .dataframe thead th {\n",
       "        text-align: right;\n",
       "    }\n",
       "</style>\n",
       "<table border=\"1\" class=\"dataframe\">\n",
       "  <thead>\n",
       "    <tr style=\"text-align: right;\">\n",
       "      <th></th>\n",
       "      <th>Genre</th>\n",
       "      <th>Review</th>\n",
       "      <th>PN</th>\n",
       "      <th>Id</th>\n",
       "    </tr>\n",
       "  </thead>\n",
       "  <tbody>\n",
       "    <tr>\n",
       "      <th>0</th>\n",
       "      <td>Location</td>\n",
       "      <td>The location of this Airbnb was perfect, close to all the popular attractions.</td>\n",
       "      <td>1.0</td>\n",
       "      <td>1</td>\n",
       "    </tr>\n",
       "    <tr>\n",
       "      <th>1</th>\n",
       "      <td>Cleanliness</td>\n",
       "      <td>The cleanliness of the Airbnb was outstanding, everything was spotless.</td>\n",
       "      <td>1.0</td>\n",
       "      <td>2</td>\n",
       "    </tr>\n",
       "    <tr>\n",
       "      <th>2</th>\n",
       "      <td>Neighborhood</td>\n",
       "      <td>The neighborhood where this Airbnb is situated was vibrant and full of life.</td>\n",
       "      <td>1.0</td>\n",
       "      <td>3</td>\n",
       "    </tr>\n",
       "    <tr>\n",
       "      <th>3</th>\n",
       "      <td>Security</td>\n",
       "      <td>I felt completely safe and secure during my stay at this Airbnb.</td>\n",
       "      <td>1.0</td>\n",
       "      <td>4</td>\n",
       "    </tr>\n",
       "    <tr>\n",
       "      <th>4</th>\n",
       "      <td>Pet Friendliness</td>\n",
       "      <td>They were so welcoming to my pet, it felt like a home away from home.</td>\n",
       "      <td>1.0</td>\n",
       "      <td>5</td>\n",
       "    </tr>\n",
       "  </tbody>\n",
       "</table>\n",
       "</div>"
      ],
      "text/plain": [
       "               Genre   \n",
       "0           Location  \\\n",
       "1        Cleanliness   \n",
       "2       Neighborhood   \n",
       "3           Security   \n",
       "4   Pet Friendliness   \n",
       "\n",
       "                                                                            Review   \n",
       "0  The location of this Airbnb was perfect, close to all the popular attractions.   \\\n",
       "1         The cleanliness of the Airbnb was outstanding, everything was spotless.    \n",
       "2    The neighborhood where this Airbnb is situated was vibrant and full of life.    \n",
       "3                I felt completely safe and secure during my stay at this Airbnb.    \n",
       "4           They were so welcoming to my pet, it felt like a home away from home.    \n",
       "\n",
       "    PN  Id  \n",
       "0  1.0   1  \n",
       "1  1.0   2  \n",
       "2  1.0   3  \n",
       "3  1.0   4  \n",
       "4  1.0   5  "
      ]
     },
     "execution_count": 34,
     "metadata": {},
     "output_type": "execute_result"
    }
   ],
   "source": [
    "df.head()"
   ]
  },
  {
   "cell_type": "code",
   "execution_count": 35,
   "id": "1477353c",
   "metadata": {},
   "outputs": [
    {
     "data": {
      "text/plain": [
       "Genre      object\n",
       "Review     object\n",
       "PN        float64\n",
       "Id          int64\n",
       "dtype: object"
      ]
     },
     "execution_count": 35,
     "metadata": {},
     "output_type": "execute_result"
    }
   ],
   "source": [
    "df.dtypes"
   ]
  },
  {
   "cell_type": "code",
   "execution_count": 36,
   "id": "3a6d0edd",
   "metadata": {},
   "outputs": [
    {
     "data": {
      "application/vnd.jupyter.widget-view+json": {
       "model_id": "a9231dc629f64217ae249f7045b965b0",
       "version_major": 2,
       "version_minor": 0
      },
      "text/plain": [
       "  0%|          | 0/304 [00:00<?, ?it/s]"
      ]
     },
     "metadata": {},
     "output_type": "display_data"
    }
   ],
   "source": [
    "#Run the polarity score on the entire dataset\n",
    "res={}\n",
    "for i, row in tqdm(df.iterrows(), total=len(df)):\n",
    "    text=row['Genre']\n",
    "    myId=row['Id']\n",
    "    res[myId] = sia.polarity_scores(text)\n",
    "    \n",
    "    "
   ]
  },
  {
   "cell_type": "code",
   "execution_count": 37,
   "id": "fb67807c",
   "metadata": {},
   "outputs": [
    {
     "data": {
      "text/plain": [
       "{1: {'neg': 0.0, 'neu': 1.0, 'pos': 0.0, 'compound': 0.0},\n",
       " 2: {'neg': 0.0, 'neu': 1.0, 'pos': 0.0, 'compound': 0.0},\n",
       " 3: {'neg': 0.0, 'neu': 1.0, 'pos': 0.0, 'compound': 0.0},\n",
       " 4: {'neg': 0.0, 'neu': 0.0, 'pos': 1.0, 'compound': 0.34},\n",
       " 5: {'neg': 0.0, 'neu': 0.25, 'pos': 0.75, 'compound': 0.4588},\n",
       " 6: {'neg': 0.0, 'neu': 1.0, 'pos': 0.0, 'compound': 0.0},\n",
       " 7: {'neg': 0.0, 'neu': 1.0, 'pos': 0.0, 'compound': 0.0},\n",
       " 8: {'neg': 0.0, 'neu': 1.0, 'pos': 0.0, 'compound': 0.0},\n",
       " 9: {'neg': 0.0, 'neu': 1.0, 'pos': 0.0, 'compound': 0.0},\n",
       " 10: {'neg': 0.0, 'neu': 0.0, 'pos': 1.0, 'compound': 0.34},\n",
       " 11: {'neg': 0.0, 'neu': 0.25, 'pos': 0.75, 'compound': 0.4588},\n",
       " 12: {'neg': 0.0, 'neu': 1.0, 'pos': 0.0, 'compound': 0.0},\n",
       " 13: {'neg': 0.0, 'neu': 1.0, 'pos': 0.0, 'compound': 0.0},\n",
       " 14: {'neg': 0.0, 'neu': 1.0, 'pos': 0.0, 'compound': 0.0},\n",
       " 15: {'neg': 0.0, 'neu': 1.0, 'pos': 0.0, 'compound': 0.0},\n",
       " 16: {'neg': 0.0, 'neu': 0.0, 'pos': 1.0, 'compound': 0.34},\n",
       " 17: {'neg': 0.0, 'neu': 0.25, 'pos': 0.75, 'compound': 0.4588},\n",
       " 18: {'neg': 0.0, 'neu': 1.0, 'pos': 0.0, 'compound': 0.0},\n",
       " 19: {'neg': 0.0, 'neu': 1.0, 'pos': 0.0, 'compound': 0.0},\n",
       " 20: {'neg': 0.0, 'neu': 1.0, 'pos': 0.0, 'compound': 0.0},\n",
       " 21: {'neg': 0.0, 'neu': 1.0, 'pos': 0.0, 'compound': 0.0},\n",
       " 22: {'neg': 0.0, 'neu': 0.0, 'pos': 1.0, 'compound': 0.34},\n",
       " 23: {'neg': 0.0, 'neu': 0.25, 'pos': 0.75, 'compound': 0.4588},\n",
       " 24: {'neg': 0.0, 'neu': 1.0, 'pos': 0.0, 'compound': 0.0},\n",
       " 25: {'neg': 0.0, 'neu': 1.0, 'pos': 0.0, 'compound': 0.0},\n",
       " 26: {'neg': 0.0, 'neu': 1.0, 'pos': 0.0, 'compound': 0.0},\n",
       " 27: {'neg': 0.0, 'neu': 1.0, 'pos': 0.0, 'compound': 0.0},\n",
       " 28: {'neg': 0.0, 'neu': 0.0, 'pos': 1.0, 'compound': 0.34},\n",
       " 29: {'neg': 0.0, 'neu': 0.25, 'pos': 0.75, 'compound': 0.4588},\n",
       " 30: {'neg': 0.0, 'neu': 1.0, 'pos': 0.0, 'compound': 0.0},\n",
       " 31: {'neg': 0.0, 'neu': 1.0, 'pos': 0.0, 'compound': 0.0},\n",
       " 32: {'neg': 0.0, 'neu': 1.0, 'pos': 0.0, 'compound': 0.0},\n",
       " 33: {'neg': 0.0, 'neu': 1.0, 'pos': 0.0, 'compound': 0.0},\n",
       " 34: {'neg': 0.0, 'neu': 0.0, 'pos': 1.0, 'compound': 0.34},\n",
       " 35: {'neg': 0.0, 'neu': 0.25, 'pos': 0.75, 'compound': 0.4588},\n",
       " 36: {'neg': 0.0, 'neu': 1.0, 'pos': 0.0, 'compound': 0.0},\n",
       " 39: {'neg': 0.0, 'neu': 1.0, 'pos': 0.0, 'compound': 0.0},\n",
       " 40: {'neg': 0.0, 'neu': 1.0, 'pos': 0.0, 'compound': 0.0},\n",
       " 41: {'neg': 0.0, 'neu': 1.0, 'pos': 0.0, 'compound': 0.0},\n",
       " 42: {'neg': 0.0, 'neu': 1.0, 'pos': 0.0, 'compound': 0.0},\n",
       " 43: {'neg': 0.0, 'neu': 1.0, 'pos': 0.0, 'compound': 0.0},\n",
       " 44: {'neg': 0.0, 'neu': 1.0, 'pos': 0.0, 'compound': 0.0},\n",
       " 45: {'neg': 0.0, 'neu': 1.0, 'pos': 0.0, 'compound': 0.0},\n",
       " 46: {'neg': 0.0, 'neu': 1.0, 'pos': 0.0, 'compound': 0.0},\n",
       " 48: {'neg': 0.0, 'neu': 1.0, 'pos': 0.0, 'compound': 0.0},\n",
       " 50: {'neg': 0.0, 'neu': 1.0, 'pos': 0.0, 'compound': 0.0},\n",
       " 51: {'neg': 0.0, 'neu': 1.0, 'pos': 0.0, 'compound': 0.0},\n",
       " 52: {'neg': 0.0, 'neu': 1.0, 'pos': 0.0, 'compound': 0.0},\n",
       " 53: {'neg': 0.0, 'neu': 1.0, 'pos': 0.0, 'compound': 0.0},\n",
       " 54: {'neg': 0.0, 'neu': 1.0, 'pos': 0.0, 'compound': 0.0},\n",
       " 55: {'neg': 0.0, 'neu': 1.0, 'pos': 0.0, 'compound': 0.0},\n",
       " 56: {'neg': 0.0, 'neu': 1.0, 'pos': 0.0, 'compound': 0.0},\n",
       " 57: {'neg': 0.0, 'neu': 1.0, 'pos': 0.0, 'compound': 0.0},\n",
       " 59: {'neg': 0.0, 'neu': 1.0, 'pos': 0.0, 'compound': 0.0},\n",
       " 61: {'neg': 0.0, 'neu': 1.0, 'pos': 0.0, 'compound': 0.0},\n",
       " 62: {'neg': 0.0, 'neu': 1.0, 'pos': 0.0, 'compound': 0.0},\n",
       " 63: {'neg': 0.0, 'neu': 1.0, 'pos': 0.0, 'compound': 0.0},\n",
       " 64: {'neg': 0.0, 'neu': 1.0, 'pos': 0.0, 'compound': 0.0},\n",
       " 65: {'neg': 0.0, 'neu': 1.0, 'pos': 0.0, 'compound': 0.0},\n",
       " 66: {'neg': 0.0, 'neu': 1.0, 'pos': 0.0, 'compound': 0.0},\n",
       " 67: {'neg': 0.0, 'neu': 1.0, 'pos': 0.0, 'compound': 0.0},\n",
       " 69: {'neg': 0.0, 'neu': 0.0, 'pos': 1.0, 'compound': 0.34},\n",
       " 71: {'neg': 0.0, 'neu': 0.0, 'pos': 1.0, 'compound': 0.34},\n",
       " 72: {'neg': 0.0, 'neu': 0.0, 'pos': 1.0, 'compound': 0.34},\n",
       " 73: {'neg': 0.0, 'neu': 0.0, 'pos': 1.0, 'compound': 0.34},\n",
       " 74: {'neg': 0.0, 'neu': 0.0, 'pos': 1.0, 'compound': 0.34},\n",
       " 75: {'neg': 0.0, 'neu': 0.0, 'pos': 1.0, 'compound': 0.34},\n",
       " 76: {'neg': 0.0, 'neu': 0.0, 'pos': 1.0, 'compound': 0.34},\n",
       " 77: {'neg': 0.0, 'neu': 0.0, 'pos': 1.0, 'compound': 0.34},\n",
       " 79: {'neg': 0.0, 'neu': 0.25, 'pos': 0.75, 'compound': 0.4588},\n",
       " 81: {'neg': 0.0, 'neu': 0.25, 'pos': 0.75, 'compound': 0.4588},\n",
       " 82: {'neg': 0.0, 'neu': 0.25, 'pos': 0.75, 'compound': 0.4588},\n",
       " 83: {'neg': 0.0, 'neu': 0.25, 'pos': 0.75, 'compound': 0.4588},\n",
       " 84: {'neg': 0.0, 'neu': 0.25, 'pos': 0.75, 'compound': 0.4588},\n",
       " 85: {'neg': 0.0, 'neu': 0.25, 'pos': 0.75, 'compound': 0.4588},\n",
       " 86: {'neg': 0.0, 'neu': 0.25, 'pos': 0.75, 'compound': 0.4588},\n",
       " 87: {'neg': 0.0, 'neu': 0.25, 'pos': 0.75, 'compound': 0.4588},\n",
       " 89: {'neg': 0.0, 'neu': 1.0, 'pos': 0.0, 'compound': 0.0},\n",
       " 91: {'neg': 0.0, 'neu': 1.0, 'pos': 0.0, 'compound': 0.0},\n",
       " 92: {'neg': 0.0, 'neu': 1.0, 'pos': 0.0, 'compound': 0.0},\n",
       " 93: {'neg': 0.0, 'neu': 1.0, 'pos': 0.0, 'compound': 0.0},\n",
       " 94: {'neg': 0.0, 'neu': 1.0, 'pos': 0.0, 'compound': 0.0},\n",
       " 95: {'neg': 0.0, 'neu': 1.0, 'pos': 0.0, 'compound': 0.0},\n",
       " 96: {'neg': 0.0, 'neu': 1.0, 'pos': 0.0, 'compound': 0.0},\n",
       " 97: {'neg': 0.0, 'neu': 1.0, 'pos': 0.0, 'compound': 0.0},\n",
       " 99: {'neg': 0.0, 'neu': 1.0, 'pos': 0.0, 'compound': 0.0},\n",
       " 100: {'neg': 0.0, 'neu': 1.0, 'pos': 0.0, 'compound': 0.0},\n",
       " 101: {'neg': 0.0, 'neu': 1.0, 'pos': 0.0, 'compound': 0.0},\n",
       " 102: {'neg': 0.0, 'neu': 1.0, 'pos': 0.0, 'compound': 0.0},\n",
       " 103: {'neg': 0.0, 'neu': 1.0, 'pos': 0.0, 'compound': 0.0},\n",
       " 104: {'neg': 0.0, 'neu': 1.0, 'pos': 0.0, 'compound': 0.0},\n",
       " 105: {'neg': 0.0, 'neu': 1.0, 'pos': 0.0, 'compound': 0.0},\n",
       " 106: {'neg': 0.0, 'neu': 1.0, 'pos': 0.0, 'compound': 0.0},\n",
       " 107: {'neg': 0.0, 'neu': 1.0, 'pos': 0.0, 'compound': 0.0},\n",
       " 108: {'neg': 0.0, 'neu': 1.0, 'pos': 0.0, 'compound': 0.0},\n",
       " 109: {'neg': 0.0, 'neu': 1.0, 'pos': 0.0, 'compound': 0.0},\n",
       " 110: {'neg': 0.0, 'neu': 1.0, 'pos': 0.0, 'compound': 0.0},\n",
       " 111: {'neg': 0.0, 'neu': 1.0, 'pos': 0.0, 'compound': 0.0},\n",
       " 112: {'neg': 0.0, 'neu': 1.0, 'pos': 0.0, 'compound': 0.0},\n",
       " 113: {'neg': 0.0, 'neu': 1.0, 'pos': 0.0, 'compound': 0.0},\n",
       " 114: {'neg': 0.0, 'neu': 1.0, 'pos': 0.0, 'compound': 0.0},\n",
       " 115: {'neg': 0.0, 'neu': 1.0, 'pos': 0.0, 'compound': 0.0},\n",
       " 116: {'neg': 0.0, 'neu': 1.0, 'pos': 0.0, 'compound': 0.0},\n",
       " 117: {'neg': 0.0, 'neu': 1.0, 'pos': 0.0, 'compound': 0.0},\n",
       " 118: {'neg': 0.0, 'neu': 1.0, 'pos': 0.0, 'compound': 0.0},\n",
       " 119: {'neg': 0.0, 'neu': 1.0, 'pos': 0.0, 'compound': 0.0},\n",
       " 120: {'neg': 0.0, 'neu': 1.0, 'pos': 0.0, 'compound': 0.0},\n",
       " 121: {'neg': 0.0, 'neu': 1.0, 'pos': 0.0, 'compound': 0.0},\n",
       " 122: {'neg': 0.0, 'neu': 0.0, 'pos': 1.0, 'compound': 0.34},\n",
       " 123: {'neg': 0.0, 'neu': 0.0, 'pos': 1.0, 'compound': 0.34},\n",
       " 124: {'neg': 0.0, 'neu': 0.0, 'pos': 1.0, 'compound': 0.34},\n",
       " 125: {'neg': 0.0, 'neu': 0.0, 'pos': 1.0, 'compound': 0.34},\n",
       " 126: {'neg': 0.0, 'neu': 0.0, 'pos': 1.0, 'compound': 0.34},\n",
       " 127: {'neg': 0.0, 'neu': 0.0, 'pos': 1.0, 'compound': 0.34},\n",
       " 129: {'neg': 0.0, 'neu': 0.0, 'pos': 1.0, 'compound': 0.34},\n",
       " 130: {'neg': 0.0, 'neu': 0.25, 'pos': 0.75, 'compound': 0.4588},\n",
       " 131: {'neg': 0.0, 'neu': 0.25, 'pos': 0.75, 'compound': 0.4588},\n",
       " 132: {'neg': 0.0, 'neu': 0.25, 'pos': 0.75, 'compound': 0.4588},\n",
       " 133: {'neg': 0.0, 'neu': 0.25, 'pos': 0.75, 'compound': 0.4588},\n",
       " 134: {'neg': 0.0, 'neu': 0.25, 'pos': 0.75, 'compound': 0.4588},\n",
       " 135: {'neg': 0.0, 'neu': 0.25, 'pos': 0.75, 'compound': 0.4588},\n",
       " 136: {'neg': 0.0, 'neu': 0.25, 'pos': 0.75, 'compound': 0.4588},\n",
       " 137: {'neg': 0.0, 'neu': 0.25, 'pos': 0.75, 'compound': 0.4588},\n",
       " 138: {'neg': 0.0, 'neu': 1.0, 'pos': 0.0, 'compound': 0.0},\n",
       " 139: {'neg': 0.0, 'neu': 1.0, 'pos': 0.0, 'compound': 0.0},\n",
       " 140: {'neg': 0.0, 'neu': 1.0, 'pos': 0.0, 'compound': 0.0},\n",
       " 141: {'neg': 0.0, 'neu': 1.0, 'pos': 0.0, 'compound': 0.0},\n",
       " 142: {'neg': 0.0, 'neu': 1.0, 'pos': 0.0, 'compound': 0.0},\n",
       " 143: {'neg': 0.0, 'neu': 1.0, 'pos': 0.0, 'compound': 0.0},\n",
       " 144: {'neg': 0.0, 'neu': 1.0, 'pos': 0.0, 'compound': 0.0},\n",
       " 145: {'neg': 0.0, 'neu': 1.0, 'pos': 0.0, 'compound': 0.0},\n",
       " 146: {'neg': 0.0, 'neu': 1.0, 'pos': 0.0, 'compound': 0.0},\n",
       " 147: {'neg': 0.0, 'neu': 1.0, 'pos': 0.0, 'compound': 0.0},\n",
       " 148: {'neg': 0.0, 'neu': 1.0, 'pos': 0.0, 'compound': 0.0},\n",
       " 149: {'neg': 0.0, 'neu': 1.0, 'pos': 0.0, 'compound': 0.0},\n",
       " 150: {'neg': 0.0, 'neu': 1.0, 'pos': 0.0, 'compound': 0.0},\n",
       " 151: {'neg': 0.0, 'neu': 1.0, 'pos': 0.0, 'compound': 0.0},\n",
       " 152: {'neg': 0.0, 'neu': 1.0, 'pos': 0.0, 'compound': 0.0},\n",
       " 153: {'neg': 0.0, 'neu': 1.0, 'pos': 0.0, 'compound': 0.0},\n",
       " 154: {'neg': 0.0, 'neu': 1.0, 'pos': 0.0, 'compound': 0.0},\n",
       " 155: {'neg': 0.0, 'neu': 1.0, 'pos': 0.0, 'compound': 0.0},\n",
       " 156: {'neg': 0.0, 'neu': 1.0, 'pos': 0.0, 'compound': 0.0},\n",
       " 157: {'neg': 0.0, 'neu': 1.0, 'pos': 0.0, 'compound': 0.0},\n",
       " 158: {'neg': 0.0, 'neu': 1.0, 'pos': 0.0, 'compound': 0.0},\n",
       " 159: {'neg': 0.0, 'neu': 1.0, 'pos': 0.0, 'compound': 0.0},\n",
       " 160: {'neg': 0.0, 'neu': 1.0, 'pos': 0.0, 'compound': 0.0},\n",
       " 161: {'neg': 0.0, 'neu': 1.0, 'pos': 0.0, 'compound': 0.0},\n",
       " 162: {'neg': 0.0, 'neu': 1.0, 'pos': 0.0, 'compound': 0.0},\n",
       " 163: {'neg': 0.0, 'neu': 1.0, 'pos': 0.0, 'compound': 0.0},\n",
       " 164: {'neg': 0.0, 'neu': 1.0, 'pos': 0.0, 'compound': 0.0},\n",
       " 165: {'neg': 0.0, 'neu': 1.0, 'pos': 0.0, 'compound': 0.0},\n",
       " 166: {'neg': 0.0, 'neu': 0.0, 'pos': 1.0, 'compound': 0.34},\n",
       " 167: {'neg': 0.0, 'neu': 0.0, 'pos': 1.0, 'compound': 0.34},\n",
       " 168: {'neg': 0.0, 'neu': 0.0, 'pos': 1.0, 'compound': 0.34},\n",
       " 169: {'neg': 0.0, 'neu': 0.0, 'pos': 1.0, 'compound': 0.34},\n",
       " 170: {'neg': 0.0, 'neu': 0.0, 'pos': 1.0, 'compound': 0.34},\n",
       " 171: {'neg': 0.0, 'neu': 0.0, 'pos': 1.0, 'compound': 0.34},\n",
       " 172: {'neg': 0.0, 'neu': 0.0, 'pos': 1.0, 'compound': 0.34},\n",
       " 173: {'neg': 0.0, 'neu': 0.25, 'pos': 0.75, 'compound': 0.4588},\n",
       " 174: {'neg': 0.0, 'neu': 0.25, 'pos': 0.75, 'compound': 0.4588},\n",
       " 176: {'neg': 0.0, 'neu': 0.25, 'pos': 0.75, 'compound': 0.4588},\n",
       " 177: {'neg': 0.0, 'neu': 0.25, 'pos': 0.75, 'compound': 0.4588},\n",
       " 178: {'neg': 0.0, 'neu': 0.25, 'pos': 0.75, 'compound': 0.4588},\n",
       " 179: {'neg': 0.0, 'neu': 0.25, 'pos': 0.75, 'compound': 0.4588},\n",
       " 180: {'neg': 0.0, 'neu': 1.0, 'pos': 0.0, 'compound': 0.0},\n",
       " 181: {'neg': 0.0, 'neu': 1.0, 'pos': 0.0, 'compound': 0.0},\n",
       " 182: {'neg': 0.0, 'neu': 1.0, 'pos': 0.0, 'compound': 0.0},\n",
       " 183: {'neg': 0.0, 'neu': 1.0, 'pos': 0.0, 'compound': 0.0},\n",
       " 184: {'neg': 0.0, 'neu': 1.0, 'pos': 0.0, 'compound': 0.0},\n",
       " 185: {'neg': 0.0, 'neu': 1.0, 'pos': 0.0, 'compound': 0.0},\n",
       " 186: {'neg': 0.0, 'neu': 1.0, 'pos': 0.0, 'compound': 0.0},\n",
       " 187: {'neg': 0.0, 'neu': 1.0, 'pos': 0.0, 'compound': 0.0},\n",
       " 188: {'neg': 0.0, 'neu': 1.0, 'pos': 0.0, 'compound': 0.0},\n",
       " 189: {'neg': 0.0, 'neu': 1.0, 'pos': 0.0, 'compound': 0.0},\n",
       " 190: {'neg': 0.0, 'neu': 1.0, 'pos': 0.0, 'compound': 0.0},\n",
       " 191: {'neg': 0.0, 'neu': 1.0, 'pos': 0.0, 'compound': 0.0},\n",
       " 192: {'neg': 0.0, 'neu': 1.0, 'pos': 0.0, 'compound': 0.0},\n",
       " 193: {'neg': 0.0, 'neu': 1.0, 'pos': 0.0, 'compound': 0.0},\n",
       " 194: {'neg': 0.0, 'neu': 1.0, 'pos': 0.0, 'compound': 0.0},\n",
       " 195: {'neg': 0.0, 'neu': 1.0, 'pos': 0.0, 'compound': 0.0},\n",
       " 196: {'neg': 0.0, 'neu': 1.0, 'pos': 0.0, 'compound': 0.0},\n",
       " 197: {'neg': 0.0, 'neu': 1.0, 'pos': 0.0, 'compound': 0.0},\n",
       " 198: {'neg': 0.0, 'neu': 1.0, 'pos': 0.0, 'compound': 0.0},\n",
       " 199: {'neg': 0.0, 'neu': 1.0, 'pos': 0.0, 'compound': 0.0},\n",
       " 200: {'neg': 0.0, 'neu': 1.0, 'pos': 0.0, 'compound': 0.0},\n",
       " 201: {'neg': 0.0, 'neu': 1.0, 'pos': 0.0, 'compound': 0.0},\n",
       " 202: {'neg': 0.0, 'neu': 1.0, 'pos': 0.0, 'compound': 0.0},\n",
       " 203: {'neg': 0.0, 'neu': 1.0, 'pos': 0.0, 'compound': 0.0},\n",
       " 205: {'neg': 0.0, 'neu': 1.0, 'pos': 0.0, 'compound': 0.0},\n",
       " 207: {'neg': 0.0, 'neu': 1.0, 'pos': 0.0, 'compound': 0.0},\n",
       " 208: {'neg': 0.0, 'neu': 0.0, 'pos': 1.0, 'compound': 0.34},\n",
       " 209: {'neg': 0.0, 'neu': 0.0, 'pos': 1.0, 'compound': 0.34},\n",
       " 210: {'neg': 0.0, 'neu': 0.0, 'pos': 1.0, 'compound': 0.34},\n",
       " 211: {'neg': 0.0, 'neu': 0.0, 'pos': 1.0, 'compound': 0.34},\n",
       " 212: {'neg': 0.0, 'neu': 0.0, 'pos': 1.0, 'compound': 0.34},\n",
       " 213: {'neg': 0.0, 'neu': 0.0, 'pos': 1.0, 'compound': 0.34},\n",
       " 214: {'neg': 0.0, 'neu': 0.0, 'pos': 1.0, 'compound': 0.34},\n",
       " 215: {'neg': 0.0, 'neu': 0.25, 'pos': 0.75, 'compound': 0.4588},\n",
       " 216: {'neg': 0.0, 'neu': 0.25, 'pos': 0.75, 'compound': 0.4588},\n",
       " 217: {'neg': 0.0, 'neu': 0.25, 'pos': 0.75, 'compound': 0.4588},\n",
       " 218: {'neg': 0.0, 'neu': 0.25, 'pos': 0.75, 'compound': 0.4588},\n",
       " 219: {'neg': 0.0, 'neu': 0.25, 'pos': 0.75, 'compound': 0.4588},\n",
       " 220: {'neg': 0.0, 'neu': 0.25, 'pos': 0.75, 'compound': 0.4588},\n",
       " 221: {'neg': 0.0, 'neu': 0.25, 'pos': 0.75, 'compound': 0.4588},\n",
       " 222: {'neg': 0.0, 'neu': 1.0, 'pos': 0.0, 'compound': 0.0},\n",
       " 223: {'neg': 0.0, 'neu': 1.0, 'pos': 0.0, 'compound': 0.0},\n",
       " 224: {'neg': 0.0, 'neu': 1.0, 'pos': 0.0, 'compound': 0.0},\n",
       " 225: {'neg': 0.0, 'neu': 1.0, 'pos': 0.0, 'compound': 0.0},\n",
       " 226: {'neg': 0.0, 'neu': 1.0, 'pos': 0.0, 'compound': 0.0},\n",
       " 227: {'neg': 0.0, 'neu': 1.0, 'pos': 0.0, 'compound': 0.0},\n",
       " 228: {'neg': 0.0, 'neu': 1.0, 'pos': 0.0, 'compound': 0.0},\n",
       " 229: {'neg': 0.0, 'neu': 1.0, 'pos': 0.0, 'compound': 0.0},\n",
       " 230: {'neg': 0.0, 'neu': 1.0, 'pos': 0.0, 'compound': 0.0},\n",
       " 231: {'neg': 0.0, 'neu': 1.0, 'pos': 0.0, 'compound': 0.0},\n",
       " 232: {'neg': 0.0, 'neu': 1.0, 'pos': 0.0, 'compound': 0.0},\n",
       " 233: {'neg': 0.0, 'neu': 1.0, 'pos': 0.0, 'compound': 0.0},\n",
       " 234: {'neg': 0.0, 'neu': 1.0, 'pos': 0.0, 'compound': 0.0},\n",
       " 235: {'neg': 0.0, 'neu': 1.0, 'pos': 0.0, 'compound': 0.0},\n",
       " 236: {'neg': 0.0, 'neu': 1.0, 'pos': 0.0, 'compound': 0.0},\n",
       " 237: {'neg': 0.0, 'neu': 1.0, 'pos': 0.0, 'compound': 0.0},\n",
       " 239: {'neg': 0.0, 'neu': 1.0, 'pos': 0.0, 'compound': 0.0},\n",
       " 240: {'neg': 0.0, 'neu': 1.0, 'pos': 0.0, 'compound': 0.0},\n",
       " 244: {'neg': 0.0, 'neu': 1.0, 'pos': 0.0, 'compound': 0.0},\n",
       " 256: {'neg': 0.0, 'neu': 0.0, 'pos': 1.0, 'compound': 0.34},\n",
       " 264: {'neg': 0.0, 'neu': 1.0, 'pos': 0.0, 'compound': 0.0},\n",
       " 265: {'neg': 0.0, 'neu': 1.0, 'pos': 0.0, 'compound': 0.0},\n",
       " 267: {'neg': 0.0, 'neu': 1.0, 'pos': 0.0, 'compound': 0.0},\n",
       " 268: {'neg': 0.0, 'neu': 1.0, 'pos': 0.0, 'compound': 0.0},\n",
       " 269: {'neg': 0.0, 'neu': 1.0, 'pos': 0.0, 'compound': 0.0},\n",
       " 271: {'neg': 0.0, 'neu': 1.0, 'pos': 0.0, 'compound': 0.0},\n",
       " 272: {'neg': 0.0, 'neu': 1.0, 'pos': 0.0, 'compound': 0.0},\n",
       " 273: {'neg': 0.0, 'neu': 1.0, 'pos': 0.0, 'compound': 0.0},\n",
       " 274: {'neg': 0.0, 'neu': 1.0, 'pos': 0.0, 'compound': 0.0},\n",
       " 275: {'neg': 0.0, 'neu': 1.0, 'pos': 0.0, 'compound': 0.0},\n",
       " 276: {'neg': 0.0, 'neu': 1.0, 'pos': 0.0, 'compound': 0.0},\n",
       " 277: {'neg': 0.0, 'neu': 1.0, 'pos': 0.0, 'compound': 0.0},\n",
       " 278: {'neg': 0.0, 'neu': 1.0, 'pos': 0.0, 'compound': 0.0},\n",
       " 279: {'neg': 0.0, 'neu': 1.0, 'pos': 0.0, 'compound': 0.0},\n",
       " 280: {'neg': 0.0, 'neu': 1.0, 'pos': 0.0, 'compound': 0.0},\n",
       " 281: {'neg': 0.0, 'neu': 1.0, 'pos': 0.0, 'compound': 0.0},\n",
       " 282: {'neg': 0.0, 'neu': 1.0, 'pos': 0.0, 'compound': 0.0},\n",
       " 283: {'neg': 0.0, 'neu': 1.0, 'pos': 0.0, 'compound': 0.0},\n",
       " 284: {'neg': 0.0, 'neu': 1.0, 'pos': 0.0, 'compound': 0.0},\n",
       " 285: {'neg': 0.0, 'neu': 1.0, 'pos': 0.0, 'compound': 0.0},\n",
       " 286: {'neg': 0.0, 'neu': 1.0, 'pos': 0.0, 'compound': 0.0},\n",
       " 287: {'neg': 0.0, 'neu': 1.0, 'pos': 0.0, 'compound': 0.0},\n",
       " 289: {'neg': 0.0, 'neu': 1.0, 'pos': 0.0, 'compound': 0.0},\n",
       " 290: {'neg': 0.0, 'neu': 1.0, 'pos': 0.0, 'compound': 0.0},\n",
       " 291: {'neg': 0.0, 'neu': 1.0, 'pos': 0.0, 'compound': 0.0},\n",
       " 292: {'neg': 0.0, 'neu': 0.0, 'pos': 1.0, 'compound': 0.34},\n",
       " 293: {'neg': 0.0, 'neu': 0.0, 'pos': 1.0, 'compound': 0.34},\n",
       " 294: {'neg': 0.0, 'neu': 0.0, 'pos': 1.0, 'compound': 0.34},\n",
       " 295: {'neg': 0.0, 'neu': 0.0, 'pos': 1.0, 'compound': 0.34},\n",
       " 299: {'neg': 0.0, 'neu': 0.25, 'pos': 0.75, 'compound': 0.4588},\n",
       " 300: {'neg': 0.0, 'neu': 0.25, 'pos': 0.75, 'compound': 0.4588},\n",
       " 302: {'neg': 0.0, 'neu': 0.25, 'pos': 0.75, 'compound': 0.4588},\n",
       " 303: {'neg': 0.0, 'neu': 0.25, 'pos': 0.75, 'compound': 0.4588},\n",
       " 304: {'neg': 0.0, 'neu': 0.25, 'pos': 0.75, 'compound': 0.4588},\n",
       " 305: {'neg': 0.0, 'neu': 0.25, 'pos': 0.75, 'compound': 0.4588},\n",
       " 306: {'neg': 0.0, 'neu': 1.0, 'pos': 0.0, 'compound': 0.0},\n",
       " 307: {'neg': 0.0, 'neu': 1.0, 'pos': 0.0, 'compound': 0.0},\n",
       " 308: {'neg': 0.0, 'neu': 1.0, 'pos': 0.0, 'compound': 0.0},\n",
       " 309: {'neg': 0.0, 'neu': 1.0, 'pos': 0.0, 'compound': 0.0},\n",
       " 310: {'neg': 0.0, 'neu': 1.0, 'pos': 0.0, 'compound': 0.0},\n",
       " 311: {'neg': 0.0, 'neu': 1.0, 'pos': 0.0, 'compound': 0.0},\n",
       " 312: {'neg': 0.0, 'neu': 1.0, 'pos': 0.0, 'compound': 0.0},\n",
       " 313: {'neg': 0.0, 'neu': 1.0, 'pos': 0.0, 'compound': 0.0},\n",
       " 314: {'neg': 0.0, 'neu': 1.0, 'pos': 0.0, 'compound': 0.0},\n",
       " 315: {'neg': 0.0, 'neu': 1.0, 'pos': 0.0, 'compound': 0.0},\n",
       " 316: {'neg': 0.0, 'neu': 1.0, 'pos': 0.0, 'compound': 0.0},\n",
       " 317: {'neg': 0.0, 'neu': 1.0, 'pos': 0.0, 'compound': 0.0},\n",
       " 318: {'neg': 0.0, 'neu': 1.0, 'pos': 0.0, 'compound': 0.0},\n",
       " 319: {'neg': 0.0, 'neu': 1.0, 'pos': 0.0, 'compound': 0.0},\n",
       " 320: {'neg': 0.0, 'neu': 1.0, 'pos': 0.0, 'compound': 0.0},\n",
       " 321: {'neg': 0.0, 'neu': 1.0, 'pos': 0.0, 'compound': 0.0},\n",
       " 323: {'neg': 0.0, 'neu': 1.0, 'pos': 0.0, 'compound': 0.0},\n",
       " 324: {'neg': 0.0, 'neu': 1.0, 'pos': 0.0, 'compound': 0.0},\n",
       " 325: {'neg': 0.0, 'neu': 1.0, 'pos': 0.0, 'compound': 0.0},\n",
       " 326: {'neg': 0.0, 'neu': 1.0, 'pos': 0.0, 'compound': 0.0},\n",
       " 327: {'neg': 0.0, 'neu': 1.0, 'pos': 0.0, 'compound': 0.0},\n",
       " 328: {'neg': 0.0, 'neu': 1.0, 'pos': 0.0, 'compound': 0.0},\n",
       " 329: {'neg': 0.0, 'neu': 1.0, 'pos': 0.0, 'compound': 0.0},\n",
       " 331: {'neg': 0.0, 'neu': 1.0, 'pos': 0.0, 'compound': 0.0},\n",
       " 332: {'neg': 0.0, 'neu': 1.0, 'pos': 0.0, 'compound': 0.0},\n",
       " 333: {'neg': 0.0, 'neu': 1.0, 'pos': 0.0, 'compound': 0.0},\n",
       " 334: {'neg': 0.0, 'neu': 0.0, 'pos': 1.0, 'compound': 0.34},\n",
       " 335: {'neg': 0.0, 'neu': 0.0, 'pos': 1.0, 'compound': 0.34},\n",
       " 336: {'neg': 0.0, 'neu': 0.0, 'pos': 1.0, 'compound': 0.34},\n",
       " 337: {'neg': 0.0, 'neu': 0.0, 'pos': 1.0, 'compound': 0.34},\n",
       " 338: {'neg': 0.0, 'neu': 0.0, 'pos': 1.0, 'compound': 0.34},\n",
       " 339: {'neg': 0.0, 'neu': 0.0, 'pos': 1.0, 'compound': 0.34},\n",
       " 340: {'neg': 0.0, 'neu': 0.0, 'pos': 1.0, 'compound': 0.34},\n",
       " 341: {'neg': 0.0, 'neu': 0.25, 'pos': 0.75, 'compound': 0.4588},\n",
       " 342: {'neg': 0.0, 'neu': 0.25, 'pos': 0.75, 'compound': 0.4588},\n",
       " 345: {'neg': 0.0, 'neu': 0.25, 'pos': 0.75, 'compound': 0.4588},\n",
       " 346: {'neg': 0.0, 'neu': 0.25, 'pos': 0.75, 'compound': 0.4588},\n",
       " 347: {'neg': 0.0, 'neu': 0.25, 'pos': 0.75, 'compound': 0.4588},\n",
       " 348: {'neg': 0.0, 'neu': 1.0, 'pos': 0.0, 'compound': 0.0},\n",
       " 349: {'neg': 0.0, 'neu': 1.0, 'pos': 0.0, 'compound': 0.0},\n",
       " 350: {'neg': 0.0, 'neu': 1.0, 'pos': 0.0, 'compound': 0.0},\n",
       " 351: {'neg': 0.0, 'neu': 1.0, 'pos': 0.0, 'compound': 0.0},\n",
       " 352: {'neg': 0.0, 'neu': 1.0, 'pos': 0.0, 'compound': 0.0},\n",
       " 353: {'neg': 0.0, 'neu': 1.0, 'pos': 0.0, 'compound': 0.0},\n",
       " 354: {'neg': 0.0, 'neu': 1.0, 'pos': 0.0, 'compound': 0.0}}"
      ]
     },
     "execution_count": 37,
     "metadata": {},
     "output_type": "execute_result"
    }
   ],
   "source": [
    "res"
   ]
  },
  {
   "cell_type": "code",
   "execution_count": 38,
   "id": "c73f37e6",
   "metadata": {},
   "outputs": [],
   "source": [
    "vaders = pd.DataFrame(res).T"
   ]
  },
  {
   "cell_type": "code",
   "execution_count": 39,
   "id": "4a5f7092",
   "metadata": {},
   "outputs": [
    {
     "data": {
      "text/html": [
       "<div>\n",
       "<style scoped>\n",
       "    .dataframe tbody tr th:only-of-type {\n",
       "        vertical-align: middle;\n",
       "    }\n",
       "\n",
       "    .dataframe tbody tr th {\n",
       "        vertical-align: top;\n",
       "    }\n",
       "\n",
       "    .dataframe thead th {\n",
       "        text-align: right;\n",
       "    }\n",
       "</style>\n",
       "<table border=\"1\" class=\"dataframe\">\n",
       "  <thead>\n",
       "    <tr style=\"text-align: right;\">\n",
       "      <th></th>\n",
       "      <th>neg</th>\n",
       "      <th>neu</th>\n",
       "      <th>pos</th>\n",
       "      <th>compound</th>\n",
       "    </tr>\n",
       "  </thead>\n",
       "  <tbody>\n",
       "    <tr>\n",
       "      <th>1</th>\n",
       "      <td>0.0</td>\n",
       "      <td>1.00</td>\n",
       "      <td>0.00</td>\n",
       "      <td>0.0000</td>\n",
       "    </tr>\n",
       "    <tr>\n",
       "      <th>2</th>\n",
       "      <td>0.0</td>\n",
       "      <td>1.00</td>\n",
       "      <td>0.00</td>\n",
       "      <td>0.0000</td>\n",
       "    </tr>\n",
       "    <tr>\n",
       "      <th>3</th>\n",
       "      <td>0.0</td>\n",
       "      <td>1.00</td>\n",
       "      <td>0.00</td>\n",
       "      <td>0.0000</td>\n",
       "    </tr>\n",
       "    <tr>\n",
       "      <th>4</th>\n",
       "      <td>0.0</td>\n",
       "      <td>0.00</td>\n",
       "      <td>1.00</td>\n",
       "      <td>0.3400</td>\n",
       "    </tr>\n",
       "    <tr>\n",
       "      <th>5</th>\n",
       "      <td>0.0</td>\n",
       "      <td>0.25</td>\n",
       "      <td>0.75</td>\n",
       "      <td>0.4588</td>\n",
       "    </tr>\n",
       "  </tbody>\n",
       "</table>\n",
       "</div>"
      ],
      "text/plain": [
       "   neg   neu   pos  compound\n",
       "1  0.0  1.00  0.00    0.0000\n",
       "2  0.0  1.00  0.00    0.0000\n",
       "3  0.0  1.00  0.00    0.0000\n",
       "4  0.0  0.00  1.00    0.3400\n",
       "5  0.0  0.25  0.75    0.4588"
      ]
     },
     "execution_count": 39,
     "metadata": {},
     "output_type": "execute_result"
    }
   ],
   "source": [
    "vaders.reset_index().rename(columns={'index': 'Id'})\n",
    "vaders.head()"
   ]
  },
  {
   "cell_type": "code",
   "execution_count": 40,
   "id": "c5708c92",
   "metadata": {},
   "outputs": [
    {
     "data": {
      "text/html": [
       "<div>\n",
       "<style scoped>\n",
       "    .dataframe tbody tr th:only-of-type {\n",
       "        vertical-align: middle;\n",
       "    }\n",
       "\n",
       "    .dataframe tbody tr th {\n",
       "        vertical-align: top;\n",
       "    }\n",
       "\n",
       "    .dataframe thead th {\n",
       "        text-align: right;\n",
       "    }\n",
       "</style>\n",
       "<table border=\"1\" class=\"dataframe\">\n",
       "  <thead>\n",
       "    <tr style=\"text-align: right;\">\n",
       "      <th></th>\n",
       "      <th>neg</th>\n",
       "      <th>neu</th>\n",
       "      <th>pos</th>\n",
       "      <th>compound</th>\n",
       "      <th>Id</th>\n",
       "    </tr>\n",
       "  </thead>\n",
       "  <tbody>\n",
       "    <tr>\n",
       "      <th>1</th>\n",
       "      <td>0.0</td>\n",
       "      <td>1.00</td>\n",
       "      <td>0.00</td>\n",
       "      <td>0.0000</td>\n",
       "      <td>1</td>\n",
       "    </tr>\n",
       "    <tr>\n",
       "      <th>2</th>\n",
       "      <td>0.0</td>\n",
       "      <td>1.00</td>\n",
       "      <td>0.00</td>\n",
       "      <td>0.0000</td>\n",
       "      <td>2</td>\n",
       "    </tr>\n",
       "    <tr>\n",
       "      <th>3</th>\n",
       "      <td>0.0</td>\n",
       "      <td>1.00</td>\n",
       "      <td>0.00</td>\n",
       "      <td>0.0000</td>\n",
       "      <td>3</td>\n",
       "    </tr>\n",
       "    <tr>\n",
       "      <th>4</th>\n",
       "      <td>0.0</td>\n",
       "      <td>0.00</td>\n",
       "      <td>1.00</td>\n",
       "      <td>0.3400</td>\n",
       "      <td>4</td>\n",
       "    </tr>\n",
       "    <tr>\n",
       "      <th>5</th>\n",
       "      <td>0.0</td>\n",
       "      <td>0.25</td>\n",
       "      <td>0.75</td>\n",
       "      <td>0.4588</td>\n",
       "      <td>5</td>\n",
       "    </tr>\n",
       "  </tbody>\n",
       "</table>\n",
       "</div>"
      ],
      "text/plain": [
       "   neg   neu   pos  compound  Id\n",
       "1  0.0  1.00  0.00    0.0000   1\n",
       "2  0.0  1.00  0.00    0.0000   2\n",
       "3  0.0  1.00  0.00    0.0000   3\n",
       "4  0.0  0.00  1.00    0.3400   4\n",
       "5  0.0  0.25  0.75    0.4588   5"
      ]
     },
     "execution_count": 40,
     "metadata": {},
     "output_type": "execute_result"
    }
   ],
   "source": [
    "vaders['Id'] = vaders.index\n",
    "vaders.head()"
   ]
  },
  {
   "cell_type": "code",
   "execution_count": 41,
   "id": "dbcc68aa",
   "metadata": {},
   "outputs": [
    {
     "data": {
      "text/html": [
       "<div>\n",
       "<style scoped>\n",
       "    .dataframe tbody tr th:only-of-type {\n",
       "        vertical-align: middle;\n",
       "    }\n",
       "\n",
       "    .dataframe tbody tr th {\n",
       "        vertical-align: top;\n",
       "    }\n",
       "\n",
       "    .dataframe thead th {\n",
       "        text-align: right;\n",
       "    }\n",
       "</style>\n",
       "<table border=\"1\" class=\"dataframe\">\n",
       "  <thead>\n",
       "    <tr style=\"text-align: right;\">\n",
       "      <th></th>\n",
       "      <th>Genre</th>\n",
       "      <th>Review</th>\n",
       "      <th>PN</th>\n",
       "      <th>Id</th>\n",
       "    </tr>\n",
       "  </thead>\n",
       "  <tbody>\n",
       "    <tr>\n",
       "      <th>0</th>\n",
       "      <td>Location</td>\n",
       "      <td>The location of this Airbnb was perfect, close to all the popular attractions.</td>\n",
       "      <td>1.0</td>\n",
       "      <td>1</td>\n",
       "    </tr>\n",
       "    <tr>\n",
       "      <th>1</th>\n",
       "      <td>Cleanliness</td>\n",
       "      <td>The cleanliness of the Airbnb was outstanding, everything was spotless.</td>\n",
       "      <td>1.0</td>\n",
       "      <td>2</td>\n",
       "    </tr>\n",
       "    <tr>\n",
       "      <th>2</th>\n",
       "      <td>Neighborhood</td>\n",
       "      <td>The neighborhood where this Airbnb is situated was vibrant and full of life.</td>\n",
       "      <td>1.0</td>\n",
       "      <td>3</td>\n",
       "    </tr>\n",
       "    <tr>\n",
       "      <th>3</th>\n",
       "      <td>Security</td>\n",
       "      <td>I felt completely safe and secure during my stay at this Airbnb.</td>\n",
       "      <td>1.0</td>\n",
       "      <td>4</td>\n",
       "    </tr>\n",
       "    <tr>\n",
       "      <th>4</th>\n",
       "      <td>Pet Friendliness</td>\n",
       "      <td>They were so welcoming to my pet, it felt like a home away from home.</td>\n",
       "      <td>1.0</td>\n",
       "      <td>5</td>\n",
       "    </tr>\n",
       "  </tbody>\n",
       "</table>\n",
       "</div>"
      ],
      "text/plain": [
       "               Genre   \n",
       "0           Location  \\\n",
       "1        Cleanliness   \n",
       "2       Neighborhood   \n",
       "3           Security   \n",
       "4   Pet Friendliness   \n",
       "\n",
       "                                                                            Review   \n",
       "0  The location of this Airbnb was perfect, close to all the popular attractions.   \\\n",
       "1         The cleanliness of the Airbnb was outstanding, everything was spotless.    \n",
       "2    The neighborhood where this Airbnb is situated was vibrant and full of life.    \n",
       "3                I felt completely safe and secure during my stay at this Airbnb.    \n",
       "4           They were so welcoming to my pet, it felt like a home away from home.    \n",
       "\n",
       "    PN  Id  \n",
       "0  1.0   1  \n",
       "1  1.0   2  \n",
       "2  1.0   3  \n",
       "3  1.0   4  \n",
       "4  1.0   5  "
      ]
     },
     "execution_count": 41,
     "metadata": {},
     "output_type": "execute_result"
    }
   ],
   "source": [
    "df.head()"
   ]
  },
  {
   "cell_type": "code",
   "execution_count": 42,
   "id": "04ce6db3",
   "metadata": {},
   "outputs": [
    {
     "data": {
      "text/html": [
       "<div>\n",
       "<style scoped>\n",
       "    .dataframe tbody tr th:only-of-type {\n",
       "        vertical-align: middle;\n",
       "    }\n",
       "\n",
       "    .dataframe tbody tr th {\n",
       "        vertical-align: top;\n",
       "    }\n",
       "\n",
       "    .dataframe thead th {\n",
       "        text-align: right;\n",
       "    }\n",
       "</style>\n",
       "<table border=\"1\" class=\"dataframe\">\n",
       "  <thead>\n",
       "    <tr style=\"text-align: right;\">\n",
       "      <th></th>\n",
       "      <th>neg</th>\n",
       "      <th>neu</th>\n",
       "      <th>pos</th>\n",
       "      <th>compound</th>\n",
       "      <th>Id</th>\n",
       "      <th>Genre</th>\n",
       "      <th>Review</th>\n",
       "      <th>PN</th>\n",
       "    </tr>\n",
       "  </thead>\n",
       "  <tbody>\n",
       "    <tr>\n",
       "      <th>0</th>\n",
       "      <td>0.0</td>\n",
       "      <td>1.00</td>\n",
       "      <td>0.00</td>\n",
       "      <td>0.0000</td>\n",
       "      <td>1</td>\n",
       "      <td>Location</td>\n",
       "      <td>The location of this Airbnb was perfect, close to all the popular attractions.</td>\n",
       "      <td>1.0</td>\n",
       "    </tr>\n",
       "    <tr>\n",
       "      <th>1</th>\n",
       "      <td>0.0</td>\n",
       "      <td>1.00</td>\n",
       "      <td>0.00</td>\n",
       "      <td>0.0000</td>\n",
       "      <td>2</td>\n",
       "      <td>Cleanliness</td>\n",
       "      <td>The cleanliness of the Airbnb was outstanding, everything was spotless.</td>\n",
       "      <td>1.0</td>\n",
       "    </tr>\n",
       "    <tr>\n",
       "      <th>2</th>\n",
       "      <td>0.0</td>\n",
       "      <td>1.00</td>\n",
       "      <td>0.00</td>\n",
       "      <td>0.0000</td>\n",
       "      <td>3</td>\n",
       "      <td>Neighborhood</td>\n",
       "      <td>The neighborhood where this Airbnb is situated was vibrant and full of life.</td>\n",
       "      <td>1.0</td>\n",
       "    </tr>\n",
       "    <tr>\n",
       "      <th>3</th>\n",
       "      <td>0.0</td>\n",
       "      <td>0.00</td>\n",
       "      <td>1.00</td>\n",
       "      <td>0.3400</td>\n",
       "      <td>4</td>\n",
       "      <td>Security</td>\n",
       "      <td>I felt completely safe and secure during my stay at this Airbnb.</td>\n",
       "      <td>1.0</td>\n",
       "    </tr>\n",
       "    <tr>\n",
       "      <th>4</th>\n",
       "      <td>0.0</td>\n",
       "      <td>0.25</td>\n",
       "      <td>0.75</td>\n",
       "      <td>0.4588</td>\n",
       "      <td>5</td>\n",
       "      <td>Pet Friendliness</td>\n",
       "      <td>They were so welcoming to my pet, it felt like a home away from home.</td>\n",
       "      <td>1.0</td>\n",
       "    </tr>\n",
       "    <tr>\n",
       "      <th>...</th>\n",
       "      <td>...</td>\n",
       "      <td>...</td>\n",
       "      <td>...</td>\n",
       "      <td>...</td>\n",
       "      <td>...</td>\n",
       "      <td>...</td>\n",
       "      <td>...</td>\n",
       "      <td>...</td>\n",
       "    </tr>\n",
       "    <tr>\n",
       "      <th>299</th>\n",
       "      <td>0.0</td>\n",
       "      <td>1.00</td>\n",
       "      <td>0.00</td>\n",
       "      <td>0.0000</td>\n",
       "      <td>350</td>\n",
       "      <td>Host</td>\n",
       "      <td>Unfortunately, the host was unresponsive and lacked the necessary professionalism, impacting my overall experience.</td>\n",
       "      <td>0.0</td>\n",
       "    </tr>\n",
       "    <tr>\n",
       "      <th>300</th>\n",
       "      <td>0.0</td>\n",
       "      <td>1.00</td>\n",
       "      <td>0.00</td>\n",
       "      <td>0.0000</td>\n",
       "      <td>351</td>\n",
       "      <td>Host</td>\n",
       "      <td>I experienced difficulties in reaching the host when I needed assistance or had questions during my stay.</td>\n",
       "      <td>0.0</td>\n",
       "    </tr>\n",
       "    <tr>\n",
       "      <th>301</th>\n",
       "      <td>0.0</td>\n",
       "      <td>1.00</td>\n",
       "      <td>0.00</td>\n",
       "      <td>0.0000</td>\n",
       "      <td>352</td>\n",
       "      <td>Host</td>\n",
       "      <td>The host was unaccommodating and did not adequately address my concerns, which was disappointing.</td>\n",
       "      <td>0.0</td>\n",
       "    </tr>\n",
       "    <tr>\n",
       "      <th>302</th>\n",
       "      <td>0.0</td>\n",
       "      <td>1.00</td>\n",
       "      <td>0.00</td>\n",
       "      <td>0.0000</td>\n",
       "      <td>353</td>\n",
       "      <td>Host</td>\n",
       "      <td>I felt unwelcome by the host, with minimal communication and a lack of support throughout my visit.</td>\n",
       "      <td>0.0</td>\n",
       "    </tr>\n",
       "    <tr>\n",
       "      <th>303</th>\n",
       "      <td>0.0</td>\n",
       "      <td>1.00</td>\n",
       "      <td>0.00</td>\n",
       "      <td>0.0000</td>\n",
       "      <td>354</td>\n",
       "      <td>Host</td>\n",
       "      <td>The host was unhelpful and showed a lack of interest in ensuring a comfortable and enjoyable stay.</td>\n",
       "      <td>0.0</td>\n",
       "    </tr>\n",
       "  </tbody>\n",
       "</table>\n",
       "<p>304 rows × 8 columns</p>\n",
       "</div>"
      ],
      "text/plain": [
       "     neg   neu   pos  compound   Id              Genre   \n",
       "0    0.0  1.00  0.00    0.0000    1           Location  \\\n",
       "1    0.0  1.00  0.00    0.0000    2        Cleanliness   \n",
       "2    0.0  1.00  0.00    0.0000    3       Neighborhood   \n",
       "3    0.0  0.00  1.00    0.3400    4           Security   \n",
       "4    0.0  0.25  0.75    0.4588    5   Pet Friendliness   \n",
       "..   ...   ...   ...       ...  ...                ...   \n",
       "299  0.0  1.00  0.00    0.0000  350               Host   \n",
       "300  0.0  1.00  0.00    0.0000  351               Host   \n",
       "301  0.0  1.00  0.00    0.0000  352               Host   \n",
       "302  0.0  1.00  0.00    0.0000  353               Host   \n",
       "303  0.0  1.00  0.00    0.0000  354               Host   \n",
       "\n",
       "                                                                                                                   Review   \n",
       "0                                         The location of this Airbnb was perfect, close to all the popular attractions.   \\\n",
       "1                                                The cleanliness of the Airbnb was outstanding, everything was spotless.    \n",
       "2                                           The neighborhood where this Airbnb is situated was vibrant and full of life.    \n",
       "3                                                       I felt completely safe and secure during my stay at this Airbnb.    \n",
       "4                                                  They were so welcoming to my pet, it felt like a home away from home.    \n",
       "..                                                                                                                    ...   \n",
       "299  Unfortunately, the host was unresponsive and lacked the necessary professionalism, impacting my overall experience.    \n",
       "300            I experienced difficulties in reaching the host when I needed assistance or had questions during my stay.    \n",
       "301                    The host was unaccommodating and did not adequately address my concerns, which was disappointing.    \n",
       "302                  I felt unwelcome by the host, with minimal communication and a lack of support throughout my visit.    \n",
       "303                   The host was unhelpful and showed a lack of interest in ensuring a comfortable and enjoyable stay.    \n",
       "\n",
       "      PN  \n",
       "0    1.0  \n",
       "1    1.0  \n",
       "2    1.0  \n",
       "3    1.0  \n",
       "4    1.0  \n",
       "..   ...  \n",
       "299  0.0  \n",
       "300  0.0  \n",
       "301  0.0  \n",
       "302  0.0  \n",
       "303  0.0  \n",
       "\n",
       "[304 rows x 8 columns]"
      ]
     },
     "execution_count": 42,
     "metadata": {},
     "output_type": "execute_result"
    }
   ],
   "source": [
    "#merge the sentiment score with the original dataset\n",
    "vaders = vaders.merge(df, how='right')\n",
    "vaders"
   ]
  },
  {
   "cell_type": "code",
   "execution_count": 43,
   "id": "33cc01e8",
   "metadata": {},
   "outputs": [
    {
     "data": {
      "image/png": "[encoded data removed]",
      "text/plain": [
       "<Figure size 640x480 with 1 Axes>"
      ]
     },
     "metadata": {},
     "output_type": "display_data"
    }
   ],
   "source": [
    "#plot vader results\n",
    "ax =sns.barplot(data=vaders,x = 'PN', y='compound')\n",
    "ax.set_title('Compound Score by AirBnB reviews')\n",
    "plt.show()"
   ]
  },
  {
   "cell_type": "code",
   "execution_count": 44,
   "id": "fac14fcd",
   "metadata": {},
   "outputs": [
    {
     "data": {
      "image/png": "[encoded data removed]",
      "text/plain": [
       "<Figure size 1500x500 with 3 Axes>"
      ]
     },
     "metadata": {},
     "output_type": "display_data"
    }
   ],
   "source": [
    "#plot vader results\n",
    "fig, axs= plt.subplots(1, 3, figsize=(15, 5))\n",
    "\n",
    "sns.barplot(data=vaders,x = 'PN', y='pos', ax=axs[0])\n",
    "sns.barplot(data=vaders,x = 'PN', y='neu', ax=axs[1])\n",
    "sns.barplot(data=vaders,x = 'PN', y='neg', ax=axs[2])\n",
    "\n",
    "axs[0].set_title('Postive')\n",
    "axs[1].set_title('Neutral')\n",
    "axs[2].set_title('Negative')\n",
    "\n",
    "plt.tight_layout()\n",
    "plt.show()"
   ]
  },
  {
   "cell_type": "markdown",
   "id": "51d712af",
   "metadata": {},
   "source": [
    "# Step 3 Roberta Petrained Model\n",
    "Use a model trained of a large corpus of data.\n",
    "transfomred models accounts for the words but also the context related to other words"
   ]
  },
  {
   "cell_type": "code",
   "execution_count": 45,
   "id": "96d3f79c",
   "metadata": {},
   "outputs": [],
   "source": [
    "from transformers import AutoTokenizer\n",
    "from transformers import AutoModelForSequenceClassification\n",
    "from scipy.special import softmax"
   ]
  },
  {
   "cell_type": "code",
   "execution_count": 46,
   "id": "02745e37",
   "metadata": {},
   "outputs": [
    {
     "data": {
      "application/vnd.jupyter.widget-view+json": {
       "model_id": "ee84214c1e024084911f5ffbc0d7144d",
       "version_major": 2,
       "version_minor": 0
      },
      "text/plain": [
       "Downloading pytorch_model.bin:   0%|          | 0.00/499M [00:00<?, ?B/s]"
      ]
     },
     "metadata": {},
     "output_type": "display_data"
    },
    {
     "name": "stderr",
     "output_type": "stream",
     "text": [
      "C:\\Users\\kaudim\\AppData\\Local\\Programs\\Python\\Python310\\lib\\site-packages\\huggingface_hub\\file_download.py:133: UserWarning: `huggingface_hub` cache-system uses symlinks by default to efficiently store duplicated files but your machine does not support them in C:\\Users\\kaudim\\.cache\\huggingface\\hub. Caching files will still work but in a degraded version that might require more space on your disk. This warning can be disabled by setting the `HF_HUB_DISABLE_SYMLINKS_WARNING` environment variable. For more details, see https://huggingface.co/docs/huggingface_hub/how-to-cache#limitations.\n",
      "To support symlinks on Windows, you either need to activate Developer Mode or to run Python as an administrator. In order to see activate developer mode, see this article: https://docs.microsoft.com/en-us/windows/apps/get-started/enable-your-device-for-development\n",
      "  warnings.warn(message)\n"
     ]
    }
   ],
   "source": [
    "MODEL = f'cardiffnlp/twitter-roberta-base-sentiment'\n",
    "tokenizer=AutoTokenizer.from_pretrained(MODEL)\n",
    "model = AutoModelForSequenceClassification.from_pretrained(MODEL)"
   ]
  },
  {
   "cell_type": "code",
   "execution_count": 47,
   "id": "38346fdc",
   "metadata": {},
   "outputs": [
    {
     "name": "stdout",
     "output_type": "stream",
     "text": [
      "The Airbnb was well-maintained and cleaned regularly, ensuring a comfortable stay. \n"
     ]
    }
   ],
   "source": [
    "print(example)"
   ]
  },
  {
   "cell_type": "code",
   "execution_count": null,
   "id": "45f89f63",
   "metadata": {},
   "outputs": [],
   "source": []
  }
 ],
 "metadata": {
  "kernelspec": {
   "display_name": "Python 3 (ipykernel)",
   "language": "python",
   "name": "python3"
  },
  "language_info": {
   "codemirror_mode": {
    "name": "ipython",
    "version": 3
   },
   "file_extension": ".py",
   "mimetype": "text/x-python",
   "name": "python",
   "nbconvert_exporter": "python",
   "pygments_lexer": "ipython3",
   "version": "3.12.2"
  }
 },
 "nbformat": 4,
 "nbformat_minor": 5
}
