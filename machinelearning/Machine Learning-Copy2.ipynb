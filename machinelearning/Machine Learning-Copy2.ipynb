{
 "cells": [
  {
   "cell_type": "code",
   "execution_count": 1,
   "id": "40755a89",
   "metadata": {},
   "outputs": [],
   "source": [
    "import pandas as pd\n",
    "import numpy as np\n",
    "import matplotlib.pylab as plt\n",
    "import seaborn as sns\n"
   ]
  },
  {
   "cell_type": "code",
   "execution_count": 2,
   "id": "811e02fc",
   "metadata": {},
   "outputs": [],
   "source": [
    "df=pd.read_csv('south_africa_training_set.csv')\n",
    "pd.set_option('display.max_columns',85)"
   ]
  },
  {
   "cell_type": "code",
   "execution_count": 3,
   "id": "aa005dda",
   "metadata": {
    "scrolled": false
   },
   "outputs": [
    {
     "data": {
      "text/html": [
       "<div>\n",
       "<style scoped>\n",
       "    .dataframe tbody tr th:only-of-type {\n",
       "        vertical-align: middle;\n",
       "    }\n",
       "\n",
       "    .dataframe tbody tr th {\n",
       "        vertical-align: top;\n",
       "    }\n",
       "\n",
       "    .dataframe thead th {\n",
       "        text-align: right;\n",
       "    }\n",
       "</style>\n",
       "<table border=\"1\" class=\"dataframe\">\n",
       "  <thead>\n",
       "    <tr style=\"text-align: right;\">\n",
       "      <th></th>\n",
       "      <th>Unnamed: 0</th>\n",
       "      <th>target</th>\n",
       "      <th>hashed_user_id</th>\n",
       "      <th>regist_date</th>\n",
       "      <th>is_bind_card</th>\n",
       "      <th>lastorder_usecase</th>\n",
       "      <th>lastorder_platform</th>\n",
       "      <th>lastorder_orderdate</th>\n",
       "      <th>subtotal_amount_today_daily</th>\n",
       "      <th>subtotal_amount_recent_7days</th>\n",
       "      <th>subtotal_amount_recent_30days</th>\n",
       "      <th>subtotal_ordercount_today_daily</th>\n",
       "      <th>subtotal_ordercount_recent_7days</th>\n",
       "      <th>subtotal_ordercount_recent_30days</th>\n",
       "      <th>nr_interactions</th>\n",
       "      <th>nr_days_interacted</th>\n",
       "      <th>max_date_time</th>\n",
       "      <th>nr_unique_pages_visited</th>\n",
       "      <th>search_events</th>\n",
       "      <th>unique_search_terms</th>\n",
       "      <th>unique_app_visits</th>\n",
       "      <th>unique_app_category_visits</th>\n",
       "      <th>year_month</th>\n",
       "    </tr>\n",
       "  </thead>\n",
       "  <tbody>\n",
       "    <tr>\n",
       "      <th>0</th>\n",
       "      <td>0</td>\n",
       "      <td>active</td>\n",
       "      <td>-1000772633524872632</td>\n",
       "      <td>2022-12-30</td>\n",
       "      <td>0</td>\n",
       "      <td>-1</td>\n",
       "      <td>-1</td>\n",
       "      <td>NaN</td>\n",
       "      <td>0.0</td>\n",
       "      <td>0.0</td>\n",
       "      <td>0.0</td>\n",
       "      <td>0</td>\n",
       "      <td>0</td>\n",
       "      <td>0</td>\n",
       "      <td>15</td>\n",
       "      <td>1</td>\n",
       "      <td>2022-12-30</td>\n",
       "      <td>6</td>\n",
       "      <td>0</td>\n",
       "      <td>0</td>\n",
       "      <td>2</td>\n",
       "      <td>1</td>\n",
       "      <td>202212</td>\n",
       "    </tr>\n",
       "    <tr>\n",
       "      <th>1</th>\n",
       "      <td>1</td>\n",
       "      <td>inactive</td>\n",
       "      <td>-1000772633524872632</td>\n",
       "      <td>2022-12-30</td>\n",
       "      <td>0</td>\n",
       "      <td>-1</td>\n",
       "      <td>-1</td>\n",
       "      <td>NaN</td>\n",
       "      <td>0.0</td>\n",
       "      <td>0.0</td>\n",
       "      <td>0.0</td>\n",
       "      <td>0</td>\n",
       "      <td>0</td>\n",
       "      <td>0</td>\n",
       "      <td>11</td>\n",
       "      <td>2</td>\n",
       "      <td>2023-01-20</td>\n",
       "      <td>2</td>\n",
       "      <td>0</td>\n",
       "      <td>0</td>\n",
       "      <td>2</td>\n",
       "      <td>1</td>\n",
       "      <td>202301</td>\n",
       "    </tr>\n",
       "    <tr>\n",
       "      <th>2</th>\n",
       "      <td>2</td>\n",
       "      <td>inactive</td>\n",
       "      <td>-1006559301419582051</td>\n",
       "      <td>2022-08-15</td>\n",
       "      <td>0</td>\n",
       "      <td>-1</td>\n",
       "      <td>-1</td>\n",
       "      <td>NaN</td>\n",
       "      <td>0.0</td>\n",
       "      <td>0.0</td>\n",
       "      <td>0.0</td>\n",
       "      <td>0</td>\n",
       "      <td>0</td>\n",
       "      <td>0</td>\n",
       "      <td>4</td>\n",
       "      <td>1</td>\n",
       "      <td>2022-12-06</td>\n",
       "      <td>2</td>\n",
       "      <td>0</td>\n",
       "      <td>0</td>\n",
       "      <td>1</td>\n",
       "      <td>0</td>\n",
       "      <td>202212</td>\n",
       "    </tr>\n",
       "    <tr>\n",
       "      <th>3</th>\n",
       "      <td>3</td>\n",
       "      <td>inactive</td>\n",
       "      <td>-1006671521575354929</td>\n",
       "      <td>2023-01-03</td>\n",
       "      <td>0</td>\n",
       "      <td>-1</td>\n",
       "      <td>-1</td>\n",
       "      <td>NaN</td>\n",
       "      <td>0.0</td>\n",
       "      <td>0.0</td>\n",
       "      <td>0.0</td>\n",
       "      <td>0</td>\n",
       "      <td>0</td>\n",
       "      <td>0</td>\n",
       "      <td>35</td>\n",
       "      <td>1</td>\n",
       "      <td>2023-01-03</td>\n",
       "      <td>17</td>\n",
       "      <td>0</td>\n",
       "      <td>0</td>\n",
       "      <td>3</td>\n",
       "      <td>2</td>\n",
       "      <td>202301</td>\n",
       "    </tr>\n",
       "    <tr>\n",
       "      <th>4</th>\n",
       "      <td>4</td>\n",
       "      <td>inactive</td>\n",
       "      <td>-1008193142447905044</td>\n",
       "      <td>2021-10-16</td>\n",
       "      <td>1</td>\n",
       "      <td>-1</td>\n",
       "      <td>-1</td>\n",
       "      <td>NaN</td>\n",
       "      <td>0.0</td>\n",
       "      <td>0.0</td>\n",
       "      <td>0.0</td>\n",
       "      <td>0</td>\n",
       "      <td>0</td>\n",
       "      <td>0</td>\n",
       "      <td>158</td>\n",
       "      <td>3</td>\n",
       "      <td>2022-11-21</td>\n",
       "      <td>12</td>\n",
       "      <td>0</td>\n",
       "      <td>0</td>\n",
       "      <td>7</td>\n",
       "      <td>5</td>\n",
       "      <td>202211</td>\n",
       "    </tr>\n",
       "  </tbody>\n",
       "</table>\n",
       "</div>"
      ],
      "text/plain": [
       "   Unnamed: 0    target       hashed_user_id regist_date  is_bind_card   \n",
       "0           0    active -1000772633524872632  2022-12-30             0  \\\n",
       "1           1  inactive -1000772633524872632  2022-12-30             0   \n",
       "2           2  inactive -1006559301419582051  2022-08-15             0   \n",
       "3           3  inactive -1006671521575354929  2023-01-03             0   \n",
       "4           4  inactive -1008193142447905044  2021-10-16             1   \n",
       "\n",
       "  lastorder_usecase lastorder_platform lastorder_orderdate   \n",
       "0                -1                 -1                 NaN  \\\n",
       "1                -1                 -1                 NaN   \n",
       "2                -1                 -1                 NaN   \n",
       "3                -1                 -1                 NaN   \n",
       "4                -1                 -1                 NaN   \n",
       "\n",
       "   subtotal_amount_today_daily  subtotal_amount_recent_7days   \n",
       "0                          0.0                           0.0  \\\n",
       "1                          0.0                           0.0   \n",
       "2                          0.0                           0.0   \n",
       "3                          0.0                           0.0   \n",
       "4                          0.0                           0.0   \n",
       "\n",
       "   subtotal_amount_recent_30days  subtotal_ordercount_today_daily   \n",
       "0                            0.0                                0  \\\n",
       "1                            0.0                                0   \n",
       "2                            0.0                                0   \n",
       "3                            0.0                                0   \n",
       "4                            0.0                                0   \n",
       "\n",
       "   subtotal_ordercount_recent_7days  subtotal_ordercount_recent_30days   \n",
       "0                                 0                                  0  \\\n",
       "1                                 0                                  0   \n",
       "2                                 0                                  0   \n",
       "3                                 0                                  0   \n",
       "4                                 0                                  0   \n",
       "\n",
       "   nr_interactions  nr_days_interacted max_date_time  nr_unique_pages_visited   \n",
       "0               15                   1    2022-12-30                        6  \\\n",
       "1               11                   2    2023-01-20                        2   \n",
       "2                4                   1    2022-12-06                        2   \n",
       "3               35                   1    2023-01-03                       17   \n",
       "4              158                   3    2022-11-21                       12   \n",
       "\n",
       "   search_events  unique_search_terms  unique_app_visits   \n",
       "0              0                    0                  2  \\\n",
       "1              0                    0                  2   \n",
       "2              0                    0                  1   \n",
       "3              0                    0                  3   \n",
       "4              0                    0                  7   \n",
       "\n",
       "   unique_app_category_visits  year_month  \n",
       "0                           1      202212  \n",
       "1                           1      202301  \n",
       "2                           0      202212  \n",
       "3                           2      202301  \n",
       "4                           5      202211  "
      ]
     },
     "execution_count": 3,
     "metadata": {},
     "output_type": "execute_result"
    }
   ],
   "source": [
    "df.head()"
   ]
  },
  {
   "cell_type": "code",
   "execution_count": 4,
   "id": "9c0e258d",
   "metadata": {},
   "outputs": [],
   "source": [
    "df['max_date_time']=pd.to_datetime(df['max_date_time'])\n",
    "df['regist_date']=pd.to_datetime(df['regist_date'])\n",
    "df['lastorder_orderdate']=pd.to_datetime(df['lastorder_orderdate'])"
   ]
  },
  {
   "cell_type": "code",
   "execution_count": 5,
   "id": "8258ce6e",
   "metadata": {},
   "outputs": [],
   "source": [
    "df['target'] = df['target'].map({'active': 1, 'inactive': 0}) "
   ]
  },
  {
   "cell_type": "code",
   "execution_count": 6,
   "id": "6294647d",
   "metadata": {},
   "outputs": [],
   "source": [
    "df['lastorder_platform']=df['lastorder_platform'].replace(to_replace='-1',value=0, regex=True)\n",
    "df['transaction_platform']=df['lastorder_platform'].replace(to_replace='electrum',value=1, regex=True)"
   ]
  },
  {
   "cell_type": "code",
   "execution_count": 7,
   "id": "1ddeffdb",
   "metadata": {},
   "outputs": [],
   "source": [
    "#replace the -1s with NaN\n",
    "df=df.replace(to_replace='-1',value=np.nan, regex=True)"
   ]
  },
  {
   "cell_type": "code",
   "execution_count": 8,
   "id": "ac5d030b",
   "metadata": {
    "scrolled": true
   },
   "outputs": [],
   "source": [
    "df['lastorder_usecase'] = df['lastorder_usecase'].replace(np.nan, 0)\n",
    "df['transaction_classification'] = df['lastorder_usecase'].replace(['MOBILE', 'MINI-PROGRAM', 'PPU', 'DSTV', 'EASYPAY', 'CSB',\n",
    "       'BOXOFFICE'],[1,1,1,1,1,1,1])"
   ]
  },
  {
   "cell_type": "code",
   "execution_count": 9,
   "id": "3cd16e4a",
   "metadata": {},
   "outputs": [
    {
     "data": {
      "text/plain": [
       "array([0, 'MOBILE', 'MINI-PROGRAM', 'PPU', 'DSTV', 'EASYPAY', 'CSB',\n",
       "       'BOXOFFICE'], dtype=object)"
      ]
     },
     "execution_count": 9,
     "metadata": {},
     "output_type": "execute_result"
    }
   ],
   "source": [
    "df['lastorder_usecase'].unique()"
   ]
  },
  {
   "cell_type": "code",
   "execution_count": 10,
   "id": "32f17645",
   "metadata": {
    "scrolled": false
   },
   "outputs": [
    {
     "data": {
      "text/html": [
       "<div>\n",
       "<style scoped>\n",
       "    .dataframe tbody tr th:only-of-type {\n",
       "        vertical-align: middle;\n",
       "    }\n",
       "\n",
       "    .dataframe tbody tr th {\n",
       "        vertical-align: top;\n",
       "    }\n",
       "\n",
       "    .dataframe thead th {\n",
       "        text-align: right;\n",
       "    }\n",
       "</style>\n",
       "<table border=\"1\" class=\"dataframe\">\n",
       "  <thead>\n",
       "    <tr style=\"text-align: right;\">\n",
       "      <th></th>\n",
       "      <th>Unnamed: 0</th>\n",
       "      <th>target</th>\n",
       "      <th>hashed_user_id</th>\n",
       "      <th>regist_date</th>\n",
       "      <th>is_bind_card</th>\n",
       "      <th>lastorder_usecase</th>\n",
       "      <th>lastorder_platform</th>\n",
       "      <th>lastorder_orderdate</th>\n",
       "      <th>subtotal_amount_today_daily</th>\n",
       "      <th>subtotal_amount_recent_7days</th>\n",
       "      <th>subtotal_amount_recent_30days</th>\n",
       "      <th>subtotal_ordercount_today_daily</th>\n",
       "      <th>subtotal_ordercount_recent_7days</th>\n",
       "      <th>subtotal_ordercount_recent_30days</th>\n",
       "      <th>nr_interactions</th>\n",
       "      <th>nr_days_interacted</th>\n",
       "      <th>max_date_time</th>\n",
       "      <th>nr_unique_pages_visited</th>\n",
       "      <th>search_events</th>\n",
       "      <th>unique_search_terms</th>\n",
       "      <th>unique_app_visits</th>\n",
       "      <th>unique_app_category_visits</th>\n",
       "      <th>year_month</th>\n",
       "      <th>transaction_platform</th>\n",
       "      <th>transaction_classification</th>\n",
       "    </tr>\n",
       "  </thead>\n",
       "  <tbody>\n",
       "    <tr>\n",
       "      <th>0</th>\n",
       "      <td>0</td>\n",
       "      <td>1</td>\n",
       "      <td>-1000772633524872632</td>\n",
       "      <td>2022-12-30</td>\n",
       "      <td>0</td>\n",
       "      <td>0</td>\n",
       "      <td>0</td>\n",
       "      <td>NaT</td>\n",
       "      <td>0.0</td>\n",
       "      <td>0.0</td>\n",
       "      <td>0.0</td>\n",
       "      <td>0</td>\n",
       "      <td>0</td>\n",
       "      <td>0</td>\n",
       "      <td>15</td>\n",
       "      <td>1</td>\n",
       "      <td>2022-12-30</td>\n",
       "      <td>6</td>\n",
       "      <td>0</td>\n",
       "      <td>0</td>\n",
       "      <td>2</td>\n",
       "      <td>1</td>\n",
       "      <td>202212</td>\n",
       "      <td>0</td>\n",
       "      <td>0</td>\n",
       "    </tr>\n",
       "    <tr>\n",
       "      <th>6</th>\n",
       "      <td>6</td>\n",
       "      <td>1</td>\n",
       "      <td>-1020500780636001202</td>\n",
       "      <td>2022-04-07</td>\n",
       "      <td>1</td>\n",
       "      <td>MOBILE</td>\n",
       "      <td>electrum</td>\n",
       "      <td>2022-10-19</td>\n",
       "      <td>0.0</td>\n",
       "      <td>0.0</td>\n",
       "      <td>41.0</td>\n",
       "      <td>0</td>\n",
       "      <td>0</td>\n",
       "      <td>2</td>\n",
       "      <td>393</td>\n",
       "      <td>17</td>\n",
       "      <td>2022-10-24</td>\n",
       "      <td>20</td>\n",
       "      <td>0</td>\n",
       "      <td>0</td>\n",
       "      <td>4</td>\n",
       "      <td>2</td>\n",
       "      <td>202210</td>\n",
       "      <td>1</td>\n",
       "      <td>1</td>\n",
       "    </tr>\n",
       "    <tr>\n",
       "      <th>7</th>\n",
       "      <td>7</td>\n",
       "      <td>1</td>\n",
       "      <td>-1020500780636001202</td>\n",
       "      <td>2022-04-07</td>\n",
       "      <td>1</td>\n",
       "      <td>MOBILE</td>\n",
       "      <td>electrum</td>\n",
       "      <td>2022-11-29</td>\n",
       "      <td>0.0</td>\n",
       "      <td>11.0</td>\n",
       "      <td>66.0</td>\n",
       "      <td>0</td>\n",
       "      <td>2</td>\n",
       "      <td>3</td>\n",
       "      <td>391</td>\n",
       "      <td>15</td>\n",
       "      <td>2022-11-30</td>\n",
       "      <td>20</td>\n",
       "      <td>0</td>\n",
       "      <td>0</td>\n",
       "      <td>5</td>\n",
       "      <td>3</td>\n",
       "      <td>202211</td>\n",
       "      <td>1</td>\n",
       "      <td>1</td>\n",
       "    </tr>\n",
       "    <tr>\n",
       "      <th>8</th>\n",
       "      <td>8</td>\n",
       "      <td>1</td>\n",
       "      <td>-1020500780636001202</td>\n",
       "      <td>2022-04-07</td>\n",
       "      <td>1</td>\n",
       "      <td>MOBILE</td>\n",
       "      <td>electrum</td>\n",
       "      <td>2022-12-18</td>\n",
       "      <td>0.0</td>\n",
       "      <td>0.0</td>\n",
       "      <td>12.0</td>\n",
       "      <td>0</td>\n",
       "      <td>0</td>\n",
       "      <td>1</td>\n",
       "      <td>241</td>\n",
       "      <td>12</td>\n",
       "      <td>2022-12-25</td>\n",
       "      <td>17</td>\n",
       "      <td>0</td>\n",
       "      <td>0</td>\n",
       "      <td>3</td>\n",
       "      <td>2</td>\n",
       "      <td>202212</td>\n",
       "      <td>1</td>\n",
       "      <td>1</td>\n",
       "    </tr>\n",
       "    <tr>\n",
       "      <th>10</th>\n",
       "      <td>10</td>\n",
       "      <td>1</td>\n",
       "      <td>-1025425308758786705</td>\n",
       "      <td>2021-11-21</td>\n",
       "      <td>1</td>\n",
       "      <td>MOBILE</td>\n",
       "      <td>electrum</td>\n",
       "      <td>2022-11-15</td>\n",
       "      <td>0.0</td>\n",
       "      <td>0.0</td>\n",
       "      <td>2.0</td>\n",
       "      <td>0</td>\n",
       "      <td>0</td>\n",
       "      <td>2</td>\n",
       "      <td>112</td>\n",
       "      <td>5</td>\n",
       "      <td>2022-11-20</td>\n",
       "      <td>17</td>\n",
       "      <td>0</td>\n",
       "      <td>0</td>\n",
       "      <td>1</td>\n",
       "      <td>0</td>\n",
       "      <td>202211</td>\n",
       "      <td>1</td>\n",
       "      <td>1</td>\n",
       "    </tr>\n",
       "    <tr>\n",
       "      <th>14</th>\n",
       "      <td>14</td>\n",
       "      <td>1</td>\n",
       "      <td>-1035723040212708714</td>\n",
       "      <td>2022-03-08</td>\n",
       "      <td>0</td>\n",
       "      <td>0</td>\n",
       "      <td>0</td>\n",
       "      <td>NaT</td>\n",
       "      <td>0.0</td>\n",
       "      <td>0.0</td>\n",
       "      <td>0.0</td>\n",
       "      <td>0</td>\n",
       "      <td>0</td>\n",
       "      <td>0</td>\n",
       "      <td>6</td>\n",
       "      <td>1</td>\n",
       "      <td>2022-12-14</td>\n",
       "      <td>4</td>\n",
       "      <td>0</td>\n",
       "      <td>0</td>\n",
       "      <td>1</td>\n",
       "      <td>0</td>\n",
       "      <td>202212</td>\n",
       "      <td>0</td>\n",
       "      <td>0</td>\n",
       "    </tr>\n",
       "    <tr>\n",
       "      <th>18</th>\n",
       "      <td>18</td>\n",
       "      <td>1</td>\n",
       "      <td>-1039324446190480117</td>\n",
       "      <td>2022-10-11</td>\n",
       "      <td>1</td>\n",
       "      <td>MOBILE</td>\n",
       "      <td>electrum</td>\n",
       "      <td>2022-10-31</td>\n",
       "      <td>349.0</td>\n",
       "      <td>508.0</td>\n",
       "      <td>667.0</td>\n",
       "      <td>1</td>\n",
       "      <td>2</td>\n",
       "      <td>3</td>\n",
       "      <td>428</td>\n",
       "      <td>14</td>\n",
       "      <td>2022-10-31</td>\n",
       "      <td>26</td>\n",
       "      <td>0</td>\n",
       "      <td>0</td>\n",
       "      <td>3</td>\n",
       "      <td>2</td>\n",
       "      <td>202210</td>\n",
       "      <td>1</td>\n",
       "      <td>1</td>\n",
       "    </tr>\n",
       "    <tr>\n",
       "      <th>19</th>\n",
       "      <td>19</td>\n",
       "      <td>1</td>\n",
       "      <td>-1039324446190480117</td>\n",
       "      <td>2022-10-11</td>\n",
       "      <td>1</td>\n",
       "      <td>MOBILE</td>\n",
       "      <td>electrum</td>\n",
       "      <td>2022-11-28</td>\n",
       "      <td>0.0</td>\n",
       "      <td>648.0</td>\n",
       "      <td>807.0</td>\n",
       "      <td>0</td>\n",
       "      <td>2</td>\n",
       "      <td>3</td>\n",
       "      <td>232</td>\n",
       "      <td>7</td>\n",
       "      <td>2022-11-29</td>\n",
       "      <td>12</td>\n",
       "      <td>0</td>\n",
       "      <td>0</td>\n",
       "      <td>2</td>\n",
       "      <td>2</td>\n",
       "      <td>202211</td>\n",
       "      <td>1</td>\n",
       "      <td>1</td>\n",
       "    </tr>\n",
       "    <tr>\n",
       "      <th>20</th>\n",
       "      <td>20</td>\n",
       "      <td>1</td>\n",
       "      <td>-1039324446190480117</td>\n",
       "      <td>2022-10-11</td>\n",
       "      <td>1</td>\n",
       "      <td>MOBILE</td>\n",
       "      <td>electrum</td>\n",
       "      <td>2022-12-31</td>\n",
       "      <td>398.0</td>\n",
       "      <td>697.0</td>\n",
       "      <td>697.0</td>\n",
       "      <td>3</td>\n",
       "      <td>4</td>\n",
       "      <td>4</td>\n",
       "      <td>160</td>\n",
       "      <td>5</td>\n",
       "      <td>2022-12-31</td>\n",
       "      <td>15</td>\n",
       "      <td>0</td>\n",
       "      <td>0</td>\n",
       "      <td>3</td>\n",
       "      <td>2</td>\n",
       "      <td>202212</td>\n",
       "      <td>1</td>\n",
       "      <td>1</td>\n",
       "    </tr>\n",
       "    <tr>\n",
       "      <th>24</th>\n",
       "      <td>24</td>\n",
       "      <td>1</td>\n",
       "      <td>-1042614637104759781</td>\n",
       "      <td>2022-03-25</td>\n",
       "      <td>1</td>\n",
       "      <td>0</td>\n",
       "      <td>0</td>\n",
       "      <td>NaT</td>\n",
       "      <td>0.0</td>\n",
       "      <td>0.0</td>\n",
       "      <td>0.0</td>\n",
       "      <td>0</td>\n",
       "      <td>0</td>\n",
       "      <td>0</td>\n",
       "      <td>8</td>\n",
       "      <td>1</td>\n",
       "      <td>2022-10-07</td>\n",
       "      <td>5</td>\n",
       "      <td>0</td>\n",
       "      <td>0</td>\n",
       "      <td>1</td>\n",
       "      <td>0</td>\n",
       "      <td>202210</td>\n",
       "      <td>0</td>\n",
       "      <td>0</td>\n",
       "    </tr>\n",
       "  </tbody>\n",
       "</table>\n",
       "</div>"
      ],
      "text/plain": [
       "    Unnamed: 0  target       hashed_user_id regist_date  is_bind_card   \n",
       "0            0       1 -1000772633524872632  2022-12-30             0  \\\n",
       "6            6       1 -1020500780636001202  2022-04-07             1   \n",
       "7            7       1 -1020500780636001202  2022-04-07             1   \n",
       "8            8       1 -1020500780636001202  2022-04-07             1   \n",
       "10          10       1 -1025425308758786705  2021-11-21             1   \n",
       "14          14       1 -1035723040212708714  2022-03-08             0   \n",
       "18          18       1 -1039324446190480117  2022-10-11             1   \n",
       "19          19       1 -1039324446190480117  2022-10-11             1   \n",
       "20          20       1 -1039324446190480117  2022-10-11             1   \n",
       "24          24       1 -1042614637104759781  2022-03-25             1   \n",
       "\n",
       "   lastorder_usecase lastorder_platform lastorder_orderdate   \n",
       "0                  0                  0                 NaT  \\\n",
       "6             MOBILE           electrum          2022-10-19   \n",
       "7             MOBILE           electrum          2022-11-29   \n",
       "8             MOBILE           electrum          2022-12-18   \n",
       "10            MOBILE           electrum          2022-11-15   \n",
       "14                 0                  0                 NaT   \n",
       "18            MOBILE           electrum          2022-10-31   \n",
       "19            MOBILE           electrum          2022-11-28   \n",
       "20            MOBILE           electrum          2022-12-31   \n",
       "24                 0                  0                 NaT   \n",
       "\n",
       "    subtotal_amount_today_daily  subtotal_amount_recent_7days   \n",
       "0                           0.0                           0.0  \\\n",
       "6                           0.0                           0.0   \n",
       "7                           0.0                          11.0   \n",
       "8                           0.0                           0.0   \n",
       "10                          0.0                           0.0   \n",
       "14                          0.0                           0.0   \n",
       "18                        349.0                         508.0   \n",
       "19                          0.0                         648.0   \n",
       "20                        398.0                         697.0   \n",
       "24                          0.0                           0.0   \n",
       "\n",
       "    subtotal_amount_recent_30days  subtotal_ordercount_today_daily   \n",
       "0                             0.0                                0  \\\n",
       "6                            41.0                                0   \n",
       "7                            66.0                                0   \n",
       "8                            12.0                                0   \n",
       "10                            2.0                                0   \n",
       "14                            0.0                                0   \n",
       "18                          667.0                                1   \n",
       "19                          807.0                                0   \n",
       "20                          697.0                                3   \n",
       "24                            0.0                                0   \n",
       "\n",
       "    subtotal_ordercount_recent_7days  subtotal_ordercount_recent_30days   \n",
       "0                                  0                                  0  \\\n",
       "6                                  0                                  2   \n",
       "7                                  2                                  3   \n",
       "8                                  0                                  1   \n",
       "10                                 0                                  2   \n",
       "14                                 0                                  0   \n",
       "18                                 2                                  3   \n",
       "19                                 2                                  3   \n",
       "20                                 4                                  4   \n",
       "24                                 0                                  0   \n",
       "\n",
       "    nr_interactions  nr_days_interacted max_date_time   \n",
       "0                15                   1    2022-12-30  \\\n",
       "6               393                  17    2022-10-24   \n",
       "7               391                  15    2022-11-30   \n",
       "8               241                  12    2022-12-25   \n",
       "10              112                   5    2022-11-20   \n",
       "14                6                   1    2022-12-14   \n",
       "18              428                  14    2022-10-31   \n",
       "19              232                   7    2022-11-29   \n",
       "20              160                   5    2022-12-31   \n",
       "24                8                   1    2022-10-07   \n",
       "\n",
       "    nr_unique_pages_visited  search_events  unique_search_terms   \n",
       "0                         6              0                    0  \\\n",
       "6                        20              0                    0   \n",
       "7                        20              0                    0   \n",
       "8                        17              0                    0   \n",
       "10                       17              0                    0   \n",
       "14                        4              0                    0   \n",
       "18                       26              0                    0   \n",
       "19                       12              0                    0   \n",
       "20                       15              0                    0   \n",
       "24                        5              0                    0   \n",
       "\n",
       "    unique_app_visits  unique_app_category_visits  year_month   \n",
       "0                   2                           1      202212  \\\n",
       "6                   4                           2      202210   \n",
       "7                   5                           3      202211   \n",
       "8                   3                           2      202212   \n",
       "10                  1                           0      202211   \n",
       "14                  1                           0      202212   \n",
       "18                  3                           2      202210   \n",
       "19                  2                           2      202211   \n",
       "20                  3                           2      202212   \n",
       "24                  1                           0      202210   \n",
       "\n",
       "    transaction_platform  transaction_classification  \n",
       "0                      0                           0  \n",
       "6                      1                           1  \n",
       "7                      1                           1  \n",
       "8                      1                           1  \n",
       "10                     1                           1  \n",
       "14                     0                           0  \n",
       "18                     1                           1  \n",
       "19                     1                           1  \n",
       "20                     1                           1  \n",
       "24                     0                           0  "
      ]
     },
     "execution_count": 10,
     "metadata": {},
     "output_type": "execute_result"
    }
   ],
   "source": [
    "df_active=df.query('target==1')\n",
    "df_active.head(10)"
   ]
  },
  {
   "cell_type": "code",
   "execution_count": 11,
   "id": "8a103a75",
   "metadata": {
    "scrolled": false
   },
   "outputs": [
    {
     "data": {
      "text/html": [
       "<div>\n",
       "<style scoped>\n",
       "    .dataframe tbody tr th:only-of-type {\n",
       "        vertical-align: middle;\n",
       "    }\n",
       "\n",
       "    .dataframe tbody tr th {\n",
       "        vertical-align: top;\n",
       "    }\n",
       "\n",
       "    .dataframe thead th {\n",
       "        text-align: right;\n",
       "    }\n",
       "</style>\n",
       "<table border=\"1\" class=\"dataframe\">\n",
       "  <thead>\n",
       "    <tr style=\"text-align: right;\">\n",
       "      <th></th>\n",
       "      <th>Unnamed: 0</th>\n",
       "      <th>target</th>\n",
       "      <th>hashed_user_id</th>\n",
       "      <th>regist_date</th>\n",
       "      <th>is_bind_card</th>\n",
       "      <th>lastorder_usecase</th>\n",
       "      <th>lastorder_platform</th>\n",
       "      <th>lastorder_orderdate</th>\n",
       "      <th>subtotal_amount_today_daily</th>\n",
       "      <th>subtotal_amount_recent_7days</th>\n",
       "      <th>subtotal_amount_recent_30days</th>\n",
       "      <th>subtotal_ordercount_today_daily</th>\n",
       "      <th>subtotal_ordercount_recent_7days</th>\n",
       "      <th>subtotal_ordercount_recent_30days</th>\n",
       "      <th>nr_interactions</th>\n",
       "      <th>nr_days_interacted</th>\n",
       "      <th>max_date_time</th>\n",
       "      <th>nr_unique_pages_visited</th>\n",
       "      <th>search_events</th>\n",
       "      <th>unique_search_terms</th>\n",
       "      <th>unique_app_visits</th>\n",
       "      <th>unique_app_category_visits</th>\n",
       "      <th>year_month</th>\n",
       "      <th>transaction_platform</th>\n",
       "      <th>transaction_classification</th>\n",
       "    </tr>\n",
       "  </thead>\n",
       "  <tbody>\n",
       "    <tr>\n",
       "      <th>1</th>\n",
       "      <td>1</td>\n",
       "      <td>0</td>\n",
       "      <td>-1000772633524872632</td>\n",
       "      <td>2022-12-30</td>\n",
       "      <td>0</td>\n",
       "      <td>0</td>\n",
       "      <td>0</td>\n",
       "      <td>NaT</td>\n",
       "      <td>0.0</td>\n",
       "      <td>0.0</td>\n",
       "      <td>0.0</td>\n",
       "      <td>0</td>\n",
       "      <td>0</td>\n",
       "      <td>0</td>\n",
       "      <td>11</td>\n",
       "      <td>2</td>\n",
       "      <td>2023-01-20</td>\n",
       "      <td>2</td>\n",
       "      <td>0</td>\n",
       "      <td>0</td>\n",
       "      <td>2</td>\n",
       "      <td>1</td>\n",
       "      <td>202301</td>\n",
       "      <td>0</td>\n",
       "      <td>0</td>\n",
       "    </tr>\n",
       "    <tr>\n",
       "      <th>2</th>\n",
       "      <td>2</td>\n",
       "      <td>0</td>\n",
       "      <td>-1006559301419582051</td>\n",
       "      <td>2022-08-15</td>\n",
       "      <td>0</td>\n",
       "      <td>0</td>\n",
       "      <td>0</td>\n",
       "      <td>NaT</td>\n",
       "      <td>0.0</td>\n",
       "      <td>0.0</td>\n",
       "      <td>0.0</td>\n",
       "      <td>0</td>\n",
       "      <td>0</td>\n",
       "      <td>0</td>\n",
       "      <td>4</td>\n",
       "      <td>1</td>\n",
       "      <td>2022-12-06</td>\n",
       "      <td>2</td>\n",
       "      <td>0</td>\n",
       "      <td>0</td>\n",
       "      <td>1</td>\n",
       "      <td>0</td>\n",
       "      <td>202212</td>\n",
       "      <td>0</td>\n",
       "      <td>0</td>\n",
       "    </tr>\n",
       "    <tr>\n",
       "      <th>3</th>\n",
       "      <td>3</td>\n",
       "      <td>0</td>\n",
       "      <td>-1006671521575354929</td>\n",
       "      <td>2023-01-03</td>\n",
       "      <td>0</td>\n",
       "      <td>0</td>\n",
       "      <td>0</td>\n",
       "      <td>NaT</td>\n",
       "      <td>0.0</td>\n",
       "      <td>0.0</td>\n",
       "      <td>0.0</td>\n",
       "      <td>0</td>\n",
       "      <td>0</td>\n",
       "      <td>0</td>\n",
       "      <td>35</td>\n",
       "      <td>1</td>\n",
       "      <td>2023-01-03</td>\n",
       "      <td>17</td>\n",
       "      <td>0</td>\n",
       "      <td>0</td>\n",
       "      <td>3</td>\n",
       "      <td>2</td>\n",
       "      <td>202301</td>\n",
       "      <td>0</td>\n",
       "      <td>0</td>\n",
       "    </tr>\n",
       "    <tr>\n",
       "      <th>4</th>\n",
       "      <td>4</td>\n",
       "      <td>0</td>\n",
       "      <td>-1008193142447905044</td>\n",
       "      <td>2021-10-16</td>\n",
       "      <td>1</td>\n",
       "      <td>0</td>\n",
       "      <td>0</td>\n",
       "      <td>NaT</td>\n",
       "      <td>0.0</td>\n",
       "      <td>0.0</td>\n",
       "      <td>0.0</td>\n",
       "      <td>0</td>\n",
       "      <td>0</td>\n",
       "      <td>0</td>\n",
       "      <td>158</td>\n",
       "      <td>3</td>\n",
       "      <td>2022-11-21</td>\n",
       "      <td>12</td>\n",
       "      <td>0</td>\n",
       "      <td>0</td>\n",
       "      <td>7</td>\n",
       "      <td>5</td>\n",
       "      <td>202211</td>\n",
       "      <td>0</td>\n",
       "      <td>0</td>\n",
       "    </tr>\n",
       "    <tr>\n",
       "      <th>5</th>\n",
       "      <td>5</td>\n",
       "      <td>0</td>\n",
       "      <td>-1008849587519297040</td>\n",
       "      <td>2022-12-18</td>\n",
       "      <td>0</td>\n",
       "      <td>0</td>\n",
       "      <td>0</td>\n",
       "      <td>NaT</td>\n",
       "      <td>0.0</td>\n",
       "      <td>0.0</td>\n",
       "      <td>0.0</td>\n",
       "      <td>0</td>\n",
       "      <td>0</td>\n",
       "      <td>0</td>\n",
       "      <td>11</td>\n",
       "      <td>1</td>\n",
       "      <td>2022-12-18</td>\n",
       "      <td>4</td>\n",
       "      <td>0</td>\n",
       "      <td>0</td>\n",
       "      <td>2</td>\n",
       "      <td>2</td>\n",
       "      <td>202212</td>\n",
       "      <td>0</td>\n",
       "      <td>0</td>\n",
       "    </tr>\n",
       "    <tr>\n",
       "      <th>9</th>\n",
       "      <td>9</td>\n",
       "      <td>0</td>\n",
       "      <td>-1020500780636001202</td>\n",
       "      <td>2022-04-07</td>\n",
       "      <td>1</td>\n",
       "      <td>MOBILE</td>\n",
       "      <td>electrum</td>\n",
       "      <td>2022-12-18</td>\n",
       "      <td>0.0</td>\n",
       "      <td>0.0</td>\n",
       "      <td>0.0</td>\n",
       "      <td>0</td>\n",
       "      <td>0</td>\n",
       "      <td>0</td>\n",
       "      <td>86</td>\n",
       "      <td>5</td>\n",
       "      <td>2023-01-28</td>\n",
       "      <td>11</td>\n",
       "      <td>0</td>\n",
       "      <td>0</td>\n",
       "      <td>2</td>\n",
       "      <td>1</td>\n",
       "      <td>202301</td>\n",
       "      <td>1</td>\n",
       "      <td>1</td>\n",
       "    </tr>\n",
       "    <tr>\n",
       "      <th>11</th>\n",
       "      <td>11</td>\n",
       "      <td>0</td>\n",
       "      <td>-1025425308758786705</td>\n",
       "      <td>2021-11-21</td>\n",
       "      <td>1</td>\n",
       "      <td>MOBILE</td>\n",
       "      <td>electrum</td>\n",
       "      <td>2022-11-15</td>\n",
       "      <td>0.0</td>\n",
       "      <td>0.0</td>\n",
       "      <td>0.0</td>\n",
       "      <td>0</td>\n",
       "      <td>0</td>\n",
       "      <td>0</td>\n",
       "      <td>15</td>\n",
       "      <td>1</td>\n",
       "      <td>2022-12-02</td>\n",
       "      <td>8</td>\n",
       "      <td>0</td>\n",
       "      <td>0</td>\n",
       "      <td>1</td>\n",
       "      <td>0</td>\n",
       "      <td>202212</td>\n",
       "      <td>1</td>\n",
       "      <td>1</td>\n",
       "    </tr>\n",
       "    <tr>\n",
       "      <th>12</th>\n",
       "      <td>12</td>\n",
       "      <td>0</td>\n",
       "      <td>-1030341130419364162</td>\n",
       "      <td>2022-11-08</td>\n",
       "      <td>0</td>\n",
       "      <td>0</td>\n",
       "      <td>0</td>\n",
       "      <td>NaT</td>\n",
       "      <td>0.0</td>\n",
       "      <td>0.0</td>\n",
       "      <td>0.0</td>\n",
       "      <td>0</td>\n",
       "      <td>0</td>\n",
       "      <td>0</td>\n",
       "      <td>18</td>\n",
       "      <td>1</td>\n",
       "      <td>2022-11-08</td>\n",
       "      <td>5</td>\n",
       "      <td>0</td>\n",
       "      <td>0</td>\n",
       "      <td>2</td>\n",
       "      <td>1</td>\n",
       "      <td>202211</td>\n",
       "      <td>0</td>\n",
       "      <td>0</td>\n",
       "    </tr>\n",
       "    <tr>\n",
       "      <th>13</th>\n",
       "      <td>13</td>\n",
       "      <td>0</td>\n",
       "      <td>-1031756872652502710</td>\n",
       "      <td>2022-12-03</td>\n",
       "      <td>0</td>\n",
       "      <td>0</td>\n",
       "      <td>0</td>\n",
       "      <td>NaT</td>\n",
       "      <td>0.0</td>\n",
       "      <td>0.0</td>\n",
       "      <td>0.0</td>\n",
       "      <td>0</td>\n",
       "      <td>0</td>\n",
       "      <td>0</td>\n",
       "      <td>11</td>\n",
       "      <td>2</td>\n",
       "      <td>2022-12-13</td>\n",
       "      <td>5</td>\n",
       "      <td>0</td>\n",
       "      <td>0</td>\n",
       "      <td>2</td>\n",
       "      <td>1</td>\n",
       "      <td>202212</td>\n",
       "      <td>0</td>\n",
       "      <td>0</td>\n",
       "    </tr>\n",
       "    <tr>\n",
       "      <th>15</th>\n",
       "      <td>15</td>\n",
       "      <td>0</td>\n",
       "      <td>-1035723040212708714</td>\n",
       "      <td>2022-03-08</td>\n",
       "      <td>0</td>\n",
       "      <td>0</td>\n",
       "      <td>0</td>\n",
       "      <td>NaT</td>\n",
       "      <td>0.0</td>\n",
       "      <td>0.0</td>\n",
       "      <td>0.0</td>\n",
       "      <td>0</td>\n",
       "      <td>0</td>\n",
       "      <td>0</td>\n",
       "      <td>10</td>\n",
       "      <td>1</td>\n",
       "      <td>2023-01-17</td>\n",
       "      <td>4</td>\n",
       "      <td>0</td>\n",
       "      <td>0</td>\n",
       "      <td>2</td>\n",
       "      <td>1</td>\n",
       "      <td>202301</td>\n",
       "      <td>0</td>\n",
       "      <td>0</td>\n",
       "    </tr>\n",
       "  </tbody>\n",
       "</table>\n",
       "</div>"
      ],
      "text/plain": [
       "    Unnamed: 0  target       hashed_user_id regist_date  is_bind_card   \n",
       "1            1       0 -1000772633524872632  2022-12-30             0  \\\n",
       "2            2       0 -1006559301419582051  2022-08-15             0   \n",
       "3            3       0 -1006671521575354929  2023-01-03             0   \n",
       "4            4       0 -1008193142447905044  2021-10-16             1   \n",
       "5            5       0 -1008849587519297040  2022-12-18             0   \n",
       "9            9       0 -1020500780636001202  2022-04-07             1   \n",
       "11          11       0 -1025425308758786705  2021-11-21             1   \n",
       "12          12       0 -1030341130419364162  2022-11-08             0   \n",
       "13          13       0 -1031756872652502710  2022-12-03             0   \n",
       "15          15       0 -1035723040212708714  2022-03-08             0   \n",
       "\n",
       "   lastorder_usecase lastorder_platform lastorder_orderdate   \n",
       "1                  0                  0                 NaT  \\\n",
       "2                  0                  0                 NaT   \n",
       "3                  0                  0                 NaT   \n",
       "4                  0                  0                 NaT   \n",
       "5                  0                  0                 NaT   \n",
       "9             MOBILE           electrum          2022-12-18   \n",
       "11            MOBILE           electrum          2022-11-15   \n",
       "12                 0                  0                 NaT   \n",
       "13                 0                  0                 NaT   \n",
       "15                 0                  0                 NaT   \n",
       "\n",
       "    subtotal_amount_today_daily  subtotal_amount_recent_7days   \n",
       "1                           0.0                           0.0  \\\n",
       "2                           0.0                           0.0   \n",
       "3                           0.0                           0.0   \n",
       "4                           0.0                           0.0   \n",
       "5                           0.0                           0.0   \n",
       "9                           0.0                           0.0   \n",
       "11                          0.0                           0.0   \n",
       "12                          0.0                           0.0   \n",
       "13                          0.0                           0.0   \n",
       "15                          0.0                           0.0   \n",
       "\n",
       "    subtotal_amount_recent_30days  subtotal_ordercount_today_daily   \n",
       "1                             0.0                                0  \\\n",
       "2                             0.0                                0   \n",
       "3                             0.0                                0   \n",
       "4                             0.0                                0   \n",
       "5                             0.0                                0   \n",
       "9                             0.0                                0   \n",
       "11                            0.0                                0   \n",
       "12                            0.0                                0   \n",
       "13                            0.0                                0   \n",
       "15                            0.0                                0   \n",
       "\n",
       "    subtotal_ordercount_recent_7days  subtotal_ordercount_recent_30days   \n",
       "1                                  0                                  0  \\\n",
       "2                                  0                                  0   \n",
       "3                                  0                                  0   \n",
       "4                                  0                                  0   \n",
       "5                                  0                                  0   \n",
       "9                                  0                                  0   \n",
       "11                                 0                                  0   \n",
       "12                                 0                                  0   \n",
       "13                                 0                                  0   \n",
       "15                                 0                                  0   \n",
       "\n",
       "    nr_interactions  nr_days_interacted max_date_time   \n",
       "1                11                   2    2023-01-20  \\\n",
       "2                 4                   1    2022-12-06   \n",
       "3                35                   1    2023-01-03   \n",
       "4               158                   3    2022-11-21   \n",
       "5                11                   1    2022-12-18   \n",
       "9                86                   5    2023-01-28   \n",
       "11               15                   1    2022-12-02   \n",
       "12               18                   1    2022-11-08   \n",
       "13               11                   2    2022-12-13   \n",
       "15               10                   1    2023-01-17   \n",
       "\n",
       "    nr_unique_pages_visited  search_events  unique_search_terms   \n",
       "1                         2              0                    0  \\\n",
       "2                         2              0                    0   \n",
       "3                        17              0                    0   \n",
       "4                        12              0                    0   \n",
       "5                         4              0                    0   \n",
       "9                        11              0                    0   \n",
       "11                        8              0                    0   \n",
       "12                        5              0                    0   \n",
       "13                        5              0                    0   \n",
       "15                        4              0                    0   \n",
       "\n",
       "    unique_app_visits  unique_app_category_visits  year_month   \n",
       "1                   2                           1      202301  \\\n",
       "2                   1                           0      202212   \n",
       "3                   3                           2      202301   \n",
       "4                   7                           5      202211   \n",
       "5                   2                           2      202212   \n",
       "9                   2                           1      202301   \n",
       "11                  1                           0      202212   \n",
       "12                  2                           1      202211   \n",
       "13                  2                           1      202212   \n",
       "15                  2                           1      202301   \n",
       "\n",
       "    transaction_platform  transaction_classification  \n",
       "1                      0                           0  \n",
       "2                      0                           0  \n",
       "3                      0                           0  \n",
       "4                      0                           0  \n",
       "5                      0                           0  \n",
       "9                      1                           1  \n",
       "11                     1                           1  \n",
       "12                     0                           0  \n",
       "13                     0                           0  \n",
       "15                     0                           0  "
      ]
     },
     "execution_count": 11,
     "metadata": {},
     "output_type": "execute_result"
    }
   ],
   "source": [
    "df_inactive=df.query('target==0')\n",
    "df_inactive.head(10)"
   ]
  },
  {
   "cell_type": "code",
   "execution_count": 12,
   "id": "c493033d",
   "metadata": {
    "scrolled": true
   },
   "outputs": [
    {
     "data": {
      "text/html": [
       "<div>\n",
       "<style scoped>\n",
       "    .dataframe tbody tr th:only-of-type {\n",
       "        vertical-align: middle;\n",
       "    }\n",
       "\n",
       "    .dataframe tbody tr th {\n",
       "        vertical-align: top;\n",
       "    }\n",
       "\n",
       "    .dataframe thead th {\n",
       "        text-align: right;\n",
       "    }\n",
       "</style>\n",
       "<table border=\"1\" class=\"dataframe\">\n",
       "  <thead>\n",
       "    <tr style=\"text-align: right;\">\n",
       "      <th></th>\n",
       "      <th>Unnamed: 0</th>\n",
       "      <th>target</th>\n",
       "      <th>hashed_user_id</th>\n",
       "      <th>regist_date</th>\n",
       "      <th>is_bind_card</th>\n",
       "      <th>lastorder_usecase</th>\n",
       "      <th>lastorder_platform</th>\n",
       "      <th>lastorder_orderdate</th>\n",
       "      <th>subtotal_amount_today_daily</th>\n",
       "      <th>subtotal_amount_recent_7days</th>\n",
       "      <th>subtotal_amount_recent_30days</th>\n",
       "      <th>subtotal_ordercount_today_daily</th>\n",
       "      <th>subtotal_ordercount_recent_7days</th>\n",
       "      <th>subtotal_ordercount_recent_30days</th>\n",
       "      <th>nr_interactions</th>\n",
       "      <th>nr_days_interacted</th>\n",
       "      <th>max_date_time</th>\n",
       "      <th>nr_unique_pages_visited</th>\n",
       "      <th>search_events</th>\n",
       "      <th>unique_search_terms</th>\n",
       "      <th>unique_app_visits</th>\n",
       "      <th>unique_app_category_visits</th>\n",
       "      <th>year_month</th>\n",
       "      <th>transaction_platform</th>\n",
       "      <th>transaction_classification</th>\n",
       "    </tr>\n",
       "  </thead>\n",
       "  <tbody>\n",
       "    <tr>\n",
       "      <th>0</th>\n",
       "      <td>0</td>\n",
       "      <td>1</td>\n",
       "      <td>-1000772633524872632</td>\n",
       "      <td>2022-12-30</td>\n",
       "      <td>0</td>\n",
       "      <td>0</td>\n",
       "      <td>0</td>\n",
       "      <td>NaT</td>\n",
       "      <td>0.0</td>\n",
       "      <td>0.0</td>\n",
       "      <td>0.0</td>\n",
       "      <td>0</td>\n",
       "      <td>0</td>\n",
       "      <td>0</td>\n",
       "      <td>15</td>\n",
       "      <td>1</td>\n",
       "      <td>2022-12-30</td>\n",
       "      <td>6</td>\n",
       "      <td>0</td>\n",
       "      <td>0</td>\n",
       "      <td>2</td>\n",
       "      <td>1</td>\n",
       "      <td>202212</td>\n",
       "      <td>0</td>\n",
       "      <td>0</td>\n",
       "    </tr>\n",
       "    <tr>\n",
       "      <th>1</th>\n",
       "      <td>1</td>\n",
       "      <td>0</td>\n",
       "      <td>-1000772633524872632</td>\n",
       "      <td>2022-12-30</td>\n",
       "      <td>0</td>\n",
       "      <td>0</td>\n",
       "      <td>0</td>\n",
       "      <td>NaT</td>\n",
       "      <td>0.0</td>\n",
       "      <td>0.0</td>\n",
       "      <td>0.0</td>\n",
       "      <td>0</td>\n",
       "      <td>0</td>\n",
       "      <td>0</td>\n",
       "      <td>11</td>\n",
       "      <td>2</td>\n",
       "      <td>2023-01-20</td>\n",
       "      <td>2</td>\n",
       "      <td>0</td>\n",
       "      <td>0</td>\n",
       "      <td>2</td>\n",
       "      <td>1</td>\n",
       "      <td>202301</td>\n",
       "      <td>0</td>\n",
       "      <td>0</td>\n",
       "    </tr>\n",
       "    <tr>\n",
       "      <th>2</th>\n",
       "      <td>2</td>\n",
       "      <td>0</td>\n",
       "      <td>-1006559301419582051</td>\n",
       "      <td>2022-08-15</td>\n",
       "      <td>0</td>\n",
       "      <td>0</td>\n",
       "      <td>0</td>\n",
       "      <td>NaT</td>\n",
       "      <td>0.0</td>\n",
       "      <td>0.0</td>\n",
       "      <td>0.0</td>\n",
       "      <td>0</td>\n",
       "      <td>0</td>\n",
       "      <td>0</td>\n",
       "      <td>4</td>\n",
       "      <td>1</td>\n",
       "      <td>2022-12-06</td>\n",
       "      <td>2</td>\n",
       "      <td>0</td>\n",
       "      <td>0</td>\n",
       "      <td>1</td>\n",
       "      <td>0</td>\n",
       "      <td>202212</td>\n",
       "      <td>0</td>\n",
       "      <td>0</td>\n",
       "    </tr>\n",
       "    <tr>\n",
       "      <th>3</th>\n",
       "      <td>3</td>\n",
       "      <td>0</td>\n",
       "      <td>-1006671521575354929</td>\n",
       "      <td>2023-01-03</td>\n",
       "      <td>0</td>\n",
       "      <td>0</td>\n",
       "      <td>0</td>\n",
       "      <td>NaT</td>\n",
       "      <td>0.0</td>\n",
       "      <td>0.0</td>\n",
       "      <td>0.0</td>\n",
       "      <td>0</td>\n",
       "      <td>0</td>\n",
       "      <td>0</td>\n",
       "      <td>35</td>\n",
       "      <td>1</td>\n",
       "      <td>2023-01-03</td>\n",
       "      <td>17</td>\n",
       "      <td>0</td>\n",
       "      <td>0</td>\n",
       "      <td>3</td>\n",
       "      <td>2</td>\n",
       "      <td>202301</td>\n",
       "      <td>0</td>\n",
       "      <td>0</td>\n",
       "    </tr>\n",
       "    <tr>\n",
       "      <th>4</th>\n",
       "      <td>4</td>\n",
       "      <td>0</td>\n",
       "      <td>-1008193142447905044</td>\n",
       "      <td>2021-10-16</td>\n",
       "      <td>1</td>\n",
       "      <td>0</td>\n",
       "      <td>0</td>\n",
       "      <td>NaT</td>\n",
       "      <td>0.0</td>\n",
       "      <td>0.0</td>\n",
       "      <td>0.0</td>\n",
       "      <td>0</td>\n",
       "      <td>0</td>\n",
       "      <td>0</td>\n",
       "      <td>158</td>\n",
       "      <td>3</td>\n",
       "      <td>2022-11-21</td>\n",
       "      <td>12</td>\n",
       "      <td>0</td>\n",
       "      <td>0</td>\n",
       "      <td>7</td>\n",
       "      <td>5</td>\n",
       "      <td>202211</td>\n",
       "      <td>0</td>\n",
       "      <td>0</td>\n",
       "    </tr>\n",
       "  </tbody>\n",
       "</table>\n",
       "</div>"
      ],
      "text/plain": [
       "   Unnamed: 0  target       hashed_user_id regist_date  is_bind_card   \n",
       "0           0       1 -1000772633524872632  2022-12-30             0  \\\n",
       "1           1       0 -1000772633524872632  2022-12-30             0   \n",
       "2           2       0 -1006559301419582051  2022-08-15             0   \n",
       "3           3       0 -1006671521575354929  2023-01-03             0   \n",
       "4           4       0 -1008193142447905044  2021-10-16             1   \n",
       "\n",
       "  lastorder_usecase lastorder_platform lastorder_orderdate   \n",
       "0                 0                  0                 NaT  \\\n",
       "1                 0                  0                 NaT   \n",
       "2                 0                  0                 NaT   \n",
       "3                 0                  0                 NaT   \n",
       "4                 0                  0                 NaT   \n",
       "\n",
       "   subtotal_amount_today_daily  subtotal_amount_recent_7days   \n",
       "0                          0.0                           0.0  \\\n",
       "1                          0.0                           0.0   \n",
       "2                          0.0                           0.0   \n",
       "3                          0.0                           0.0   \n",
       "4                          0.0                           0.0   \n",
       "\n",
       "   subtotal_amount_recent_30days  subtotal_ordercount_today_daily   \n",
       "0                            0.0                                0  \\\n",
       "1                            0.0                                0   \n",
       "2                            0.0                                0   \n",
       "3                            0.0                                0   \n",
       "4                            0.0                                0   \n",
       "\n",
       "   subtotal_ordercount_recent_7days  subtotal_ordercount_recent_30days   \n",
       "0                                 0                                  0  \\\n",
       "1                                 0                                  0   \n",
       "2                                 0                                  0   \n",
       "3                                 0                                  0   \n",
       "4                                 0                                  0   \n",
       "\n",
       "   nr_interactions  nr_days_interacted max_date_time  nr_unique_pages_visited   \n",
       "0               15                   1    2022-12-30                        6  \\\n",
       "1               11                   2    2023-01-20                        2   \n",
       "2                4                   1    2022-12-06                        2   \n",
       "3               35                   1    2023-01-03                       17   \n",
       "4              158                   3    2022-11-21                       12   \n",
       "\n",
       "   search_events  unique_search_terms  unique_app_visits   \n",
       "0              0                    0                  2  \\\n",
       "1              0                    0                  2   \n",
       "2              0                    0                  1   \n",
       "3              0                    0                  3   \n",
       "4              0                    0                  7   \n",
       "\n",
       "   unique_app_category_visits  year_month  transaction_platform   \n",
       "0                           1      202212                     0  \\\n",
       "1                           1      202301                     0   \n",
       "2                           0      202212                     0   \n",
       "3                           2      202301                     0   \n",
       "4                           5      202211                     0   \n",
       "\n",
       "   transaction_classification  \n",
       "0                           0  \n",
       "1                           0  \n",
       "2                           0  \n",
       "3                           0  \n",
       "4                           0  "
      ]
     },
     "execution_count": 12,
     "metadata": {},
     "output_type": "execute_result"
    }
   ],
   "source": [
    "df.head()"
   ]
  },
  {
   "cell_type": "code",
   "execution_count": 13,
   "id": "d0b30ccd",
   "metadata": {},
   "outputs": [
    {
     "ename": "KeyboardInterrupt",
     "evalue": "",
     "output_type": "error",
     "traceback": [
      "\u001b[1;31m---------------------------------------------------------------------------\u001b[0m",
      "\u001b[1;31mKeyboardInterrupt\u001b[0m                         Traceback (most recent call last)",
      "\u001b[1;32m~\\AppData\\Local\\Temp\\ipykernel_11856\\3968444433.py\u001b[0m in \u001b[0;36m?\u001b[1;34m()\u001b[0m\n\u001b[1;32m----> 1\u001b[1;33m \u001b[0mdf\u001b[0m\u001b[1;33m.\u001b[0m\u001b[0mduplicated\u001b[0m\u001b[1;33m(\u001b[0m\u001b[0msubset\u001b[0m\u001b[1;33m=\u001b[0m\u001b[1;33m[\u001b[0m\u001b[1;34m'hashed_user_id'\u001b[0m\u001b[1;33m,\u001b[0m\u001b[1;34m'regist_date'\u001b[0m\u001b[1;33m,\u001b[0m\u001b[1;34m'max_date_time'\u001b[0m\u001b[1;33m]\u001b[0m\u001b[1;33m)\u001b[0m\u001b[1;33m.\u001b[0m\u001b[0munique\u001b[0m\u001b[1;33m(\u001b[0m\u001b[1;33m)\u001b[0m\u001b[1;33m\u001b[0m\u001b[1;33m\u001b[0m\u001b[0m\n\u001b[0m",
      "\u001b[1;32m~\\AppData\\Local\\Programs\\Python\\Python310\\lib\\site-packages\\pandas\\core\\frame.py\u001b[0m in \u001b[0;36m?\u001b[1;34m(self, subset, keep)\u001b[0m\n\u001b[0;32m   6678\u001b[0m                 \u001b[0mtuple\u001b[0m\u001b[1;33m(\u001b[0m\u001b[0mshape\u001b[0m\u001b[1;33m)\u001b[0m\u001b[1;33m,\u001b[0m  \u001b[1;31m# type: ignore[arg-type]\u001b[0m\u001b[1;33m\u001b[0m\u001b[1;33m\u001b[0m\u001b[0m\n\u001b[0;32m   6679\u001b[0m                 \u001b[0msort\u001b[0m\u001b[1;33m=\u001b[0m\u001b[1;32mFalse\u001b[0m\u001b[1;33m,\u001b[0m\u001b[1;33m\u001b[0m\u001b[1;33m\u001b[0m\u001b[0m\n\u001b[0;32m   6680\u001b[0m                 \u001b[0mxnull\u001b[0m\u001b[1;33m=\u001b[0m\u001b[1;32mFalse\u001b[0m\u001b[1;33m,\u001b[0m\u001b[1;33m\u001b[0m\u001b[1;33m\u001b[0m\u001b[0m\n\u001b[0;32m   6681\u001b[0m             )\n\u001b[1;32m-> 6682\u001b[1;33m             \u001b[0mresult\u001b[0m \u001b[1;33m=\u001b[0m \u001b[0mself\u001b[0m\u001b[1;33m.\u001b[0m\u001b[0m_constructor_sliced\u001b[0m\u001b[1;33m(\u001b[0m\u001b[0mduplicated\u001b[0m\u001b[1;33m(\u001b[0m\u001b[0mids\u001b[0m\u001b[1;33m,\u001b[0m \u001b[0mkeep\u001b[0m\u001b[1;33m)\u001b[0m\u001b[1;33m,\u001b[0m \u001b[0mindex\u001b[0m\u001b[1;33m=\u001b[0m\u001b[0mself\u001b[0m\u001b[1;33m.\u001b[0m\u001b[0mindex\u001b[0m\u001b[1;33m)\u001b[0m\u001b[1;33m\u001b[0m\u001b[1;33m\u001b[0m\u001b[0m\n\u001b[0m\u001b[0;32m   6683\u001b[0m         \u001b[1;32mreturn\u001b[0m \u001b[0mresult\u001b[0m\u001b[1;33m.\u001b[0m\u001b[0m__finalize__\u001b[0m\u001b[1;33m(\u001b[0m\u001b[0mself\u001b[0m\u001b[1;33m,\u001b[0m \u001b[0mmethod\u001b[0m\u001b[1;33m=\u001b[0m\u001b[1;34m\"duplicated\"\u001b[0m\u001b[1;33m)\u001b[0m\u001b[1;33m\u001b[0m\u001b[1;33m\u001b[0m\u001b[0m\n",
      "\u001b[1;31mKeyboardInterrupt\u001b[0m: "
     ]
    }
   ],
   "source": [
    "df.duplicated(subset=['hashed_user_id','regist_date','max_date_time']).unique()"
   ]
  },
  {
   "cell_type": "code",
   "execution_count": null,
   "id": "5d6118be",
   "metadata": {},
   "outputs": [],
   "source": [
    "df['hashed_user_id'] = df['hashed_user_id'].abs()"
   ]
  },
  {
   "cell_type": "code",
   "execution_count": null,
   "id": "37a5edb0",
   "metadata": {},
   "outputs": [],
   "source": [
    "df['Avg_interactions_per_day'] = df['nr_interactions']/df['nr_days_interacted']"
   ]
  },
  {
   "cell_type": "code",
   "execution_count": null,
   "id": "1c807ee1",
   "metadata": {},
   "outputs": [],
   "source": [
    "df['Avg_apps_per_cat_visited'] = df['unique_app_visits']/df['unique_app_category_visits']"
   ]
  },
  {
   "cell_type": "code",
   "execution_count": null,
   "id": "c4bedca1",
   "metadata": {},
   "outputs": [],
   "source": [
    "#df['Avg_spend_per_order_30days'] = df['subtotal_amount_recent_30days']/df['subtotal_ordercount_recent_30days']"
   ]
  },
  {
   "cell_type": "code",
   "execution_count": null,
   "id": "a0c6a2fe",
   "metadata": {},
   "outputs": [],
   "source": [
    "#Creating a column to look at the number of days on app\n",
    "df['nr_days_on_app'] =(df['max_date_time'] - df['regist_date']).dt.days"
   ]
  },
  {
   "cell_type": "code",
   "execution_count": null,
   "id": "748e6f8b",
   "metadata": {},
   "outputs": [],
   "source": [
    "df['Months_Active'] = ((df['max_date_time'] - df['regist_date']) / np.timedelta64(1, 'M')).round()"
   ]
  },
  {
   "cell_type": "code",
   "execution_count": null,
   "id": "77d90b5f",
   "metadata": {},
   "outputs": [],
   "source": [
    "df.lastorder_usecase.unique()"
   ]
  },
  {
   "cell_type": "code",
   "execution_count": null,
   "id": "56505b4a",
   "metadata": {
    "scrolled": false
   },
   "outputs": [],
   "source": [
    "df['lastorder_platform'].unique()"
   ]
  },
  {
   "cell_type": "code",
   "execution_count": null,
   "id": "619ed0d9",
   "metadata": {},
   "outputs": [],
   "source": [
    "df['transaction_platform'].unique()"
   ]
  },
  {
   "cell_type": "code",
   "execution_count": null,
   "id": "592f69e6",
   "metadata": {},
   "outputs": [],
   "source": [
    "df['transaction_classification'].unique()"
   ]
  },
  {
   "cell_type": "code",
   "execution_count": null,
   "id": "7b31dae0",
   "metadata": {},
   "outputs": [],
   "source": [
    "df.replace([np.inf, -np.inf], 0, inplace=True) #replace inf with 0"
   ]
  },
  {
   "cell_type": "code",
   "execution_count": null,
   "id": "f10e5d4c",
   "metadata": {},
   "outputs": [],
   "source": [
    "df.head()"
   ]
  },
  {
   "cell_type": "code",
   "execution_count": null,
   "id": "7f66e89f",
   "metadata": {
    "scrolled": false
   },
   "outputs": [],
   "source": [
    "df.select_dtypes(include=np.number).columns.tolist()"
   ]
  },
  {
   "cell_type": "code",
   "execution_count": null,
   "id": "10a45838",
   "metadata": {},
   "outputs": [],
   "source": [
    "df.corr()['target'].sort_values(ascending=False).plot(kind='bar')"
   ]
  },
  {
   "cell_type": "code",
   "execution_count": null,
   "id": "e12fd68e",
   "metadata": {},
   "outputs": [],
   "source": [
    "df_numeric = df.drop(columns=['hashed_user_id','regist_date','lastorder_orderdate','transaction_classification','lastorder_platform','lastorder_usecase','max_date_time','Unnamed: 0'])"
   ]
  },
  {
   "cell_type": "code",
   "execution_count": null,
   "id": "fea16b80",
   "metadata": {
    "scrolled": false
   },
   "outputs": [],
   "source": [
    "df_numeric.dtypes"
   ]
  },
  {
   "cell_type": "code",
   "execution_count": null,
   "id": "d74eb360",
   "metadata": {},
   "outputs": [],
   "source": [
    "df_numeric = df_numeric.query('year_month <202301') #drops january"
   ]
  },
  {
   "cell_type": "code",
   "execution_count": null,
   "id": "e2d4e7c2",
   "metadata": {
    "scrolled": false
   },
   "outputs": [],
   "source": [
    "df_numeric.corr()['target'].drop(['target','year_month']).sort_values(ascending=False).plot(kind='barh')"
   ]
  },
  {
   "cell_type": "code",
   "execution_count": null,
   "id": "7fb90a26",
   "metadata": {},
   "outputs": [],
   "source": [
    "sns.boxplot(data=df_numeric,x='year_month',y='nr_days_interacted',hue='target')"
   ]
  },
  {
   "cell_type": "code",
   "execution_count": null,
   "id": "1c519761",
   "metadata": {},
   "outputs": [],
   "source": []
  },
  {
   "cell_type": "code",
   "execution_count": null,
   "id": "372c38e2",
   "metadata": {},
   "outputs": [],
   "source": [
    "q1_interactions = df_numeric['nr_interactions'].quantile(0.25)\n",
    "q3_interactions = df_numeric['nr_interactions'].quantile(0.75)\n",
    "iqr = q3_interactions -q1_interactions\n",
    "q1_interactions, q3_interactions, iqr"
   ]
  },
  {
   "cell_type": "code",
   "execution_count": null,
   "id": "d00f2f38",
   "metadata": {},
   "outputs": [],
   "source": [
    "df_numeric['nr_interactions'].describe().round(3)"
   ]
  },
  {
   "cell_type": "code",
   "execution_count": null,
   "id": "100f1d04",
   "metadata": {},
   "outputs": [],
   "source": [
    "upperlimit = q3_interactions + (1.5 *iqr)\n",
    "lowerlimit = q3_interactions - (1.5 *iqr)\n",
    "upperlimit, lowerlimit"
   ]
  },
  {
   "cell_type": "code",
   "execution_count": null,
   "id": "f67b9b80",
   "metadata": {},
   "outputs": [],
   "source": [
    "df_numeric['nr_interactions'].dtype, upperlimit.dtype, lowerlimit.dtype"
   ]
  },
  {
   "cell_type": "code",
   "execution_count": null,
   "id": "dfbdb1f8",
   "metadata": {},
   "outputs": [],
   "source": [
    "df_numeric.loc[((df_numeric['nr_interactions'].astype(float) > upperlimit) | (df_numeric['nr_interactions'].astype(float) < lowerlimit))]"
   ]
  },
  {
   "cell_type": "code",
   "execution_count": null,
   "id": "62ef4778",
   "metadata": {
    "scrolled": true
   },
   "outputs": [],
   "source": [
    "df_numeric['nr_interactions'].describe().round(3)"
   ]
  },
  {
   "cell_type": "code",
   "execution_count": null,
   "id": "0d56dfba",
   "metadata": {},
   "outputs": [],
   "source": [
    "sns.boxplot(data=df_numeric,x='year_month',y='nr_interactions')"
   ]
  },
  {
   "cell_type": "code",
   "execution_count": null,
   "id": "71e602b7",
   "metadata": {
    "scrolled": false
   },
   "outputs": [],
   "source": [
    "df_numeric.isna().sum()"
   ]
  },
  {
   "cell_type": "code",
   "execution_count": null,
   "id": "fdb4ed77",
   "metadata": {
    "scrolled": true
   },
   "outputs": [],
   "source": [
    "df_numeric.groupby('lastorder_platform')['Avg_spend_per_order_30days'].plot(kind='bar')"
   ]
  },
  {
   "cell_type": "code",
   "execution_count": null,
   "id": "0e32341c",
   "metadata": {
    "scrolled": false
   },
   "outputs": [],
   "source": [
    "df['lastorder_usecase'].unique()"
   ]
  },
  {
   "cell_type": "code",
   "execution_count": null,
   "id": "7107fff2",
   "metadata": {},
   "outputs": [],
   "source": [
    "df['lastorder_platform'].unique()"
   ]
  },
  {
   "cell_type": "code",
   "execution_count": null,
   "id": "fbcf4b09",
   "metadata": {
    "scrolled": true
   },
   "outputs": [],
   "source": [
    "#Month_End_Exp=0\n",
    "#while (df['lastorder_orderdate'].dt.day > 24) & (df['lastorder_orderdate'].dt.day < df['lastorder_orderdate'].dt.days_in_month+1):\n",
    " #       Month_End_Exp++\n",
    "  #      df['Month_End_Exp']=Month_End_Exp\n",
    "#df['Month_End_Exp'] = df.groupby(df.loc[(df['lastorder_orderdate'].dt.day > 24) & \n",
    " #                    (df['lastorder_orderdate'].dt.day < df['lastorder_orderdate'].dt.days_in_month+1)]).mean()\n",
    "    \n",
    "df['Month_End_Exp'] = df.apply(lambda x: df.loc[(df['lastorder_orderdate'].dt.day > 24) & \n",
    "                                                  (df['lastorder_orderdate'].dt.day < df['lastorder_orderdate'].dt.days_in_month+1), \n",
    "                                                   ['nr_interactions']].mean(), axis=1)\n",
    "df"
   ]
  },
  {
   "cell_type": "code",
   "execution_count": null,
   "id": "cfe714f9",
   "metadata": {
    "scrolled": false
   },
   "outputs": [],
   "source": [
    "df_numeric.corr()"
   ]
  },
  {
   "cell_type": "code",
   "execution_count": null,
   "id": "4798ea0f",
   "metadata": {},
   "outputs": [],
   "source": [
    "sns.heatmap(df_numeric.corr())"
   ]
  },
  {
   "cell_type": "code",
   "execution_count": null,
   "id": "29e94760",
   "metadata": {
    "scrolled": false
   },
   "outputs": [],
   "source": [
    "df_numeric.corr()['target'].sort_values(ascending=False).plot(kind='bar')"
   ]
  },
  {
   "cell_type": "code",
   "execution_count": null,
   "id": "553912c8",
   "metadata": {},
   "outputs": [],
   "source": [
    "df_numeric.corr()['target'].sort_values(ascending=False)"
   ]
  },
  {
   "cell_type": "code",
   "execution_count": null,
   "id": "1f0c71f1",
   "metadata": {},
   "outputs": [],
   "source": [
    "df_numeric_2 = df_numeric.drop(columns=['year_month','unique_search_terms'\n",
    "                                       ,'search_events','subtotal_ordercount_recent_7days'])"
   ]
  },
  {
   "cell_type": "code",
   "execution_count": null,
   "id": "75762f38",
   "metadata": {},
   "outputs": [],
   "source": [
    "df_numeric_2.corr()['target'].sort_values(ascending=False)"
   ]
  },
  {
   "cell_type": "code",
   "execution_count": null,
   "id": "d869b6a1",
   "metadata": {},
   "outputs": [],
   "source": [
    "df_numeric.dtypes\n"
   ]
  },
  {
   "cell_type": "code",
   "execution_count": null,
   "id": "0641c2dd",
   "metadata": {
    "scrolled": true
   },
   "outputs": [],
   "source": [
    "df_numeric_2.head()"
   ]
  },
  {
   "cell_type": "code",
   "execution_count": null,
   "id": "edf7d96b",
   "metadata": {},
   "outputs": [],
   "source": [
    "df_numeric_2['nr_days_interacted'].isna().sum()"
   ]
  },
  {
   "cell_type": "code",
   "execution_count": null,
   "id": "f546a3cd",
   "metadata": {},
   "outputs": [],
   "source": [
    "df_numeric_2=df_numeric_2.replace(to_replace=np.nan,value=0, regex=True)\n",
    "df_numeric_2.reset_index()\n",
    "df_numeric_2['Interacted_and_card_linked'] = np.where((df_numeric_2.nr_days_interacted >5) & (df_numeric_2.is_bind_card == 1), 1, 0)\n",
    "\n",
    "df_numeric_2['Interacted_Mobile'] = np.where((df_numeric_2.nr_days_interacted >1) & (df_numeric_2.Platform_Code == 1), 1, 0)\n",
    "\n",
    "df_numeric_2['Interacted_Mobile_card_linked'] = np.where((df_numeric_2.Platform_Code == 1) & (df_numeric_2.nr_days_interacted >1) & (df_numeric_2.is_bind_card == 1), 1, 0) \n",
    "\n",
    "df_numeric_2['Mobile_card_linked'] = np.where((df_numeric_2.Platform_Code == 1) & (df_numeric_2.is_bind_card == 1), 1, 0) \n",
    "\n",
    "df_numeric_2['Interacted_ordered30d_cardlinked'] = np.where((df_numeric_2.nr_days_interacted >1) & (df_numeric_2.subtotal_ordercount_recent_30days >1) &(df_numeric_2.is_bind_card == 1), 1, 0)\n",
    "\n",
    "df_numeric_2['uniq_pgs_mean'] = df_numeric_2.groupby(['nr_unique_pages_visited'])['Months_Active'].mean()\n",
    "\n",
    "df_numeric_2['Card_linked_order30days'] = np.where((df_numeric_2.is_bind_card ==1) & (df_numeric_2.subtotal_ordercount_recent_30days >1500), 1, 0)\n",
    "\n",
    "df_numeric_2['all_interactions'] = df_numeric_2['nr_interactions'] / df_numeric_2['unique_app_visits']\n",
    "\n",
    "df_numeric_2['ordercount30d_per_nr_interactions'] = df_numeric_2['subtotal_ordercount_recent_30days'] + df['nr_interactions']\n",
    "\n",
    "df_numeric_2['interacted_spend'] = np.where((df_numeric_2.nr_interactions>1) & (df_numeric_2.subtotal_ordercount_recent_30days >1500), 1, 0)\n",
    "\n",
    "#df_numeric_2[''] = ['lastorder_orderdate'].dt.day > 24) & (df['lastorder_orderdate'].dt.day < df['lastorder_orderdate'].dt.days_in_month+1"
   ]
  },
  {
   "cell_type": "code",
   "execution_count": null,
   "id": "998f59ce",
   "metadata": {
    "scrolled": false
   },
   "outputs": [],
   "source": [
    "df_numeric_2.corr()['target'].sort_values(ascending=False)"
   ]
  },
  {
   "cell_type": "code",
   "execution_count": null,
   "id": "9eb2dcb8",
   "metadata": {
    "scrolled": false
   },
   "outputs": [],
   "source": [
    "from sklearn.feature_selection import VarianceThreshold\n",
    "VarThresh = VarianceThreshold(threshold=5)\n",
    "VarThresh.fit(df_numeric_2)\n",
    "VarThresh.get_support()"
   ]
  },
  {
   "cell_type": "code",
   "execution_count": null,
   "id": "ce62fa3c",
   "metadata": {},
   "outputs": [],
   "source": [
    "df_numeric_2.columns"
   ]
  },
  {
   "cell_type": "code",
   "execution_count": null,
   "id": "64d417b2",
   "metadata": {},
   "outputs": [],
   "source": [
    "df_numeric_2.isna().sum()"
   ]
  },
  {
   "cell_type": "code",
   "execution_count": null,
   "id": "2c0a585c",
   "metadata": {
    "scrolled": true
   },
   "outputs": [],
   "source": [
    "from sklearn.feature_selection import mutual_info_classif\n",
    "\n",
    "features = df_numeric_2.drop(columns=['target'])\n",
    "target = df_numeric_2['target']\n",
    "feature_scores = mutual_info_classif(features, target, random_state=0)\n",
    "feature_scores"
   ]
  },
  {
   "cell_type": "code",
   "execution_count": null,
   "id": "cc63ddbc",
   "metadata": {},
   "outputs": [],
   "source": [
    "df_numeric.head()"
   ]
  },
  {
   "cell_type": "code",
   "execution_count": null,
   "id": "4aa4bc3a",
   "metadata": {},
   "outputs": [],
   "source": [
    "df_numeric = df_numeric.drop(columns=['unique_search_terms','search_events','hashed_user_id','subtotal_amount_today_daily'])"
   ]
  },
  {
   "cell_type": "code",
   "execution_count": null,
   "id": "211c9561",
   "metadata": {
    "scrolled": false
   },
   "outputs": [],
   "source": [
    "df_numeric.corr()['target'].sort_values(ascending=False).plot(kind='bar')"
   ]
  },
  {
   "cell_type": "code",
   "execution_count": null,
   "id": "77c318a5",
   "metadata": {
    "scrolled": true
   },
   "outputs": [],
   "source": [
    "df_numeric.corr()['target']"
   ]
  },
  {
   "cell_type": "code",
   "execution_count": null,
   "id": "4ae47436",
   "metadata": {},
   "outputs": [],
   "source": [
    "training_data = df_numeric.sample(frac=0.8, random_state=25)\n",
    "testing_data = df_numeric.drop(training_data.index)\n",
    "\n",
    "X = training_data.drop(columns=['target']) \n",
    "y = training_data['target'] #the data set with the predictions or the answers\n",
    "\n",
    "X_train, X_test, y_train, y_test = train_test_split(X, y, test_size=0.2) "
   ]
  },
  {
   "cell_type": "code",
   "execution_count": null,
   "id": "53d577b5",
   "metadata": {},
   "outputs": [],
   "source": [
    "#training the model with DecisionTreeClassifier\n",
    "model = DecisionTreeClassifier() \n",
    "model.fit(X_train,y_train)\n",
    "prediction = model.predict(X_test) #Run the model against the test data\n",
    "score = accuracy_score(y_test, prediction) #calcucalte and show the accuracy of the model, score if between 0 and 1\n",
    "score"
   ]
  },
  {
   "cell_type": "code",
   "execution_count": null,
   "id": "284af7cb",
   "metadata": {},
   "outputs": [],
   "source": [
    "### Classification report\n",
    "from sklearn.model_selection import cross_val_score\n",
    "from sklearn.metrics import classification_report, confusion_matrix\n",
    "from sklearn.model_selection import cross_val_score\n",
    "\n",
    "rfc_predict_test = (model.predict_proba(X_test[X.columns])[:,1] >= 0.288).astype(bool)\n",
    "rfc_cv_score = cross_val_score(model, X_test[X.columns], y_test, cv=5, scoring='roc_auc')\n",
    "\n",
    "print(\"=== Confusion Matrix : Test ===\")\n",
    "print(confusion_matrix(y_test, rfc_predict_test))\n",
    "print('\\n')\n",
    "print(\"=== Classification Report ===\")\n",
    "print(classification_report(y_test, rfc_predict_test))\n",
    "print('\\n')"
   ]
  },
  {
   "cell_type": "code",
   "execution_count": null,
   "id": "f6d5002e",
   "metadata": {},
   "outputs": [],
   "source": []
  },
  {
   "cell_type": "code",
   "execution_count": null,
   "id": "fb2a4cbd",
   "metadata": {},
   "outputs": [],
   "source": []
  },
  {
   "cell_type": "code",
   "execution_count": null,
   "id": "c09196be",
   "metadata": {},
   "outputs": [],
   "source": []
  },
  {
   "cell_type": "code",
   "execution_count": null,
   "id": "26557b30",
   "metadata": {},
   "outputs": [],
   "source": [
    "df_numeric.columns"
   ]
  },
  {
   "cell_type": "code",
   "execution_count": null,
   "id": "f78352e5",
   "metadata": {},
   "outputs": [],
   "source": [
    "df_categorical=df.drop(columns=['target', 'is_bind_card', 'subtotal_amount_recent_7days',\n",
    "       'subtotal_amount_recent_30days', 'subtotal_ordercount_today_daily',\n",
    "       'subtotal_ordercount_recent_7days', 'subtotal_ordercount_recent_30days',\n",
    "       'nr_interactions', 'nr_days_interacted', 'nr_unique_pages_visited',\n",
    "       'unique_app_visits', 'unique_app_category_visits', 'year_month',\n",
    "       'Days_since_active_in_month'])"
   ]
  },
  {
   "cell_type": "code",
   "execution_count": null,
   "id": "29616164",
   "metadata": {
    "scrolled": true
   },
   "outputs": [],
   "source": [
    "df_categorical"
   ]
  },
  {
   "cell_type": "code",
   "execution_count": null,
   "id": "ac99f9b9",
   "metadata": {},
   "outputs": [],
   "source": [
    "from dython import nominal\n",
    "nominal.associations(df,figsize=(20,10),mark_columns=True)"
   ]
  },
  {
   "cell_type": "code",
   "execution_count": null,
   "id": "de3fb8b1",
   "metadata": {},
   "outputs": [],
   "source": [
    "df_plot_corr"
   ]
  },
  {
   "cell_type": "code",
   "execution_count": null,
   "id": "fb912648",
   "metadata": {},
   "outputs": [],
   "source": [
    "df.groupby('target')['unique_app_visits'].value_counts(bins=8,normalize=True)*100"
   ]
  },
  {
   "cell_type": "markdown",
   "id": "823b3f6c",
   "metadata": {},
   "source": [
    "### Last Order UseCase"
   ]
  },
  {
   "cell_type": "markdown",
   "id": "ba9f53cf",
   "metadata": {},
   "source": [
    "#### Stats"
   ]
  },
  {
   "cell_type": "markdown",
   "id": "45171d82",
   "metadata": {},
   "source": [
    "Looking at the below stats you can visibly see that the percentage of the last order of active users  on mobile is double as compared to the users who are inactive "
   ]
  },
  {
   "cell_type": "code",
   "execution_count": null,
   "id": "2e9b95c8",
   "metadata": {},
   "outputs": [],
   "source": [
    "df.groupby('target')['lastorder_usecase'].value_counts(normalize=True)*100\n"
   ]
  },
  {
   "cell_type": "markdown",
   "id": "743d8e55",
   "metadata": {},
   "source": [
    "#### Graph"
   ]
  },
  {
   "cell_type": "code",
   "execution_count": null,
   "id": "3fa2c700",
   "metadata": {},
   "outputs": [],
   "source": [
    "\n",
    "x,y = 'target', 'lastorder_usecase'\n",
    "ax = sns.catplot,'data',\n",
    "(df\n",
    "\n",
    ".groupby(x)[y]\n",
    ".value_counts(normalize=True)\n",
    ".mul(100)\n",
    ".rename('percent')\n",
    ".reset_index()\n",
    ".pipe((ax), x='percent',y=y,hue=x,kind='bar',palette='Set1')\n",
    ".set(title='Last Order Use Case', xlabel='Percent', ylabel='Order Type'))\n"
   ]
  },
  {
   "cell_type": "markdown",
   "id": "a83de5fd",
   "metadata": {},
   "source": [
    "# Data Cleaning"
   ]
  },
  {
   "cell_type": "code",
   "execution_count": null,
   "id": "778dca17",
   "metadata": {},
   "outputs": [],
   "source": [
    "#Change Date from Object to DateTime\n",
    "df['max_date_time']=pd.to_datetime(df['max_date_time'])\n",
    "df['regist_date']=pd.to_datetime(df['regist_date'])\n",
    "df['lastorder_orderdate']=pd.to_datetime(df['lastorder_orderdate'])\n"
   ]
  },
  {
   "cell_type": "code",
   "execution_count": null,
   "id": "9fb108dd",
   "metadata": {},
   "outputs": [],
   "source": [
    "df['regist_date']"
   ]
  },
  {
   "cell_type": "code",
   "execution_count": null,
   "id": "32952acc",
   "metadata": {},
   "outputs": [],
   "source": [
    "#create column month in df to see activity visuals where needed\n",
    "df['lastorder_month']=df['lastorder_orderdate'].dt.to_period('M')"
   ]
  },
  {
   "cell_type": "code",
   "execution_count": null,
   "id": "24a969bd",
   "metadata": {},
   "outputs": [],
   "source": [
    "df.query('year_month <202301')\\\n",
    ".groupby('target')['lastorder_month'].value_counts(normalize=True)*100\n"
   ]
  },
  {
   "cell_type": "code",
   "execution_count": null,
   "id": "ff09adf0",
   "metadata": {},
   "outputs": [],
   "source": [
    "df.groupby('target')['lastorder_orderdate'].value_counts(normalize=True)"
   ]
  },
  {
   "cell_type": "code",
   "execution_count": null,
   "id": "c69edb15",
   "metadata": {},
   "outputs": [],
   "source": [
    "#Check the number of columns with no values\n",
    "nan_count = df.isna().sum()\n",
    "print(nan_count )"
   ]
  },
  {
   "cell_type": "code",
   "execution_count": null,
   "id": "f799705e",
   "metadata": {},
   "outputs": [],
   "source": [
    "#create column month in df to see activity visuals where needed\n",
    "df['regist_month']=df['regist_date'].dt.to_period('M')"
   ]
  },
  {
   "cell_type": "code",
   "execution_count": null,
   "id": "cfb5e9b0",
   "metadata": {},
   "outputs": [],
   "source": [
    "#Dropping Columns that won't be used\n",
    "df=df.drop(['Unnamed: 0'],axis=1)\n"
   ]
  },
  {
   "cell_type": "code",
   "execution_count": null,
   "id": "450d164c",
   "metadata": {
    "scrolled": true
   },
   "outputs": [],
   "source": [
    "df.head(20)"
   ]
  },
  {
   "cell_type": "code",
   "execution_count": null,
   "id": "9c429f3d",
   "metadata": {},
   "outputs": [],
   "source": [
    "df['lastorder_usecase'].unique()"
   ]
  },
  {
   "cell_type": "code",
   "execution_count": null,
   "id": "fa378d07",
   "metadata": {},
   "outputs": [],
   "source": [
    "df['lastorder_platform'].unique()"
   ]
  },
  {
   "cell_type": "code",
   "execution_count": null,
   "id": "d9dd8b38",
   "metadata": {},
   "outputs": [],
   "source": [
    "sns.swarmplot(data=df,x='lastorder_usecase',y='lastorder_platform',hue='target').sample(100)"
   ]
  },
  {
   "cell_type": "markdown",
   "id": "59cc338a",
   "metadata": {},
   "source": [
    "## Original Data Frame Visuals"
   ]
  },
  {
   "cell_type": "markdown",
   "id": "4ebe43ff",
   "metadata": {},
   "source": [
    "### Last Order Graph"
   ]
  },
  {
   "cell_type": "markdown",
   "id": "cbaca312",
   "metadata": {},
   "source": [
    "#### The graph below is a visualization of what customers have spent on the app in 30 days "
   ]
  },
  {
   "cell_type": "code",
   "execution_count": null,
   "id": "64530775",
   "metadata": {},
   "outputs": [],
   "source": [
    "x,y = 'lastorder_usecase', 'subtotal_amount_recent_30days'\n",
    "ax=sns.catplot,'data'\n",
    "(df\n",
    ".query('subtotal_amount_recent_30days>1')\n",
    ".groupby(x)[y]\n",
    ".sum()\n",
    " .sort_values(ascending=False)\n",
    ".rename('sum')\n",
    ".reset_index()\n",
    ".pipe((ax), x='sum',y=x,kind='bar',log=True,color='#377eb8')\n",
    ".set(title='Last Order Use Case', xlabel='Sum', ylabel='Order Type'))"
   ]
  },
  {
   "cell_type": "markdown",
   "id": "bfda6665",
   "metadata": {},
   "source": [
    "### Last Order Date"
   ]
  },
  {
   "cell_type": "markdown",
   "id": "57edf29e",
   "metadata": {},
   "source": [
    "The below graph is the number of orders on a specific day grouped by a users categorized as active or inactive,normalized and converted into percentage for better visualization.\n",
    "\n",
    "An interesting trend you can see on the active is that between the 20th and the last day of the month,the activity is high due to the fact that users have have been paid\n",
    "\n"
   ]
  },
  {
   "cell_type": "code",
   "execution_count": null,
   "id": "e8dbc950",
   "metadata": {
    "scrolled": false
   },
   "outputs": [],
   "source": [
    "\n",
    "x,y = 'target', 'lastorder_orderdate',\n",
    "ax = sns.catplot,'data',\n",
    "\n",
    "(df\n",
    "\n",
    ".query('year_month <202301')\n",
    " #.query(\"target == 'active'\")\n",
    ".groupby(y)[x]\n",
    ".value_counts()\n",
    "#.value_counts(normalize=True)\n",
    "#.mul(100)\n",
    ".rename('Percent')\n",
    ".reset_index()\n",
    "\n",
    ".pipe((ax), x=y,y='Percent',hue=x,palette='Set1')\n",
    " .set_xticklabels( rotation=90)\n",
    " .set(title='Last Order Date Percentage', xlabel='Last Order Date')\n",
    ".ax.xaxis.set_major_locator(ticker.MultipleLocator(5))\n",
    "\n",
    ")\n"
   ]
  },
  {
   "cell_type": "code",
   "execution_count": null,
   "id": "8f0294fc",
   "metadata": {},
   "outputs": [],
   "source": [
    "df.columns"
   ]
  },
  {
   "cell_type": "code",
   "execution_count": null,
   "id": "b70d6923",
   "metadata": {},
   "outputs": [],
   "source": [
    "#filtered only to records between 25th and 31st\n",
    "df_monthend = df.loc[(df['lastorder_orderdate'].dt.day > 24) & \n",
    "                     (df['lastorder_orderdate'].dt.day < df['lastorder_orderdate'].dt.days_in_month+1)]\n",
    "df_monthend"
   ]
  },
  {
   "cell_type": "markdown",
   "id": "d3b858c3",
   "metadata": {},
   "source": [
    "## User Registrations Monthly"
   ]
  },
  {
   "cell_type": "markdown",
   "id": "f837d3dd",
   "metadata": {},
   "source": [
    "#### Below it is seen that there is a high number of registrations on the lauch of the app which was October 2021 and had the R1 promotion\n",
    "\n",
    "#### Another spike October and November 2022 when there was campaign to win away a share of R1 million to 20 lucky winners between the 10 and 31 October 2022\n",
    "\n",
    "\n"
   ]
  },
  {
   "cell_type": "code",
   "execution_count": null,
   "id": "7caaddfc",
   "metadata": {
    "scrolled": false
   },
   "outputs": [],
   "source": [
    "\n",
    "x,y = 'regist_month', 'hashed_user_id'\n",
    "ax = sns.catplot,'data',\n",
    "(df\n",
    ".groupby(x)[y]\n",
    ".count()\n",
    ".rename('count')\n",
    ".reset_index()\n",
    "\n",
    ".pipe((ax), x=x,y='count',kind='bar',color='#e41a1c')\n",
    ".set(title='User Monthly Registrations', xlabel='Registered Month', ylabel='Number of Registrations')\n",
    "\n",
    ".set_xticklabels( rotation=90))\n"
   ]
  },
  {
   "cell_type": "markdown",
   "id": "08e5af6d",
   "metadata": {},
   "source": [
    "## User Spend Behavour"
   ]
  },
  {
   "cell_type": "markdown",
   "id": "c434aae6",
   "metadata": {},
   "source": [
    "#### From the below it is clear that there is a slight correlation to registrations on app and the spenditure on the app,especially on the launch month.\n",
    "###"
   ]
  },
  {
   "cell_type": "code",
   "execution_count": null,
   "id": "6b277c3f",
   "metadata": {},
   "outputs": [],
   "source": [
    "x,y='regist_month','subtotal_amount_recent_30days'\n",
    "ax=sns.catplot,'data'\n",
    "(df\n",
    ".groupby(x)[y]\n",
    ".sum()\n",
    ".rename('sum')\n",
    ".reset_index()\n",
    ".pipe((ax), x=x,y='sum',kind='bar',color='#377eb8')\n",
    ".set(title='Montly Amount Spent ', xlabel='Registered Month', ylabel='Amount')\n",
    "\n",
    ".set_xticklabels( rotation=90))\n"
   ]
  },
  {
   "cell_type": "markdown",
   "id": "c8ce9486",
   "metadata": {},
   "source": [
    "# Data Preparation"
   ]
  },
  {
   "cell_type": "markdown",
   "id": "f1bce89a",
   "metadata": {},
   "source": [
    "What was noticed from our dataset is that the month of Jan 2023 there are no active users,only inactive users and we came to the conclusion to remove the data from our analysis.\n",
    " \n",
    "Looking at the graphs below it is clear that this information can scew our predictions and data analysis\n",
    "\n",
    "\n"
   ]
  },
  {
   "cell_type": "code",
   "execution_count": null,
   "id": "1e9e93f8",
   "metadata": {},
   "outputs": [],
   "source": [
    "\n",
    "(\n",
    "sns.barplot(data=df,x='year_month',y='nr_unique_pages_visited',hue='target',palette='Set1')\n",
    ".set(title='Unique Pages Visited Per Month ', xlabel='Month of Year', ylabel='Unique Pages Visited'))\n"
   ]
  },
  {
   "cell_type": "code",
   "execution_count": null,
   "id": "4ded9316",
   "metadata": {},
   "outputs": [],
   "source": []
  },
  {
   "cell_type": "markdown",
   "id": "7f664034",
   "metadata": {},
   "source": [
    "### Creating DataFrame A"
   ]
  },
  {
   "cell_type": "markdown",
   "id": "332a8eba",
   "metadata": {},
   "source": [
    "#### This dataframe is created to drop unnecessary columns in our point of view and rearrange our columns"
   ]
  },
  {
   "cell_type": "code",
   "execution_count": null,
   "id": "b8a29a9a",
   "metadata": {},
   "outputs": [],
   "source": [
    "#Dropping columns we won't need and naming the df\n",
    "df_a=df_numeric_2\n",
    "df_a.head()"
   ]
  },
  {
   "cell_type": "code",
   "execution_count": null,
   "id": "10f7cefd",
   "metadata": {},
   "outputs": [],
   "source": [
    "#Re-arranging columns in df\n",
    "df_a = df.reindex(columns=['target','is_bind_card','hashed_user_id','regist_date','months_active','year_month',\n",
    "                           'unique_app_visits','nr_days_on_app','nr_interactions',\n",
    "                           'subtotal_amount_recent_30days','subtotal_ordercount_recent_30days',\n",
    "                           'nr_days_interacted','max_date_time','nr_unique_pages_visited','lastorder_orderdate','lastorder_usecase'])\n",
    "\n"
   ]
  },
  {
   "cell_type": "code",
   "execution_count": null,
   "id": "33ae89b8",
   "metadata": {
    "scrolled": true
   },
   "outputs": [],
   "source": [
    "df_a.head()"
   ]
  },
  {
   "cell_type": "markdown",
   "id": "4857b5b4",
   "metadata": {},
   "source": [
    "### Creating DataFrame B"
   ]
  },
  {
   "cell_type": "markdown",
   "id": "a23cf7b9",
   "metadata": {},
   "source": [
    "#### The dataframe is created to drop data from 202301 as all users in this month are inactive"
   ]
  },
  {
   "cell_type": "markdown",
   "id": "a9083a6a",
   "metadata": {},
   "source": [
    "## Using Card"
   ]
  },
  {
   "cell_type": "markdown",
   "id": "00ab7803",
   "metadata": {},
   "source": [
    "#### The number of users that spending and interacting more on the app are the ones who have binded thier card on the app"
   ]
  },
  {
   "cell_type": "code",
   "execution_count": null,
   "id": "b77b73ef",
   "metadata": {},
   "outputs": [],
   "source": [
    "(df.groupby(['is_bind_card'])\n",
    ".agg({'subtotal_amount_recent_30days' : ['sum'],'nr_interactions':['sum']})\n",
    "[['subtotal_amount_recent_30days','nr_interactions']].apply(lambda x: 100*x/x.sum())\n",
    "\n",
    ")\n",
    "#sns.barplot(data=df, x=\"is_bind_card\", y=\"sum\")\n",
    "#.agg({'user_count':['mean'],'nr_days_on_app':['mean'],'nr_interactions':['mean'],'subtotal_amount_recent_30days':['mean']})\n"
   ]
  },
  {
   "cell_type": "code",
   "execution_count": null,
   "id": "b72840b5",
   "metadata": {},
   "outputs": [],
   "source": [
    "df_b=df_a\n",
    "(df_b\n",
    " .groupby(['is_bind_card'])[['subtotal_amount_recent_30days','nr_interactions']]\n",
    ".sum()\n",
    ".apply(lambda x: 100*x/x.sum())  \n",
    ".plot(kind='bar', ylabel='Percentage',xlabel='Bind Card',title='Binded Card',color = ['#377eb8', '#e41a1c'])\n",
    ")\n",
    "\n"
   ]
  },
  {
   "cell_type": "code",
   "execution_count": null,
   "id": "e8dec56a",
   "metadata": {},
   "outputs": [],
   "source": [
    "\n",
    "(df_b\n",
    " .groupby(['is_bind_card'])[['subtotal_amount_recent_30days','nr_interactions']]\n",
    ".sum()\n",
    ".apply(lambda x: 100*x/x.sum())\n",
    "#.rename('Percent')\n",
    ".reset_index()         \n",
    ")\n",
    "#sns.barplot('data', x=\"is_bind_card\", y='sum')\n",
    "#.sum()\n",
    "# .sort_values(ascending=False)\n",
    "#.rename('sum')\n",
    "#.reset_index()"
   ]
  },
  {
   "cell_type": "markdown",
   "id": "d59c8fbd",
   "metadata": {},
   "source": [
    "### Query  Active and Inactive "
   ]
  },
  {
   "cell_type": "code",
   "execution_count": null,
   "id": "937e6649",
   "metadata": {},
   "outputs": [],
   "source": [
    "df_active=df_b.query(\"target == 1\")\n",
    "df_active.sort_values('nr_days_on_app')\\\n",
    ".head(10)"
   ]
  },
  {
   "cell_type": "code",
   "execution_count": null,
   "id": "efc55639",
   "metadata": {
    "scrolled": true
   },
   "outputs": [],
   "source": [
    "df_inactive=df_b.query(\"target == 0\")\n",
    "df_inactive.head()"
   ]
  },
  {
   "cell_type": "markdown",
   "id": "65de1650",
   "metadata": {},
   "source": [
    "### User activity on months"
   ]
  },
  {
   "cell_type": "markdown",
   "id": "ac9d792b",
   "metadata": {},
   "source": [
    "#### What we have noticed on the users that have been flagged as inactive is that the number of interactions do not grow as the months increase\n",
    "\n",
    "#### This column (months_active) is one we created to to visualize how many months have users that are active or inactive been on the app"
   ]
  },
  {
   "cell_type": "code",
   "execution_count": null,
   "id": "1a0d41c4",
   "metadata": {},
   "outputs": [],
   "source": [
    "sns.barplot(data=df_b,x='months_active',y='nr_interactions',hue='target',palette='Set1')"
   ]
  },
  {
   "cell_type": "markdown",
   "id": "bda6302e",
   "metadata": {},
   "source": [
    "The histogram below is an indication that the outlier number of interactions are caused by the Jan 2023 data all being tagged as inactive users, as compared to the 2 graphs below once we have dropped the January 2023 data the outliers have been removed from the database"
   ]
  },
  {
   "cell_type": "code",
   "execution_count": null,
   "id": "bda823ef",
   "metadata": {},
   "outputs": [],
   "source": [
    "df['nr_interactions'].hist(by=df['target'],log=True)"
   ]
  },
  {
   "cell_type": "code",
   "execution_count": null,
   "id": "2742d846",
   "metadata": {},
   "outputs": [],
   "source": [
    "df_b['nr_interactions'].hist(by=df_b['target'],log=True,color='#e41a1c')"
   ]
  },
  {
   "cell_type": "markdown",
   "id": "d4485f09",
   "metadata": {},
   "source": [
    "### 30 Days Order Count"
   ]
  },
  {
   "cell_type": "code",
   "execution_count": null,
   "id": "3f2693a9",
   "metadata": {},
   "outputs": [],
   "source": [
    "active=df_b.query(\"target == 'active'\")['nr_interactions'].value_counts(bins=5,normalize=True)\n",
    "active"
   ]
  },
  {
   "cell_type": "code",
   "execution_count": null,
   "id": "a54b1c67",
   "metadata": {},
   "outputs": [],
   "source": [
    "inactive=df_b.query(\"target == 'inactive'\")['nr_interactions'].value_counts(bins=5,normalize=True)\n",
    "inactive"
   ]
  },
  {
   "cell_type": "markdown",
   "id": "69e612e2",
   "metadata": {},
   "source": [
    "#### Below it is clearly seen that the order count for recent 30 days on the inactive users is very low.The order count is less than 100 and most are not spending on the app as compared to the active users"
   ]
  },
  {
   "cell_type": "code",
   "execution_count": null,
   "id": "9d465b1e",
   "metadata": {},
   "outputs": [],
   "source": [
    "bins=[0,2000,4000,8000,16000]\n",
    "\n",
    "plt.hist(active,bins=bins,log=True,label='active',alpha=1)\n",
    "plt.hist(inactive,bins=bins,log=True,label='inactive',alpha=1,color='#FFCF56')\n",
    "plt.legend(loc='best')\n",
    "plt.title('Interactions')"
   ]
  },
  {
   "cell_type": "markdown",
   "id": "bd6a69be",
   "metadata": {},
   "source": [
    "### 30 Days Amount"
   ]
  },
  {
   "cell_type": "code",
   "execution_count": null,
   "id": "e891337a",
   "metadata": {},
   "outputs": [],
   "source": [
    "seriesA=df_b.query(\"target == 'active'\")['subtotal_amount_recent_30days'].value_counts(normalize=True)\n",
    "seriesB=df_b.query(\"target == 'inactive'\")['subtotal_amount_recent_30days'].value_counts(normalize=True)"
   ]
  },
  {
   "cell_type": "code",
   "execution_count": null,
   "id": "682f7e63",
   "metadata": {
    "scrolled": false
   },
   "outputs": [],
   "source": [
    "bins=[0,5000,10000,20000,40000,60000,100000]\n",
    "plt.hist(seriesA,bins=bins,log=True,label='active',alpha=1)\n",
    "plt.hist(seriesB,bins=bins,log=True,label='inactive',alpha=1,color='#FFCF56')\n",
    "plt.legend(loc='best')\n",
    "plt.title('30 Days Amount')"
   ]
  },
  {
   "cell_type": "code",
   "execution_count": null,
   "id": "b06bd4de",
   "metadata": {},
   "outputs": [],
   "source": [
    "df_b.head"
   ]
  },
  {
   "cell_type": "markdown",
   "id": "6a2aadf7",
   "metadata": {},
   "source": [
    "# Model Building"
   ]
  },
  {
   "cell_type": "code",
   "execution_count": null,
   "id": "46b2b326",
   "metadata": {},
   "outputs": [],
   "source": [
    "df_b.groupby(['target'])\\\n",
    ".agg({'unique_app_visits':['mean'],'Months_Active':['mean'],'nr_days_on_app':['mean'],'nr_interactions':['mean'],'subtotal_amount_recent_30days':['mean']})"
   ]
  },
  {
   "cell_type": "code",
   "execution_count": null,
   "id": "b0c1d462",
   "metadata": {},
   "outputs": [],
   "source": [
    "df_b.dtypes"
   ]
  },
  {
   "cell_type": "code",
   "execution_count": null,
   "id": "64b3dde8",
   "metadata": {},
   "outputs": [],
   "source": [
    "df_b.isna().sum()"
   ]
  },
  {
   "cell_type": "code",
   "execution_count": null,
   "id": "bac61606",
   "metadata": {
    "scrolled": true
   },
   "outputs": [],
   "source": [
    "df_b.head()"
   ]
  },
  {
   "cell_type": "code",
   "execution_count": null,
   "id": "7bd57c52",
   "metadata": {},
   "outputs": [],
   "source": [
    "#replace the -1s with NaN\n",
    "df_b=df_b.replace(to_replace='-1',value=np.nan, regex=True)"
   ]
  },
  {
   "cell_type": "code",
   "execution_count": null,
   "id": "4f46e52b",
   "metadata": {},
   "outputs": [],
   "source": [
    "df_b.isna().sum()"
   ]
  },
  {
   "cell_type": "code",
   "execution_count": null,
   "id": "7ebd784d",
   "metadata": {
    "scrolled": true
   },
   "outputs": [],
   "source": [
    "df_b.columns"
   ]
  },
  {
   "cell_type": "code",
   "execution_count": null,
   "id": "9138aa3b",
   "metadata": {},
   "outputs": [],
   "source": [
    "#df_c=df_b.drop(columns=['Interacted_and_card_linked','nr_unique_pages_visited','Avg_apps_per_cat_visited','unique_app_visits','subtotal_amount_today_daily','subtotal_amount_recent_7days'],axis=1)\n",
    "\n",
    "df_c=df_b\n",
    "df_c.head()"
   ]
  },
  {
   "cell_type": "code",
   "execution_count": null,
   "id": "c49027c9",
   "metadata": {
    "scrolled": false
   },
   "outputs": [],
   "source": [
    "df_c.head()"
   ]
  },
  {
   "cell_type": "code",
   "execution_count": null,
   "id": "a5dc1c74",
   "metadata": {
    "scrolled": true
   },
   "outputs": [],
   "source": [
    "df_c.isna().sum()"
   ]
  },
  {
   "cell_type": "code",
   "execution_count": null,
   "id": "9fe41b32",
   "metadata": {},
   "outputs": [],
   "source": [
    "df_c.corr()['target'].sort_values(ascending=False)\n",
    "\n",
    "#plot data for presentation slide 12"
   ]
  },
  {
   "cell_type": "code",
   "execution_count": null,
   "id": "7f9e5e07",
   "metadata": {},
   "outputs": [],
   "source": [
    "df_c=df_c.drop(columns=['avg_inter_per_month','Avg_apps_per_cat_visited'])\n",
    "df_c.corr()['target']\n",
    "\n",
    "sns.heatmap(df_c.corr())"
   ]
  },
  {
   "cell_type": "code",
   "execution_count": null,
   "id": "809cef25",
   "metadata": {},
   "outputs": [],
   "source": [
    "df_numeric = df_numeric.drop(columns=['Avg_apps_per_cat_visited'])"
   ]
  },
  {
   "cell_type": "code",
   "execution_count": null,
   "id": "b02f9dd0",
   "metadata": {},
   "outputs": [],
   "source": [
    "df_numeric.isna().sum()"
   ]
  },
  {
   "cell_type": "code",
   "execution_count": null,
   "id": "d23046bb",
   "metadata": {},
   "outputs": [],
   "source": [
    "from sklearn.tree import DecisionTreeClassifier\n",
    "from sklearn.model_selection import train_test_split\n",
    "from sklearn.metrics import accuracy_score\n",
    "\n",
    "#df_dtc=df_c.drop(columns=['lastorder_orderdate'])\n",
    "df_dtc=df_numeric\n",
    "X=df_dtc.drop(columns=['target'])\n",
    "y=df_dtc['target']\n",
    "\n",
    "X_train,X_test,y_train,y_test=train_test_split(X,y,test_size=0.2)\n",
    "\n",
    "model=DecisionTreeClassifier()\n",
    "model.fit(X_train,y_train)\n",
    "predictions=model.predict(X_test)\n",
    "score=accuracy_score(y_test,predictions)\n",
    "score"
   ]
  },
  {
   "cell_type": "code",
   "execution_count": null,
   "id": "a15632a2",
   "metadata": {},
   "outputs": [],
   "source": [
    "### Classification report\n",
    "from sklearn.model_selection import cross_val_score\n",
    "from sklearn.metrics import classification_report, confusion_matrix\n",
    "from sklearn.model_selection import cross_val_score\n",
    "\n",
    "rfc_predict_test = (model.predict_proba(X_test[X.columns])[:,1] >= 0.288).astype(bool)\n",
    "rfc_cv_score = cross_val_score(model, X_test[X.columns], y_test, cv=5, scoring='roc_auc')\n",
    "\n",
    "print(\"=== Confusion Matrix : Test ===\")\n",
    "print(confusion_matrix(y_test, rfc_predict_test))\n",
    "print('\\n')\n",
    "print(\"=== Classification Report ===\")\n",
    "print(classification_report(y_test, rfc_predict_test))\n",
    "print('\\n')"
   ]
  },
  {
   "cell_type": "code",
   "execution_count": null,
   "id": "e32a5ad5",
   "metadata": {},
   "outputs": [],
   "source": [
    "plt.figure(figsize=(24, 10))\n",
    "# Store heatmap object in a variable to easily access it when you want to include more features (such as title).\n",
    "# Set the range of values to be displayed on the colormap from -1 to 1, and set the annotation to True to display the correlation values on the heatmap.\n",
    "heatmap = sns.heatmap(X_test.corr(), vmin=-1, vmax=1, annot=True)\n",
    "# Give a title to the heatmap. Pad defines the distance of the title from the top of the heatmap.\n",
    "heatmap.set_title('Correlation Heatmap', fontdict={'fontsize':12}, pad=12);"
   ]
  },
  {
   "cell_type": "code",
   "execution_count": null,
   "id": "45961ac0",
   "metadata": {},
   "outputs": [],
   "source": [
    "from sklearn.model_selection import train_test_split\n",
    "from sklearn.svm import SVC\n",
    "from sklearn.neighbors import KNeighborsClassifier\n",
    "\n",
    "X_train, X_test, y_train, y_test = train_test_split(X, y, test_size=0.2)\n",
    "\n",
    "#clf_knc = df_c.drop(columns=['months_active'])\n",
    "\n",
    "\n",
    "clf_knc = SVC(kernel='linear',C=3)\n",
    "clf_knc.fit(X_train, y_train)\n",
    "\n",
    "clf_knc.score(X_test,y_test)\n"
   ]
  },
  {
   "cell_type": "code",
   "execution_count": null,
   "id": "6c56c95a",
   "metadata": {},
   "outputs": [],
   "source": [
    "from sklearn.neighbors import KNeighborsClassifier\n",
    "\n",
    "clf_2 = KNeighborsClassifier(n_neighbors=3)\n",
    "clf_2.fit(X_train, y_train)\n",
    "clf_2.score(X_test,y_test)"
   ]
  },
  {
   "cell_type": "code",
   "execution_count": null,
   "id": "3137fc06",
   "metadata": {},
   "outputs": [],
   "source": [
    "from sklearn.ensemble import RandomForestClassifier\n",
    "#from sklearn.datasets import make_Classification\n",
    "\n",
    "df_rfc=df_c.drop(columns=['lastorder_orderdate','lastorder_usecase',])\n",
    "X=df_rfc.drop(columns=['target'])\n",
    "y=df_rfc['target']\n",
    "\n",
    "X_train, X_test, y_train, y_test = train_test_split(X, y, test_size=0.2)\n",
    "\n",
    "clf_rfc = RandomForestClassifier()\n",
    "clf_rfc.fit(X_train, y_train)\n",
    "clf_rfc.feature_importances_\n",
    "\n",
    "predictions=model.predict(X_test)\n",
    "score=accuracy_score(y_test,predictions)\n",
    "score"
   ]
  },
  {
   "cell_type": "code",
   "execution_count": null,
   "id": "311dd14f",
   "metadata": {},
   "outputs": [],
   "source": [
    "predictions=model.predict(X_test)\n",
    "score=accuracy_score(y_test,predictions)\n",
    "score"
   ]
  },
  {
   "cell_type": "markdown",
   "id": "c1784e71",
   "metadata": {},
   "source": [
    "# Conclusion"
   ]
  },
  {
   "cell_type": "markdown",
   "id": "0297e6ab",
   "metadata": {},
   "source": [
    "#### We can assume that the machine learning build was a success looking at the output of 90 percent"
   ]
  },
  {
   "cell_type": "code",
   "execution_count": null,
   "id": "c423ced9",
   "metadata": {},
   "outputs": [],
   "source": []
  }
 ],
 "metadata": {
  "kernelspec": {
   "display_name": "Python 3 (ipykernel)",
   "language": "python",
   "name": "python3"
  },
  "language_info": {
   "codemirror_mode": {
    "name": "ipython",
    "version": 3
   },
   "file_extension": ".py",
   "mimetype": "text/x-python",
   "name": "python",
   "nbconvert_exporter": "python",
   "pygments_lexer": "ipython3",
   "version": "3.10.4"
  }
 },
 "nbformat": 4,
 "nbformat_minor": 5
}
