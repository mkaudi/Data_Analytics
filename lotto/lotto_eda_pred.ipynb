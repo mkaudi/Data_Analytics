{
 "cells": [
  {
   "cell_type": "code",
   "execution_count": 46,
   "id": "8de844c8-fb47-429b-94db-03e2a5929230",
   "metadata": {},
   "outputs": [],
   "source": [
    "import numpy as np\n",
    "import pandas as pd\n",
    "import matplotlib.pyplot as plt\n",
    "import seaborn as sns"
   ]
  },
  {
   "cell_type": "code",
   "execution_count": 47,
   "id": "afc57398-037d-40a6-b282-2a058e0f40ac",
   "metadata": {},
   "outputs": [],
   "source": [
    "df = pd.read_excel('lotto_numbers.xlsx')"
   ]
  },
  {
   "cell_type": "code",
   "execution_count": 48,
   "id": "5bf3fad4-68c6-4a83-9c8e-11d28a0afcc8",
   "metadata": {},
   "outputs": [
    {
     "data": {
      "text/html": [
       "<div>\n",
       "<style scoped>\n",
       "    .dataframe tbody tr th:only-of-type {\n",
       "        vertical-align: middle;\n",
       "    }\n",
       "\n",
       "    .dataframe tbody tr th {\n",
       "        vertical-align: top;\n",
       "    }\n",
       "\n",
       "    .dataframe thead th {\n",
       "        text-align: right;\n",
       "    }\n",
       "</style>\n",
       "<table border=\"1\" class=\"dataframe\">\n",
       "  <thead>\n",
       "    <tr style=\"text-align: right;\">\n",
       "      <th></th>\n",
       "      <th>Date</th>\n",
       "      <th>Day</th>\n",
       "      <th>Num1</th>\n",
       "      <th>Num2</th>\n",
       "      <th>Num3</th>\n",
       "      <th>Num4</th>\n",
       "      <th>Num5</th>\n",
       "      <th>Num6</th>\n",
       "      <th>Bonus</th>\n",
       "      <th>Jackpot</th>\n",
       "      <th>Win/Rollover</th>\n",
       "    </tr>\n",
       "  </thead>\n",
       "  <tbody>\n",
       "    <tr>\n",
       "      <th>0</th>\n",
       "      <td>2024-01-31</td>\n",
       "      <td>Wednesday</td>\n",
       "      <td>9</td>\n",
       "      <td>11</td>\n",
       "      <td>23</td>\n",
       "      <td>26</td>\n",
       "      <td>41</td>\n",
       "      <td>52</td>\n",
       "      <td>29</td>\n",
       "      <td>R5,939,591.52</td>\n",
       "      <td>Roll</td>\n",
       "    </tr>\n",
       "    <tr>\n",
       "      <th>1</th>\n",
       "      <td>2024-01-27</td>\n",
       "      <td>Saturday</td>\n",
       "      <td>2</td>\n",
       "      <td>15</td>\n",
       "      <td>26</td>\n",
       "      <td>28</td>\n",
       "      <td>45</td>\n",
       "      <td>49</td>\n",
       "      <td>6</td>\n",
       "      <td>R3,302,271.43</td>\n",
       "      <td>Roll</td>\n",
       "    </tr>\n",
       "    <tr>\n",
       "      <th>2</th>\n",
       "      <td>2024-01-24</td>\n",
       "      <td>Wednesday</td>\n",
       "      <td>14</td>\n",
       "      <td>16</td>\n",
       "      <td>18</td>\n",
       "      <td>21</td>\n",
       "      <td>45</td>\n",
       "      <td>51</td>\n",
       "      <td>4</td>\n",
       "      <td>R12,799,946.70</td>\n",
       "      <td>Won</td>\n",
       "    </tr>\n",
       "    <tr>\n",
       "      <th>3</th>\n",
       "      <td>2024-01-20</td>\n",
       "      <td>Saturday</td>\n",
       "      <td>3</td>\n",
       "      <td>8</td>\n",
       "      <td>10</td>\n",
       "      <td>16</td>\n",
       "      <td>36</td>\n",
       "      <td>41</td>\n",
       "      <td>9</td>\n",
       "      <td>R10,211,107.18</td>\n",
       "      <td>Roll</td>\n",
       "    </tr>\n",
       "    <tr>\n",
       "      <th>4</th>\n",
       "      <td>2024-01-17</td>\n",
       "      <td>Wednesday</td>\n",
       "      <td>24</td>\n",
       "      <td>33</td>\n",
       "      <td>34</td>\n",
       "      <td>42</td>\n",
       "      <td>43</td>\n",
       "      <td>50</td>\n",
       "      <td>37</td>\n",
       "      <td>R7,524,554.24</td>\n",
       "      <td>Roll</td>\n",
       "    </tr>\n",
       "  </tbody>\n",
       "</table>\n",
       "</div>"
      ],
      "text/plain": [
       "        Date        Day  Num1  Num2  Num3  Num4  Num5  Num6  Bonus  \\\n",
       "0 2024-01-31  Wednesday     9    11    23    26    41    52     29   \n",
       "1 2024-01-27   Saturday     2    15    26    28    45    49      6   \n",
       "2 2024-01-24  Wednesday    14    16    18    21    45    51      4   \n",
       "3 2024-01-20   Saturday     3     8    10    16    36    41      9   \n",
       "4 2024-01-17  Wednesday    24    33    34    42    43    50     37   \n",
       "\n",
       "          Jackpot Win/Rollover  \n",
       "0   R5,939,591.52         Roll  \n",
       "1   R3,302,271.43         Roll  \n",
       "2  R12,799,946.70          Won  \n",
       "3  R10,211,107.18         Roll  \n",
       "4   R7,524,554.24         Roll  "
      ]
     },
     "execution_count": 48,
     "metadata": {},
     "output_type": "execute_result"
    }
   ],
   "source": [
    "df.head()"
   ]
  },
  {
   "cell_type": "code",
   "execution_count": 49,
   "id": "03839dc8-f4a5-4cf3-b7de-3e1e581636ec",
   "metadata": {},
   "outputs": [
    {
     "data": {
      "text/plain": [
       "<Axes: ylabel='Frequency'>"
      ]
     },
     "execution_count": 49,
     "metadata": {},
     "output_type": "execute_result"
    },
    {
     "data": {
      "image/png": "[encoded data removed]",
      "text/plain": [
       "<Figure size 640x480 with 9 Axes>"
      ]
     },
     "metadata": {},
     "output_type": "display_data"
    }
   ],
   "source": [
    "fig, axes = plt.subplots(nrows=3, ncols=3)\n",
    "\n",
    "df.Num1.plot(kind='hist', ax = axes[0, 0])\n",
    "df.Num2.plot(kind='hist', ax = axes[0, 1])\n",
    "df.Num3.plot(kind='hist', ax = axes[0, 2])\n",
    "df.Num4.plot(kind='hist', ax = axes[1, 0])\n",
    "df.Num5.plot(kind='hist', ax = axes[1, 1])\n",
    "df.Num6.plot(kind='hist', ax = axes[1, 2])\n",
    "df.Bonus.plot(kind='hist', ax = axes[2, 0])"
   ]
  },
  {
   "cell_type": "code",
   "execution_count": 50,
   "id": "84489aa3-a352-433c-a45e-f2fc111c3103",
   "metadata": {},
   "outputs": [
    {
     "data": {
      "text/plain": [
       "<Axes: ylabel='Num1'>"
      ]
     },
     "execution_count": 50,
     "metadata": {},
     "output_type": "execute_result"
    }
   ],
   "source": [
    "df.Num1.plot(kind='pie', ax = axes[0, 0])"
   ]
  },
  {
   "cell_type": "code",
   "execution_count": 51,
   "id": "5bdbc921-ab7c-456c-b018-83d0167f5de6",
   "metadata": {},
   "outputs": [
    {
     "data": {
      "text/plain": [
       "<pandas.core.groupby.generic.DataFrameGroupBy object at 0x000001462B65B320>"
      ]
     },
     "execution_count": 51,
     "metadata": {},
     "output_type": "execute_result"
    }
   ],
   "source": [
    "df.groupby(by=['Day'])"
   ]
  },
  {
   "cell_type": "code",
   "execution_count": 52,
   "id": "49526381-d938-4e85-9da9-741de9048c58",
   "metadata": {},
   "outputs": [],
   "source": [
    "df['Nums_sums_excl_bonus'] = df['Num1'] +  df['Num2'] + df['Num3'] + df['Num4'] + df['Num5'] + df['Num6']"
   ]
  },
  {
   "cell_type": "code",
   "execution_count": 53,
   "id": "a8f83892-3d99-4d13-8dbd-d08e712e3ded",
   "metadata": {},
   "outputs": [
    {
     "data": {
      "text/html": [
       "<div>\n",
       "<style scoped>\n",
       "    .dataframe tbody tr th:only-of-type {\n",
       "        vertical-align: middle;\n",
       "    }\n",
       "\n",
       "    .dataframe tbody tr th {\n",
       "        vertical-align: top;\n",
       "    }\n",
       "\n",
       "    .dataframe thead th {\n",
       "        text-align: right;\n",
       "    }\n",
       "</style>\n",
       "<table border=\"1\" class=\"dataframe\">\n",
       "  <thead>\n",
       "    <tr style=\"text-align: right;\">\n",
       "      <th></th>\n",
       "      <th>Date</th>\n",
       "      <th>Day</th>\n",
       "      <th>Num1</th>\n",
       "      <th>Num2</th>\n",
       "      <th>Num3</th>\n",
       "      <th>Num4</th>\n",
       "      <th>Num5</th>\n",
       "      <th>Num6</th>\n",
       "      <th>Bonus</th>\n",
       "      <th>Jackpot</th>\n",
       "      <th>Win/Rollover</th>\n",
       "      <th>Nums_sums_excl_bonus</th>\n",
       "    </tr>\n",
       "  </thead>\n",
       "  <tbody>\n",
       "    <tr>\n",
       "      <th>0</th>\n",
       "      <td>2024-01-31</td>\n",
       "      <td>Wednesday</td>\n",
       "      <td>9</td>\n",
       "      <td>11</td>\n",
       "      <td>23</td>\n",
       "      <td>26</td>\n",
       "      <td>41</td>\n",
       "      <td>52</td>\n",
       "      <td>29</td>\n",
       "      <td>R5,939,591.52</td>\n",
       "      <td>Roll</td>\n",
       "      <td>162</td>\n",
       "    </tr>\n",
       "    <tr>\n",
       "      <th>1</th>\n",
       "      <td>2024-01-27</td>\n",
       "      <td>Saturday</td>\n",
       "      <td>2</td>\n",
       "      <td>15</td>\n",
       "      <td>26</td>\n",
       "      <td>28</td>\n",
       "      <td>45</td>\n",
       "      <td>49</td>\n",
       "      <td>6</td>\n",
       "      <td>R3,302,271.43</td>\n",
       "      <td>Roll</td>\n",
       "      <td>165</td>\n",
       "    </tr>\n",
       "    <tr>\n",
       "      <th>2</th>\n",
       "      <td>2024-01-24</td>\n",
       "      <td>Wednesday</td>\n",
       "      <td>14</td>\n",
       "      <td>16</td>\n",
       "      <td>18</td>\n",
       "      <td>21</td>\n",
       "      <td>45</td>\n",
       "      <td>51</td>\n",
       "      <td>4</td>\n",
       "      <td>R12,799,946.70</td>\n",
       "      <td>Won</td>\n",
       "      <td>165</td>\n",
       "    </tr>\n",
       "    <tr>\n",
       "      <th>3</th>\n",
       "      <td>2024-01-20</td>\n",
       "      <td>Saturday</td>\n",
       "      <td>3</td>\n",
       "      <td>8</td>\n",
       "      <td>10</td>\n",
       "      <td>16</td>\n",
       "      <td>36</td>\n",
       "      <td>41</td>\n",
       "      <td>9</td>\n",
       "      <td>R10,211,107.18</td>\n",
       "      <td>Roll</td>\n",
       "      <td>114</td>\n",
       "    </tr>\n",
       "    <tr>\n",
       "      <th>4</th>\n",
       "      <td>2024-01-17</td>\n",
       "      <td>Wednesday</td>\n",
       "      <td>24</td>\n",
       "      <td>33</td>\n",
       "      <td>34</td>\n",
       "      <td>42</td>\n",
       "      <td>43</td>\n",
       "      <td>50</td>\n",
       "      <td>37</td>\n",
       "      <td>R7,524,554.24</td>\n",
       "      <td>Roll</td>\n",
       "      <td>226</td>\n",
       "    </tr>\n",
       "  </tbody>\n",
       "</table>\n",
       "</div>"
      ],
      "text/plain": [
       "        Date        Day  Num1  Num2  Num3  Num4  Num5  Num6  Bonus  \\\n",
       "0 2024-01-31  Wednesday     9    11    23    26    41    52     29   \n",
       "1 2024-01-27   Saturday     2    15    26    28    45    49      6   \n",
       "2 2024-01-24  Wednesday    14    16    18    21    45    51      4   \n",
       "3 2024-01-20   Saturday     3     8    10    16    36    41      9   \n",
       "4 2024-01-17  Wednesday    24    33    34    42    43    50     37   \n",
       "\n",
       "          Jackpot Win/Rollover  Nums_sums_excl_bonus  \n",
       "0   R5,939,591.52         Roll                   162  \n",
       "1   R3,302,271.43         Roll                   165  \n",
       "2  R12,799,946.70          Won                   165  \n",
       "3  R10,211,107.18         Roll                   114  \n",
       "4   R7,524,554.24         Roll                   226  "
      ]
     },
     "execution_count": 53,
     "metadata": {},
     "output_type": "execute_result"
    }
   ],
   "source": [
    "df.head()"
   ]
  },
  {
   "cell_type": "code",
   "execution_count": 54,
   "id": "bc96168b-6911-4825-9d0d-dd4930e08bf0",
   "metadata": {},
   "outputs": [
    {
     "data": {
      "text/plain": [
       "Win/Rollover\n",
       "Roll    Axes(0.125,0.11;0.775x0.77)\n",
       "Won     Axes(0.125,0.11;0.775x0.77)\n",
       "dtype: object"
      ]
     },
     "execution_count": 54,
     "metadata": {},
     "output_type": "execute_result"
    },
    {
     "data": {
      "image/png": "[encoded data removed]",
      "text/plain": [
       "<Figure size 640x480 with 1 Axes>"
      ]
     },
     "metadata": {},
     "output_type": "display_data"
    },
    {
     "data": {
      "image/png": "[encoded data removed]",
      "text/plain": [
       "<Figure size 640x480 with 1 Axes>"
      ]
     },
     "metadata": {},
     "output_type": "display_data"
    }
   ],
   "source": [
    "df.groupby(by=['Win/Rollover']).plot(kind='bar', x = 'Win/Rollover', y = 'Nums_sums_excl_bonus')"
   ]
  },
  {
   "cell_type": "code",
   "execution_count": 55,
   "id": "84575dd9-a523-47a6-8c4b-f09771364ef6",
   "metadata": {},
   "outputs": [
    {
     "data": {
      "text/plain": [
       "<Axes: xlabel='Win/Rollover'>"
      ]
     },
     "execution_count": 55,
     "metadata": {},
     "output_type": "execute_result"
    },
    {
     "data": {
      "image/png": "[encoded data removed]",
      "text/plain": [
       "<Figure size 640x480 with 1 Axes>"
      ]
     },
     "metadata": {},
     "output_type": "display_data"
    }
   ],
   "source": [
    "df.groupby(by=['Win/Rollover'])['Nums_sums_excl_bonus'].mean().plot(kind='bar')"
   ]
  },
  {
   "cell_type": "code",
   "execution_count": 56,
   "id": "5ecf92f0-940b-4492-990d-dce9ae1fc1c9",
   "metadata": {},
   "outputs": [
    {
     "data": {
      "text/plain": [
       "137.2"
      ]
     },
     "execution_count": 56,
     "metadata": {},
     "output_type": "execute_result"
    }
   ],
   "source": [
    "df.loc[df['Win/Rollover'] == \"Won\"]['Nums_sums_excl_bonus'].mean()"
   ]
  },
  {
   "cell_type": "code",
   "execution_count": 57,
   "id": "2940b003-a2fe-4572-bcda-dc00a9f0374c",
   "metadata": {},
   "outputs": [
    {
     "data": {
      "text/plain": [
       "168.48717948717947"
      ]
     },
     "execution_count": 57,
     "metadata": {},
     "output_type": "execute_result"
    }
   ],
   "source": [
    "df.loc[df['Win/Rollover'] == \"Roll\"]['Nums_sums_excl_bonus'].mean()"
   ]
  },
  {
   "cell_type": "code",
   "execution_count": 58,
   "id": "e44e2d61-3d33-4b44-bba5-5fc427d6c8c3",
   "metadata": {},
   "outputs": [
    {
     "data": {
      "text/plain": [
       "24.6"
      ]
     },
     "execution_count": 58,
     "metadata": {},
     "output_type": "execute_result"
    }
   ],
   "source": [
    "df.loc[df['Win/Rollover'] == \"Won\"]['Bonus'].mean()"
   ]
  },
  {
   "cell_type": "code",
   "execution_count": 59,
   "id": "9ea3efeb-017e-4b6b-8eb7-04885ecd0b80",
   "metadata": {},
   "outputs": [
    {
     "data": {
      "text/plain": [
       "27.256410256410255"
      ]
     },
     "execution_count": 59,
     "metadata": {},
     "output_type": "execute_result"
    }
   ],
   "source": [
    "df.loc[df['Win/Rollover'] == \"Roll\"]['Bonus'].mean()"
   ]
  },
  {
   "cell_type": "code",
   "execution_count": 60,
   "id": "dd780c5e-619f-49c5-8d4f-7bf69110e01f",
   "metadata": {},
   "outputs": [
    {
     "data": {
      "text/plain": [
       "dtype('O')"
      ]
     },
     "execution_count": 60,
     "metadata": {},
     "output_type": "execute_result"
    }
   ],
   "source": [
    "df.Jackpot.dtypes"
   ]
  },
  {
   "cell_type": "code",
   "execution_count": 61,
   "id": "faedaf91-4dd4-4792-8464-db03684e13cb",
   "metadata": {},
   "outputs": [],
   "source": [
    "df.Jackpot = df.Jackpot.replace('R', '', regex=True)"
   ]
  },
  {
   "cell_type": "code",
   "execution_count": 62,
   "id": "931190a9-d482-486e-871b-1b197bac8308",
   "metadata": {},
   "outputs": [
    {
     "data": {
      "text/html": [
       "<div>\n",
       "<style scoped>\n",
       "    .dataframe tbody tr th:only-of-type {\n",
       "        vertical-align: middle;\n",
       "    }\n",
       "\n",
       "    .dataframe tbody tr th {\n",
       "        vertical-align: top;\n",
       "    }\n",
       "\n",
       "    .dataframe thead th {\n",
       "        text-align: right;\n",
       "    }\n",
       "</style>\n",
       "<table border=\"1\" class=\"dataframe\">\n",
       "  <thead>\n",
       "    <tr style=\"text-align: right;\">\n",
       "      <th></th>\n",
       "      <th>Date</th>\n",
       "      <th>Day</th>\n",
       "      <th>Num1</th>\n",
       "      <th>Num2</th>\n",
       "      <th>Num3</th>\n",
       "      <th>Num4</th>\n",
       "      <th>Num5</th>\n",
       "      <th>Num6</th>\n",
       "      <th>Bonus</th>\n",
       "      <th>Jackpot</th>\n",
       "      <th>Win/Rollover</th>\n",
       "      <th>Nums_sums_excl_bonus</th>\n",
       "    </tr>\n",
       "  </thead>\n",
       "  <tbody>\n",
       "    <tr>\n",
       "      <th>0</th>\n",
       "      <td>2024-01-31</td>\n",
       "      <td>Wednesday</td>\n",
       "      <td>9</td>\n",
       "      <td>11</td>\n",
       "      <td>23</td>\n",
       "      <td>26</td>\n",
       "      <td>41</td>\n",
       "      <td>52</td>\n",
       "      <td>29</td>\n",
       "      <td>5,939,591.52</td>\n",
       "      <td>Roll</td>\n",
       "      <td>162</td>\n",
       "    </tr>\n",
       "    <tr>\n",
       "      <th>1</th>\n",
       "      <td>2024-01-27</td>\n",
       "      <td>Saturday</td>\n",
       "      <td>2</td>\n",
       "      <td>15</td>\n",
       "      <td>26</td>\n",
       "      <td>28</td>\n",
       "      <td>45</td>\n",
       "      <td>49</td>\n",
       "      <td>6</td>\n",
       "      <td>3,302,271.43</td>\n",
       "      <td>Roll</td>\n",
       "      <td>165</td>\n",
       "    </tr>\n",
       "    <tr>\n",
       "      <th>2</th>\n",
       "      <td>2024-01-24</td>\n",
       "      <td>Wednesday</td>\n",
       "      <td>14</td>\n",
       "      <td>16</td>\n",
       "      <td>18</td>\n",
       "      <td>21</td>\n",
       "      <td>45</td>\n",
       "      <td>51</td>\n",
       "      <td>4</td>\n",
       "      <td>12,799,946.70</td>\n",
       "      <td>Won</td>\n",
       "      <td>165</td>\n",
       "    </tr>\n",
       "    <tr>\n",
       "      <th>3</th>\n",
       "      <td>2024-01-20</td>\n",
       "      <td>Saturday</td>\n",
       "      <td>3</td>\n",
       "      <td>8</td>\n",
       "      <td>10</td>\n",
       "      <td>16</td>\n",
       "      <td>36</td>\n",
       "      <td>41</td>\n",
       "      <td>9</td>\n",
       "      <td>10,211,107.18</td>\n",
       "      <td>Roll</td>\n",
       "      <td>114</td>\n",
       "    </tr>\n",
       "    <tr>\n",
       "      <th>4</th>\n",
       "      <td>2024-01-17</td>\n",
       "      <td>Wednesday</td>\n",
       "      <td>24</td>\n",
       "      <td>33</td>\n",
       "      <td>34</td>\n",
       "      <td>42</td>\n",
       "      <td>43</td>\n",
       "      <td>50</td>\n",
       "      <td>37</td>\n",
       "      <td>7,524,554.24</td>\n",
       "      <td>Roll</td>\n",
       "      <td>226</td>\n",
       "    </tr>\n",
       "  </tbody>\n",
       "</table>\n",
       "</div>"
      ],
      "text/plain": [
       "        Date        Day  Num1  Num2  Num3  Num4  Num5  Num6  Bonus  \\\n",
       "0 2024-01-31  Wednesday     9    11    23    26    41    52     29   \n",
       "1 2024-01-27   Saturday     2    15    26    28    45    49      6   \n",
       "2 2024-01-24  Wednesday    14    16    18    21    45    51      4   \n",
       "3 2024-01-20   Saturday     3     8    10    16    36    41      9   \n",
       "4 2024-01-17  Wednesday    24    33    34    42    43    50     37   \n",
       "\n",
       "         Jackpot Win/Rollover  Nums_sums_excl_bonus  \n",
       "0   5,939,591.52         Roll                   162  \n",
       "1   3,302,271.43         Roll                   165  \n",
       "2  12,799,946.70          Won                   165  \n",
       "3  10,211,107.18         Roll                   114  \n",
       "4   7,524,554.24         Roll                   226  "
      ]
     },
     "execution_count": 62,
     "metadata": {},
     "output_type": "execute_result"
    }
   ],
   "source": [
    "df.head()"
   ]
  },
  {
   "cell_type": "code",
   "execution_count": 63,
   "id": "4316c573-0f93-43f4-9cd9-d655ea69b44d",
   "metadata": {},
   "outputs": [],
   "source": [
    "df.Jackpot = df.Jackpot.replace(',', '', regex=True)"
   ]
  },
  {
   "cell_type": "code",
   "execution_count": 64,
   "id": "661181a0-bc0f-4432-8c38-b50532082c15",
   "metadata": {},
   "outputs": [
    {
     "data": {
      "text/plain": [
       "dtype('O')"
      ]
     },
     "execution_count": 64,
     "metadata": {},
     "output_type": "execute_result"
    }
   ],
   "source": [
    "df.Jackpot.dtypes"
   ]
  },
  {
   "cell_type": "code",
   "execution_count": 65,
   "id": "1dd9c08b-8566-4f76-93d2-ee5aed227e41",
   "metadata": {},
   "outputs": [
    {
     "data": {
      "text/html": [
       "<div>\n",
       "<style scoped>\n",
       "    .dataframe tbody tr th:only-of-type {\n",
       "        vertical-align: middle;\n",
       "    }\n",
       "\n",
       "    .dataframe tbody tr th {\n",
       "        vertical-align: top;\n",
       "    }\n",
       "\n",
       "    .dataframe thead th {\n",
       "        text-align: right;\n",
       "    }\n",
       "</style>\n",
       "<table border=\"1\" class=\"dataframe\">\n",
       "  <thead>\n",
       "    <tr style=\"text-align: right;\">\n",
       "      <th></th>\n",
       "      <th>Date</th>\n",
       "      <th>Day</th>\n",
       "      <th>Num1</th>\n",
       "      <th>Num2</th>\n",
       "      <th>Num3</th>\n",
       "      <th>Num4</th>\n",
       "      <th>Num5</th>\n",
       "      <th>Num6</th>\n",
       "      <th>Bonus</th>\n",
       "      <th>Jackpot</th>\n",
       "      <th>Win/Rollover</th>\n",
       "      <th>Nums_sums_excl_bonus</th>\n",
       "    </tr>\n",
       "  </thead>\n",
       "  <tbody>\n",
       "    <tr>\n",
       "      <th>0</th>\n",
       "      <td>2024-01-31</td>\n",
       "      <td>Wednesday</td>\n",
       "      <td>9</td>\n",
       "      <td>11</td>\n",
       "      <td>23</td>\n",
       "      <td>26</td>\n",
       "      <td>41</td>\n",
       "      <td>52</td>\n",
       "      <td>29</td>\n",
       "      <td>5939591.52</td>\n",
       "      <td>Roll</td>\n",
       "      <td>162</td>\n",
       "    </tr>\n",
       "    <tr>\n",
       "      <th>1</th>\n",
       "      <td>2024-01-27</td>\n",
       "      <td>Saturday</td>\n",
       "      <td>2</td>\n",
       "      <td>15</td>\n",
       "      <td>26</td>\n",
       "      <td>28</td>\n",
       "      <td>45</td>\n",
       "      <td>49</td>\n",
       "      <td>6</td>\n",
       "      <td>3302271.43</td>\n",
       "      <td>Roll</td>\n",
       "      <td>165</td>\n",
       "    </tr>\n",
       "    <tr>\n",
       "      <th>2</th>\n",
       "      <td>2024-01-24</td>\n",
       "      <td>Wednesday</td>\n",
       "      <td>14</td>\n",
       "      <td>16</td>\n",
       "      <td>18</td>\n",
       "      <td>21</td>\n",
       "      <td>45</td>\n",
       "      <td>51</td>\n",
       "      <td>4</td>\n",
       "      <td>12799946.70</td>\n",
       "      <td>Won</td>\n",
       "      <td>165</td>\n",
       "    </tr>\n",
       "    <tr>\n",
       "      <th>3</th>\n",
       "      <td>2024-01-20</td>\n",
       "      <td>Saturday</td>\n",
       "      <td>3</td>\n",
       "      <td>8</td>\n",
       "      <td>10</td>\n",
       "      <td>16</td>\n",
       "      <td>36</td>\n",
       "      <td>41</td>\n",
       "      <td>9</td>\n",
       "      <td>10211107.18</td>\n",
       "      <td>Roll</td>\n",
       "      <td>114</td>\n",
       "    </tr>\n",
       "    <tr>\n",
       "      <th>4</th>\n",
       "      <td>2024-01-17</td>\n",
       "      <td>Wednesday</td>\n",
       "      <td>24</td>\n",
       "      <td>33</td>\n",
       "      <td>34</td>\n",
       "      <td>42</td>\n",
       "      <td>43</td>\n",
       "      <td>50</td>\n",
       "      <td>37</td>\n",
       "      <td>7524554.24</td>\n",
       "      <td>Roll</td>\n",
       "      <td>226</td>\n",
       "    </tr>\n",
       "  </tbody>\n",
       "</table>\n",
       "</div>"
      ],
      "text/plain": [
       "        Date        Day  Num1  Num2  Num3  Num4  Num5  Num6  Bonus  \\\n",
       "0 2024-01-31  Wednesday     9    11    23    26    41    52     29   \n",
       "1 2024-01-27   Saturday     2    15    26    28    45    49      6   \n",
       "2 2024-01-24  Wednesday    14    16    18    21    45    51      4   \n",
       "3 2024-01-20   Saturday     3     8    10    16    36    41      9   \n",
       "4 2024-01-17  Wednesday    24    33    34    42    43    50     37   \n",
       "\n",
       "       Jackpot Win/Rollover  Nums_sums_excl_bonus  \n",
       "0   5939591.52         Roll                   162  \n",
       "1   3302271.43         Roll                   165  \n",
       "2  12799946.70          Won                   165  \n",
       "3  10211107.18         Roll                   114  \n",
       "4   7524554.24         Roll                   226  "
      ]
     },
     "execution_count": 65,
     "metadata": {},
     "output_type": "execute_result"
    }
   ],
   "source": [
    "df.head()"
   ]
  },
  {
   "cell_type": "code",
   "execution_count": 66,
   "id": "17a509e8-dd18-4f60-8898-506a2217ed4f",
   "metadata": {},
   "outputs": [],
   "source": [
    "df.Jackpot = df.Jackpot.astype('float')"
   ]
  },
  {
   "cell_type": "code",
   "execution_count": 67,
   "id": "b09aee42-9a2c-460f-a804-e88a030b19b6",
   "metadata": {},
   "outputs": [
    {
     "data": {
      "text/plain": [
       "<Axes: ylabel='Frequency'>"
      ]
     },
     "execution_count": 67,
     "metadata": {},
     "output_type": "execute_result"
    },
    {
     "data": {
      "image/png": "[encoded data removed]",
      "text/plain": [
       "<Figure size 640x480 with 1 Axes>"
      ]
     },
     "metadata": {},
     "output_type": "display_data"
    }
   ],
   "source": [
    "df.Jackpot.plot(kind='hist')"
   ]
  },
  {
   "cell_type": "code",
   "execution_count": 72,
   "id": "afa1d61e-edce-4e51-8255-5d4667bde273",
   "metadata": {},
   "outputs": [
    {
     "data": {
      "text/plain": [
       "<Axes: xlabel='Jackpot', ylabel='Count'>"
      ]
     },
     "execution_count": 72,
     "metadata": {},
     "output_type": "execute_result"
    },
    {
     "data": {
      "image/png": "[encoded data removed]",
      "text/plain": [
       "<Figure size 640x480 with 1 Axes>"
      ]
     },
     "metadata": {},
     "output_type": "display_data"
    }
   ],
   "source": [
    "sns.histplot(data=df, x = df.Jackpot, hue = 'Win/Rollover')"
   ]
  },
  {
   "cell_type": "code",
   "execution_count": null,
   "id": "1277911f-7d77-427d-9565-4069703e7c96",
   "metadata": {},
   "outputs": [],
   "source": [
    ", hue = 'Win/Rollover'"
   ]
  }
 ],
 "metadata": {
  "kernelspec": {
   "display_name": "Python 3 (ipykernel)",
   "language": "python",
   "name": "python3"
  },
  "language_info": {
   "codemirror_mode": {
    "name": "ipython",
    "version": 3
   },
   "file_extension": ".py",
   "mimetype": "text/x-python",
   "name": "python",
   "nbconvert_exporter": "python",
   "pygments_lexer": "ipython3",
   "version": "3.12.2"
  }
 },
 "nbformat": 4,
 "nbformat_minor": 5
}
