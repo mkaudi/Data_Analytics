{
 "cells": [
  {
   "cell_type": "code",
   "execution_count": 1,
   "id": "e7c80ece",
   "metadata": {},
   "outputs": [],
   "source": [
    "import numpy as np\n",
    "import pandas as pd\n",
    "import matplotlib.pyplot as plt\n",
    "import seaborn as sns"
   ]
  },
  {
   "cell_type": "code",
   "execution_count": 12,
   "id": "07444c46",
   "metadata": {},
   "outputs": [],
   "source": [
    "df_boosters = pd.read_excel(\"SGS_Cell-Extender.xlsx\")\n",
    "df_sites = pd.read_excel(\"SGS_Site_List_20230802.xlsx\")"
   ]
  },
  {
   "cell_type": "code",
   "execution_count": 3,
   "id": "620e848a",
   "metadata": {},
   "outputs": [
    {
     "data": {
      "text/html": [
       "<div>\n",
       "<style scoped>\n",
       "    .dataframe tbody tr th:only-of-type {\n",
       "        vertical-align: middle;\n",
       "    }\n",
       "\n",
       "    .dataframe tbody tr th {\n",
       "        vertical-align: top;\n",
       "    }\n",
       "\n",
       "    .dataframe thead th {\n",
       "        text-align: right;\n",
       "    }\n",
       "</style>\n",
       "<table border=\"1\" class=\"dataframe\">\n",
       "  <thead>\n",
       "    <tr style=\"text-align: right;\">\n",
       "      <th></th>\n",
       "      <th>RoproProjectID</th>\n",
       "      <th>SecondCutRefID</th>\n",
       "      <th>RemedyRefID</th>\n",
       "      <th>ProjectSubType</th>\n",
       "      <th>RequestedBy</th>\n",
       "      <th>RequestedDate</th>\n",
       "      <th>CreatedBy</th>\n",
       "      <th>CreatedOn</th>\n",
       "      <th>Status</th>\n",
       "      <th>ProjectStatus</th>\n",
       "      <th>...</th>\n",
       "      <th>Latitude</th>\n",
       "      <th>Longitude</th>\n",
       "      <th>CBU/EBU</th>\n",
       "      <th>EquipmentType</th>\n",
       "      <th>TrialDate</th>\n",
       "      <th>MSISDN</th>\n",
       "      <th>Segment</th>\n",
       "      <th>CompanyName</th>\n",
       "      <th>AccountNumber</th>\n",
       "      <th>AverageSpend</th>\n",
       "    </tr>\n",
       "  </thead>\n",
       "  <tbody>\n",
       "    <tr>\n",
       "      <th>0</th>\n",
       "      <td>A36QEV</td>\n",
       "      <td>INC0N0013121717</td>\n",
       "      <td>INC0N0013121717</td>\n",
       "      <td>CELL_EXTENDER</td>\n",
       "      <td>Stephen Ramalepa</td>\n",
       "      <td>2023-07-14</td>\n",
       "      <td>ramalest</td>\n",
       "      <td>2023-07-14</td>\n",
       "      <td>Open</td>\n",
       "      <td>O</td>\n",
       "      <td>...</td>\n",
       "      <td>-26.304840</td>\n",
       "      <td>28.196073</td>\n",
       "      <td>CBU</td>\n",
       "      <td>Cel-Fi Duo Dual-Band Smart Repeater</td>\n",
       "      <td>2023-07-12</td>\n",
       "      <td>0795817752</td>\n",
       "      <td>NaN</td>\n",
       "      <td>NaN</td>\n",
       "      <td>NaN</td>\n",
       "      <td>NaN</td>\n",
       "    </tr>\n",
       "    <tr>\n",
       "      <th>1</th>\n",
       "      <td>A36QDI</td>\n",
       "      <td>INC0N0012981409</td>\n",
       "      <td>INC0N0012981409</td>\n",
       "      <td>CELL_EXTENDER</td>\n",
       "      <td>Sipho Tshelane</td>\n",
       "      <td>2023-07-05</td>\n",
       "      <td>tshelanes</td>\n",
       "      <td>2023-07-05</td>\n",
       "      <td>Open</td>\n",
       "      <td>O</td>\n",
       "      <td>...</td>\n",
       "      <td>-26.350424</td>\n",
       "      <td>28.105366</td>\n",
       "      <td>NaN</td>\n",
       "      <td>Cel-Fi Duo Dual-Band Smart Repeater</td>\n",
       "      <td>2023-06-28</td>\n",
       "      <td>0761687785</td>\n",
       "      <td>NaN</td>\n",
       "      <td>NaN</td>\n",
       "      <td>NaN</td>\n",
       "      <td>NaN</td>\n",
       "    </tr>\n",
       "    <tr>\n",
       "      <th>2</th>\n",
       "      <td>A36QD8</td>\n",
       "      <td>INC0N0013024776</td>\n",
       "      <td>INC0N0013024776</td>\n",
       "      <td>CELL_EXTENDER</td>\n",
       "      <td>Sipho Tshelane</td>\n",
       "      <td>2023-07-03</td>\n",
       "      <td>tshelanes</td>\n",
       "      <td>2023-07-03</td>\n",
       "      <td>Open</td>\n",
       "      <td>O</td>\n",
       "      <td>...</td>\n",
       "      <td>-26.272593</td>\n",
       "      <td>28.027592</td>\n",
       "      <td>NaN</td>\n",
       "      <td>Cel-Fi Duo Dual-Band Smart Repeater</td>\n",
       "      <td>2023-06-28</td>\n",
       "      <td>0713785431</td>\n",
       "      <td>NaN</td>\n",
       "      <td>NaN</td>\n",
       "      <td>NaN</td>\n",
       "      <td>667.3454</td>\n",
       "    </tr>\n",
       "    <tr>\n",
       "      <th>3</th>\n",
       "      <td>A36QD6</td>\n",
       "      <td>INC0N0013035579</td>\n",
       "      <td>INC0N0013035579</td>\n",
       "      <td>CELL_EXTENDER</td>\n",
       "      <td>Sipho Tshelane</td>\n",
       "      <td>2023-07-03</td>\n",
       "      <td>tshelanes</td>\n",
       "      <td>2023-07-03</td>\n",
       "      <td>Open</td>\n",
       "      <td>O</td>\n",
       "      <td>...</td>\n",
       "      <td>-26.177059</td>\n",
       "      <td>28.032081</td>\n",
       "      <td>NaN</td>\n",
       "      <td>Cel-Fi Go-X</td>\n",
       "      <td>2023-06-27</td>\n",
       "      <td>0824433330</td>\n",
       "      <td>Medium Enterprises</td>\n",
       "      <td>TIM DU TOIT &amp; KIE</td>\n",
       "      <td>N2682957</td>\n",
       "      <td>2906.0386</td>\n",
       "    </tr>\n",
       "    <tr>\n",
       "      <th>4</th>\n",
       "      <td>A36QD5</td>\n",
       "      <td>INC0N0012837167</td>\n",
       "      <td>INC0N0012837167</td>\n",
       "      <td>CELL_EXTENDER</td>\n",
       "      <td>Sipho Tshelane</td>\n",
       "      <td>2023-07-03</td>\n",
       "      <td>tshelanes</td>\n",
       "      <td>2023-07-03</td>\n",
       "      <td>Open</td>\n",
       "      <td>O</td>\n",
       "      <td>...</td>\n",
       "      <td>-26.183005</td>\n",
       "      <td>28.562718</td>\n",
       "      <td>NaN</td>\n",
       "      <td>Cel-Fi Duo Dual-Band Smart Repeater</td>\n",
       "      <td>2023-06-28</td>\n",
       "      <td>0837774447</td>\n",
       "      <td>Medium Enterprises</td>\n",
       "      <td>GROUND WATER PRAC</td>\n",
       "      <td>B0023782</td>\n",
       "      <td>1539.7562</td>\n",
       "    </tr>\n",
       "  </tbody>\n",
       "</table>\n",
       "<p>5 rows × 30 columns</p>\n",
       "</div>"
      ],
      "text/plain": [
       "  RoproProjectID   SecondCutRefID      RemedyRefID ProjectSubType   \n",
       "0         A36QEV  INC0N0013121717  INC0N0013121717  CELL_EXTENDER  \\\n",
       "1         A36QDI  INC0N0012981409  INC0N0012981409  CELL_EXTENDER   \n",
       "2         A36QD8  INC0N0013024776  INC0N0013024776  CELL_EXTENDER   \n",
       "3         A36QD6  INC0N0013035579  INC0N0013035579  CELL_EXTENDER   \n",
       "4         A36QD5  INC0N0012837167  INC0N0012837167  CELL_EXTENDER   \n",
       "\n",
       "        RequestedBy RequestedDate  CreatedBy   CreatedOn Status ProjectStatus   \n",
       "0  Stephen Ramalepa    2023-07-14   ramalest  2023-07-14   Open             O  \\\n",
       "1    Sipho Tshelane    2023-07-05  tshelanes  2023-07-05   Open             O   \n",
       "2    Sipho Tshelane    2023-07-03  tshelanes  2023-07-03   Open             O   \n",
       "3    Sipho Tshelane    2023-07-03  tshelanes  2023-07-03   Open             O   \n",
       "4    Sipho Tshelane    2023-07-03  tshelanes  2023-07-03   Open             O   \n",
       "\n",
       "   ...   Latitude  Longitude CBU/EBU                        EquipmentType   \n",
       "0  ... -26.304840  28.196073     CBU  Cel-Fi Duo Dual-Band Smart Repeater  \\\n",
       "1  ... -26.350424  28.105366     NaN  Cel-Fi Duo Dual-Band Smart Repeater   \n",
       "2  ... -26.272593  28.027592     NaN  Cel-Fi Duo Dual-Band Smart Repeater   \n",
       "3  ... -26.177059  28.032081     NaN                          Cel-Fi Go-X   \n",
       "4  ... -26.183005  28.562718     NaN  Cel-Fi Duo Dual-Band Smart Repeater   \n",
       "\n",
       "    TrialDate      MSISDN             Segment        CompanyName   \n",
       "0  2023-07-12  0795817752                 NaN                NaN  \\\n",
       "1  2023-06-28  0761687785                 NaN                NaN   \n",
       "2  2023-06-28  0713785431                 NaN                NaN   \n",
       "3  2023-06-27  0824433330  Medium Enterprises  TIM DU TOIT & KIE   \n",
       "4  2023-06-28  0837774447  Medium Enterprises  GROUND WATER PRAC   \n",
       "\n",
       "  AccountNumber AverageSpend  \n",
       "0           NaN          NaN  \n",
       "1           NaN          NaN  \n",
       "2           NaN     667.3454  \n",
       "3      N2682957    2906.0386  \n",
       "4      B0023782    1539.7562  \n",
       "\n",
       "[5 rows x 30 columns]"
      ]
     },
     "execution_count": 3,
     "metadata": {},
     "output_type": "execute_result"
    }
   ],
   "source": [
    "df_boosters.head()"
   ]
  },
  {
   "cell_type": "code",
   "execution_count": 4,
   "id": "3b26860c",
   "metadata": {},
   "outputs": [
    {
     "data": {
      "text/html": [
       "<div>\n",
       "<style scoped>\n",
       "    .dataframe tbody tr th:only-of-type {\n",
       "        vertical-align: middle;\n",
       "    }\n",
       "\n",
       "    .dataframe tbody tr th {\n",
       "        vertical-align: top;\n",
       "    }\n",
       "\n",
       "    .dataframe thead th {\n",
       "        text-align: right;\n",
       "    }\n",
       "</style>\n",
       "<table border=\"1\" class=\"dataframe\">\n",
       "  <thead>\n",
       "    <tr style=\"text-align: right;\">\n",
       "      <th></th>\n",
       "      <th>Site_ID</th>\n",
       "      <th>Lat</th>\n",
       "      <th>Long</th>\n",
       "      <th>First Live</th>\n",
       "      <th>County</th>\n",
       "    </tr>\n",
       "  </thead>\n",
       "  <tbody>\n",
       "    <tr>\n",
       "      <th>0</th>\n",
       "      <td>NaN</td>\n",
       "      <td></td>\n",
       "      <td></td>\n",
       "      <td>2017/03/13 00:00:00</td>\n",
       "      <td>UNK</td>\n",
       "    </tr>\n",
       "    <tr>\n",
       "      <th>1</th>\n",
       "      <td>NaN</td>\n",
       "      <td></td>\n",
       "      <td></td>\n",
       "      <td>2018/04/28 00:00:00</td>\n",
       "      <td>UNK</td>\n",
       "    </tr>\n",
       "    <tr>\n",
       "      <th>2</th>\n",
       "      <td>NaN</td>\n",
       "      <td></td>\n",
       "      <td></td>\n",
       "      <td>2020/02/06 00:00:00</td>\n",
       "      <td>Deep South</td>\n",
       "    </tr>\n",
       "    <tr>\n",
       "      <th>3</th>\n",
       "      <td>NaN</td>\n",
       "      <td></td>\n",
       "      <td></td>\n",
       "      <td>2020/02/06 00:00:00</td>\n",
       "      <td>UNK</td>\n",
       "    </tr>\n",
       "    <tr>\n",
       "      <th>4</th>\n",
       "      <td>NaN</td>\n",
       "      <td></td>\n",
       "      <td></td>\n",
       "      <td>2020/05/15 00:00:00</td>\n",
       "      <td>Deep South</td>\n",
       "    </tr>\n",
       "  </tbody>\n",
       "</table>\n",
       "</div>"
      ],
      "text/plain": [
       "  Site_ID Lat Long            First Live       County\n",
       "0     NaN            2017/03/13 00:00:00          UNK\n",
       "1     NaN            2018/04/28 00:00:00          UNK\n",
       "2     NaN            2020/02/06 00:00:00   Deep South\n",
       "3     NaN            2020/02/06 00:00:00          UNK\n",
       "4     NaN            2020/05/15 00:00:00   Deep South"
      ]
     },
     "execution_count": 4,
     "metadata": {},
     "output_type": "execute_result"
    }
   ],
   "source": [
    "df_sites.head()"
   ]
  },
  {
   "cell_type": "code",
   "execution_count": 15,
   "id": "fa38d3e9",
   "metadata": {},
   "outputs": [
    {
     "data": {
      "text/plain": [
       "Site_ID  Lat    Long   First Live  County\n",
       "False    False  False  False       False     6431\n",
       "True     False  False  False       False       11\n",
       "Name: count, dtype: int64"
      ]
     },
     "execution_count": 15,
     "metadata": {},
     "output_type": "execute_result"
    }
   ],
   "source": [
    "df_sites.isna().value_counts()"
   ]
  },
  {
   "cell_type": "code",
   "execution_count": 17,
   "id": "22e863d2",
   "metadata": {
    "scrolled": false
   },
   "outputs": [],
   "source": [
    "df_sites = df_sites.dropna(subset=['Site_ID'], axis=\"index\") #delete rows with null site ids"
   ]
  },
  {
   "cell_type": "code",
   "execution_count": 18,
   "id": "1de7128d",
   "metadata": {},
   "outputs": [
    {
     "data": {
      "text/html": [
       "<div>\n",
       "<style scoped>\n",
       "    .dataframe tbody tr th:only-of-type {\n",
       "        vertical-align: middle;\n",
       "    }\n",
       "\n",
       "    .dataframe tbody tr th {\n",
       "        vertical-align: top;\n",
       "    }\n",
       "\n",
       "    .dataframe thead th {\n",
       "        text-align: right;\n",
       "    }\n",
       "</style>\n",
       "<table border=\"1\" class=\"dataframe\">\n",
       "  <thead>\n",
       "    <tr style=\"text-align: right;\">\n",
       "      <th></th>\n",
       "      <th>Site_ID</th>\n",
       "      <th>Lat</th>\n",
       "      <th>Long</th>\n",
       "      <th>First Live</th>\n",
       "      <th>County</th>\n",
       "    </tr>\n",
       "  </thead>\n",
       "  <tbody>\n",
       "    <tr>\n",
       "      <th>11</th>\n",
       "      <td>SGS_1001</td>\n",
       "      <td>-25.976379</td>\n",
       "      <td>27.852592</td>\n",
       "      <td>2016/12/03 00:00:00</td>\n",
       "      <td>Jozi West</td>\n",
       "    </tr>\n",
       "    <tr>\n",
       "      <th>12</th>\n",
       "      <td>SGS_1001</td>\n",
       "      <td>-25.976379</td>\n",
       "      <td>27.852592</td>\n",
       "      <td>2016/12/14 00:00:00</td>\n",
       "      <td>Jozi West</td>\n",
       "    </tr>\n",
       "    <tr>\n",
       "      <th>13</th>\n",
       "      <td>SGS_1001</td>\n",
       "      <td>-25.976379</td>\n",
       "      <td>27.852592</td>\n",
       "      <td>2018/08/11 00:00:00</td>\n",
       "      <td>Jozi West</td>\n",
       "    </tr>\n",
       "    <tr>\n",
       "      <th>14</th>\n",
       "      <td>SGS_1001</td>\n",
       "      <td>-25.976379</td>\n",
       "      <td>27.852592</td>\n",
       "      <td>2020/09/01 00:00:00</td>\n",
       "      <td>Jozi West</td>\n",
       "    </tr>\n",
       "    <tr>\n",
       "      <th>15</th>\n",
       "      <td>SGS_1001</td>\n",
       "      <td>-25.976379</td>\n",
       "      <td>27.852592</td>\n",
       "      <td>2020/09/23 00:00:00</td>\n",
       "      <td>Jozi West</td>\n",
       "    </tr>\n",
       "  </tbody>\n",
       "</table>\n",
       "</div>"
      ],
      "text/plain": [
       "     Site_ID        Lat       Long            First Live      County\n",
       "11  SGS_1001 -25.976379  27.852592   2016/12/03 00:00:00   Jozi West\n",
       "12  SGS_1001 -25.976379  27.852592   2016/12/14 00:00:00   Jozi West\n",
       "13  SGS_1001 -25.976379  27.852592   2018/08/11 00:00:00   Jozi West\n",
       "14  SGS_1001 -25.976379  27.852592   2020/09/01 00:00:00   Jozi West\n",
       "15  SGS_1001 -25.976379  27.852592   2020/09/23 00:00:00   Jozi West"
      ]
     },
     "execution_count": 18,
     "metadata": {},
     "output_type": "execute_result"
    }
   ],
   "source": [
    "df_sites.head()"
   ]
  },
  {
   "cell_type": "code",
   "execution_count": 19,
   "id": "22cd2252",
   "metadata": {},
   "outputs": [
    {
     "data": {
      "text/plain": [
       "Site_ID  Lat    Long   First Live  County\n",
       "False    False  False  False       False     6431\n",
       "Name: count, dtype: int64"
      ]
     },
     "execution_count": 19,
     "metadata": {},
     "output_type": "execute_result"
    }
   ],
   "source": [
    "df_sites.isna().value_counts()"
   ]
  },
  {
   "cell_type": "code",
   "execution_count": 21,
   "id": "c7f997f7",
   "metadata": {},
   "outputs": [
    {
     "data": {
      "text/plain": [
       "1056"
      ]
     },
     "execution_count": 21,
     "metadata": {},
     "output_type": "execute_result"
    }
   ],
   "source": [
    "df_boosters.isna().value_counts().sum()"
   ]
  },
  {
   "cell_type": "code",
   "execution_count": 22,
   "id": "e0b244da",
   "metadata": {},
   "outputs": [
    {
     "data": {
      "text/plain": [
       "Index(['RoproProjectID', 'SecondCutRefID', 'RemedyRefID', 'ProjectSubType',\n",
       "       'RequestedBy', 'RequestedDate', 'CreatedBy', 'CreatedOn', 'Status',\n",
       "       'ProjectStatus', 'Region', 'County', 'CurrentTask', 'CurrentQueue',\n",
       "       'CurrentTaskCreated', 'LastUpdatedBy', 'LastUpdatedDate', 'ClientName',\n",
       "       'ClientNumber', 'ClientAddress', 'Latitude', 'Longitude', 'CBU/EBU',\n",
       "       'EquipmentType', 'TrialDate', 'MSISDN', 'Segment', 'CompanyName',\n",
       "       'AccountNumber', 'AverageSpend'],\n",
       "      dtype='object')"
      ]
     },
     "execution_count": 22,
     "metadata": {},
     "output_type": "execute_result"
    }
   ],
   "source": [
    "df_boosters.columns"
   ]
  },
  {
   "cell_type": "code",
   "execution_count": null,
   "id": "33348056",
   "metadata": {},
   "outputs": [],
   "source": [
    "df_boosters = df_booster.drop(columns=['RoproProjectID', 'RoproProjectID', 'RemedyRefID', 'ProjectSubType',\n",
    "       'RequestedBy', 'CreatedBy', 'Status', 'ProjectStatus', 'Region', 'County', 'CurrentTask', 'CurrentQueue',\n",
    "       'CurrentTaskCreated', 'LastUpdatedBy', 'LastUpdatedDate', 'ClientName',\n",
    "       'ClientNumber', 'ClientAddress', 'Latitude', 'Longitude', 'CBU/EBU',\n",
    "       'EquipmentType', 'TrialDate', 'MSISDN', 'Segment', 'CompanyName',\n",
    "       'AccountNumber', 'AverageSpend'])"
   ]
  }
 ],
 "metadata": {
  "kernelspec": {
   "display_name": "Python 3 (ipykernel)",
   "language": "python",
   "name": "python3"
  },
  "language_info": {
   "codemirror_mode": {
    "name": "ipython",
    "version": 3
   },
   "file_extension": ".py",
   "mimetype": "text/x-python",
   "name": "python",
   "nbconvert_exporter": "python",
   "pygments_lexer": "ipython3",
   "version": "3.10.4"
  }
 },
 "nbformat": 4,
 "nbformat_minor": 5
}
